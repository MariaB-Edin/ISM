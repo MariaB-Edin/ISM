{
 "cells": [
  {
   "cell_type": "markdown",
   "metadata": {},
   "source": [
    "# ISM Week 05 Tutorial Step 2\n",
    "\n",
    "This tutorial will ask you questions very similar to the ones we worked through in week 03 and the material that will be covered by the weekly test in week05. Specifically:\n",
    "\n",
    "* Extracting data from Capital IQ\n"
   ]
  },
  {
   "cell_type": "code",
   "execution_count": null,
   "metadata": {},
   "outputs": [],
   "source": [
    "# importing necessary libraries, please press Shift + Enter to run\n",
    "import pandas as pd\n",
    "import numpy as np\n"
   ]
  },
  {
   "cell_type": "markdown",
   "metadata": {},
   "source": [
    "### Exercise 1: Stock analysis in Capital IQ. \n",
    "\n",
    "Log in Capital IQ and in the search field enter the company id assigned to you.\n",
    "\n",
    "Tasks:\n",
    "1. Examine the 3-year price history of your company and compare it to the that of the S&P500 Index and your company's closest competitor.\n",
    "2. Download the monthly price history of your company and its closest competitor from Capital IQ's excel add-in for the period December 2017 - December 2019. Arrange the dates down the rows with the two columns containing the prices named pr_my and pr_comp. Save the data as a csv file named pr.csv and upload it here in the test folder.\n"
   ]
  },
  {
   "cell_type": "code",
   "execution_count": null,
   "metadata": {},
   "outputs": [],
   "source": [
    "# once you have uploaded the csv file in the tutorial folder you can read them in\n",
    "\n",
    "prices = pd.read_csv(\"pr.csv\", index_col=0)\n",
    "prices.head()\n"
   ]
  }
 ],
 "metadata": {
  "celltoolbar": "Create Assignment",
  "kernelspec": {
   "display_name": "Python 3",
   "language": "python",
   "name": "python3"
  },
  "language_info": {
   "codemirror_mode": {
    "name": "ipython",
    "version": 3
   },
   "file_extension": ".py",
   "mimetype": "text/x-python",
   "name": "python",
   "nbconvert_exporter": "python",
   "pygments_lexer": "ipython3",
   "version": "3.7.6"
  }
 },
 "nbformat": 4,
 "nbformat_minor": 2
}

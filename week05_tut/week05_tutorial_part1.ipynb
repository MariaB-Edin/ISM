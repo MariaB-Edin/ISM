{
 "cells": [
  {
   "cell_type": "markdown",
   "metadata": {},
   "source": [
    "# ISM Week 05 Tutorial Step 1\n",
    "\n",
    "Get your company id by running the cell below and perform the tasks in the next notebooks.\n"
   ]
  },
  {
   "cell_type": "code",
   "execution_count": null,
   "metadata": {
    "scrolled": true
   },
   "outputs": [],
   "source": [
    "# defines a function that will take student input and verify\n",
    "# Students, please press Shift + Enter to run this cell and then enter your B-number when prompted\n",
    "# Otherwise ignore this code - not required for course\n",
    "\n",
    "import pandas as pd\n",
    "ids = pd.read_csv(\"bnums_ids_tut.csv\", index_col=0)\n",
    "# B117181\n",
    "\n",
    "def b_num_input():\n",
    "    b_num = input(\"Please enter your B-number: \")\n",
    "    while True:\n",
    "        if len(b_num) != 7:\n",
    "            print(\"You have entered \", b_num, \"This seems to not be 7 characters. If you are sure, type Y, otherwise type N to enter it again.\")\n",
    "            conf = input(\"Are you sure (Y/N): \")\n",
    "            if conf == \"Y\":\n",
    "                break\n",
    "            else:\n",
    "                b_num = input(\"Please enter your B-number: \")\n",
    "        else:\n",
    "            break\n",
    "    try:\n",
    "        aux = ids.loc[b_num,'capiq_id']\n",
    "        print(\"Your company id is: \", aux)\n",
    "        return aux\n",
    "    except:\n",
    "        print(\"You have entered \", b_num, \"This B-number is not in the class list. Please contact the course secretary.\")\n",
    "co_id = b_num_input()\n",
    "co_id"
   ]
  }
 ],
 "metadata": {
  "celltoolbar": "Create Assignment",
  "kernelspec": {
   "display_name": "Python 3",
   "language": "python",
   "name": "python3"
  },
  "language_info": {
   "codemirror_mode": {
    "name": "ipython",
    "version": 3
   },
   "file_extension": ".py",
   "mimetype": "text/x-python",
   "name": "python",
   "nbconvert_exporter": "python",
   "pygments_lexer": "ipython3",
   "version": "3.7.6"
  }
 },
 "nbformat": 4,
 "nbformat_minor": 2
}

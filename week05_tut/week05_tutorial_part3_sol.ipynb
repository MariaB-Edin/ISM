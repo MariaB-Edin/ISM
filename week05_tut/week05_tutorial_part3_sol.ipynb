{
 "cells": [
  {
   "cell_type": "markdown",
   "metadata": {},
   "source": [
    "# ISM Week 05 Tutorial Step 3 Solutions\n",
    "\n",
    "\n",
    "This tutorial will ask you questions very similar to the ones we worked through in week 03 and the material that will be covered by the weekly test in week05. Here we cover:\n",
    "\n",
    "* Portfolio expected return and variance\n"
   ]
  },
  {
   "cell_type": "code",
   "execution_count": null,
   "metadata": {},
   "outputs": [],
   "source": [
    "# importing necessary libraries, please press Shift + Enter to run\n",
    "import pandas as pd\n",
    "import numpy as np\n"
   ]
  },
  {
   "cell_type": "code",
   "execution_count": null,
   "metadata": {},
   "outputs": [],
   "source": [
    "# read in your prices\n",
    "\n",
    "prices = pd.read_csv(\"pr.csv\", index_col=0)\n",
    "prices.head()\n"
   ]
  },
  {
   "cell_type": "markdown",
   "metadata": {},
   "source": [
    "### Exercise 2\n",
    "\n",
    "Use the data you imported to perform the following tasks.\n",
    "\n",
    "Tasks:\n",
    "1. Calculate the returns, average returns and standard deviations for your company and its competitor. Name the containers returns, means and stds.\n",
    "2. Calculate the covariance and correlation coefficient for the two stocks.\n",
    "3. Form a portfolio of the two stocks with 30% of the capital in your stock and the remainder in the competitor stock and compute the portfolio average return and standard deviation.\n"
   ]
  },
  {
   "cell_type": "code",
   "execution_count": null,
   "metadata": {},
   "outputs": [],
   "source": [
    "# compute the returns and name the container rets\n",
    "# rename the columns of the returns dataframe to be ret_my and ret_comp, like so: returns.columns = ['ret_my','ret_comp']\n",
    "\n",
    "rets = prices / prices.shift(1) - 1\n",
    "rets.columns = ['ret_my','ret_comp']\n",
    "rets.head()"
   ]
  },
  {
   "cell_type": "code",
   "execution_count": null,
   "metadata": {},
   "outputs": [],
   "source": [
    "# compute the means and name the container mn\n",
    "mn = rets.mean()\n",
    "mn"
   ]
  },
  {
   "cell_type": "code",
   "execution_count": null,
   "metadata": {},
   "outputs": [],
   "source": [
    "# compute the variances and name the container vr\n",
    "vr = rets.var()\n",
    "vr"
   ]
  },
  {
   "cell_type": "code",
   "execution_count": null,
   "metadata": {},
   "outputs": [],
   "source": [
    "# compute the standard deviations and name the container sd\n",
    "sd = rets.std()\n",
    "sd"
   ]
  },
  {
   "cell_type": "code",
   "execution_count": null,
   "metadata": {},
   "outputs": [],
   "source": [
    "# Calculate the covariance for the two stocks. Name it cv.\n",
    "# Note that the cov() function produces a matrix.\n",
    "# the way we extract a single element from a matrix is:\n",
    "# cv = cov_mat.loc['ret_my','ret_comp'], where the name of the var-cov matrix is cov_mat\n",
    "\n",
    "cov_mat = rets.cov()\n",
    "cv = cov_mat.loc['ret_my','ret_comp']\n",
    "cv"
   ]
  },
  {
   "cell_type": "code",
   "execution_count": null,
   "metadata": {},
   "outputs": [],
   "source": [
    "# Calculate the correlation coefficient for the two stocks. Name it cr.\n",
    "cr = cv/(sd.ret_my*sd.ret_comp)\n",
    "cr"
   ]
  },
  {
   "cell_type": "code",
   "execution_count": null,
   "metadata": {},
   "outputs": [],
   "source": [
    "# declare a variable named weight = .3\n",
    "# calculate the portfolio average return and name it pt_mean\n",
    "\n",
    "weight = .3\n",
    "\n",
    "pt_mean = mn.loc['ret_my']*weight + mn.loc['ret_comp']*(1-weight)\n",
    "pt_mean"
   ]
  },
  {
   "cell_type": "code",
   "execution_count": null,
   "metadata": {},
   "outputs": [],
   "source": [
    "# calculate the portfolio standard deviation and name it pt_sd\n",
    "\n",
    "pt_sd = ((sd.loc['ret_my']*weight)**2 + (sd.loc['ret_comp']*(1-weight))**2 + 2*weight*(1-weight)*cv)**(1/2)\n",
    "pt_sd"
   ]
  }
 ],
 "metadata": {
  "celltoolbar": "Create Assignment",
  "kernelspec": {
   "display_name": "Python 3",
   "language": "python",
   "name": "python3"
  },
  "language_info": {
   "codemirror_mode": {
    "name": "ipython",
    "version": 3
   },
   "file_extension": ".py",
   "mimetype": "text/x-python",
   "name": "python",
   "nbconvert_exporter": "python",
   "pygments_lexer": "ipython3",
   "version": "3.7.6"
  }
 },
 "nbformat": 4,
 "nbformat_minor": 2
}

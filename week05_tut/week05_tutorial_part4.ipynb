{
 "cells": [
  {
   "cell_type": "markdown",
   "metadata": {},
   "source": [
    "# ISM Week 05 Tutorial Step 4\n",
    "\n",
    "\n",
    "This tutorial will ask you questions very similar to the ones we worked through in week 03 and the material that will be cover by the weekly test in week05. It will cover MCQs on:\n",
    "\n",
    "* Portfolio expected return and variance\n"
   ]
  },
  {
   "cell_type": "markdown",
   "metadata": {},
   "source": [
    "### Exercise 3\n",
    "\n",
    "Answer the following MCQs."
   ]
  },
  {
   "cell_type": "raw",
   "metadata": {},
   "source": [
    "MCQ 1\n",
    "\n",
    "The variance of a portfolio of risky securities\n",
    "\n",
    "Option 1: is a weighted sum of the securities' variances.\n",
    "Option 2: is the sum of the securities' variances.\n",
    "Option 3: is the weighted sum of the securities' variances and covariances.\n",
    "Option 4: is the sum of the securities' covariances.\n",
    "Option 5: None of the options are correct."
   ]
  },
  {
   "cell_type": "code",
   "execution_count": null,
   "metadata": {},
   "outputs": [],
   "source": [
    "# enter your solution like so, where you replace 0 with your chosen option\n",
    "test1 = 0"
   ]
  },
  {
   "cell_type": "raw",
   "metadata": {},
   "source": [
    "MCQ 2\n",
    "\n",
    "Other things equal, diversification is most effective when\n",
    "\n",
    "Option 1: securities' returns are uncorrelated.\n",
    "Option 2: securities' returns are positively correlated.\n",
    "Option 3: securities' returns are high.\n",
    "Option 4: securities' returns are negatively correlated.\n",
    "Option 5: securities' returns are positively correlated and high."
   ]
  },
  {
   "cell_type": "code",
   "execution_count": null,
   "metadata": {},
   "outputs": [],
   "source": [
    "# enter your solution like so, where you replace 0 with your chosen option\n",
    "test2 = 0"
   ]
  },
  {
   "cell_type": "raw",
   "metadata": {},
   "source": [
    "MCQ 3\n",
    "\n",
    "\n",
    "Which of the following statement(s) is(are) true regarding the variance of a portfolio of two risky securities?\n",
    "\n",
    "I. The higher the coefficient of correlation between securities, the greater the reduction in the portfolio variance.\n",
    "II. There is a linear relationship between the securities' coefficient of correlation and the portfolio variance.\n",
    "III. The degree to which the portfolio variance is reduced depends on the degree of correlation between securities.\n",
    "\n",
    "Option 1: I only\n",
    "Option 2: II only\n",
    "Option 3: III only\n",
    "Option 4: I and II\n",
    "Option 5: I and III"
   ]
  },
  {
   "cell_type": "code",
   "execution_count": null,
   "metadata": {},
   "outputs": [],
   "source": [
    "# enter your solution like so, where you replace 0 with your chosen option\n",
    "test3 = 0"
   ]
  }
 ],
 "metadata": {
  "celltoolbar": "Create Assignment",
  "kernelspec": {
   "display_name": "Python 3",
   "language": "python",
   "name": "python3"
  },
  "language_info": {
   "codemirror_mode": {
    "name": "ipython",
    "version": 3
   },
   "file_extension": ".py",
   "mimetype": "text/x-python",
   "name": "python",
   "nbconvert_exporter": "python",
   "pygments_lexer": "ipython3",
   "version": "3.7.6"
  }
 },
 "nbformat": 4,
 "nbformat_minor": 2
}

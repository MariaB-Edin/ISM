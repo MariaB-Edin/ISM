{
 "cells": [
  {
   "cell_type": "markdown",
   "metadata": {},
   "source": [
    "# ISM Lecture 3 Part 1 Solutions\n",
    "\n",
    "This content is authored by Maria Boutchkova for use in the University of Edinbugh Business School Investment and Securities Markets course in Autumn 2020. \n",
    "\n",
    "Make sure to have watched the videos preceeding this Notebook and have covered the slides. Detailed explanations in the assigned textbook chapters.\n",
    "\n",
    "This lesson covers:\n",
    "\n",
    "* Population Means (measures of Average Return) and Variances (measures of risk) (note that we did the Sample Means and Variance formulas in week02)\n",
    "\n",
    "The first computational cell below (with In \\[ \\] in front) contains the solution. Go over the command lines, make sure they make sense to you, click inside the cell, it should become surrounded by a green rectangle, press Esc - the rectangle will become blue, now press Shift+Enter - this will execute the cell and produce the results beneath it.\n",
    "\n",
    "To remove all output in the notebook and start again, go to the Kernel tab above, select Restart and Clear Output.\n",
    "\n",
    "In this notebook we use the functionality of the pandas library. If you want to explore its full documetation, see [here](https://pandas.pydata.org/pandas-docs/stable/index.html).\n"
   ]
  },
  {
   "cell_type": "markdown",
   "metadata": {},
   "source": [
    "## Solved Problem 1: Compute Population Means and Variances for a series of values \n",
    "\n",
    "Let us consider three hypothetical assets: IBM, GE and a T-bill and we are given their retuns in three different states of nature: bad, OK and good: \n",
    "\n",
    "IBM: -.04, .08, .16; GE: 0, .04, .12; T-bill: .01, .01, .01\n",
    "\n",
    "Why does it make sense that the T-bill has the same return in each state of nature?\n",
    "\n",
    "We are also given the probabilities with which each state of nature is likely to occur: .25, .5, .25 (Make sure you know why the probabilities have to sum up to 1)\n",
    "\n",
    "Now we are going to compute the population means, variances and standard deviations of IBM and the T-bill."
   ]
  },
  {
   "cell_type": "code",
   "execution_count": 9,
   "metadata": {},
   "outputs": [],
   "source": [
    "# input three series of returns for the three assets and one for the probabilities\n",
    "ibm = [-.04, .08, .16]\n",
    "t_bill = [.01, .01, .01]\n",
    "probs = [.25, .5, .25]\n",
    "# to compute the means we need element wise multiplication of two series which we can do using the pandas library\n",
    "import pandas as pd\n",
    "# I name them _pds for pandas series\n",
    "ibm_pds = pd.Series(ibm)\n",
    "t_bill_pds = pd.Series(t_bill)\n",
    "probs_pds = pd.Series(probs)"
   ]
  },
  {
   "cell_type": "markdown",
   "metadata": {},
   "source": [
    "You might be tempted to apply the mean() function from the pandas library to the return series, but this will prodice which mean?\n",
    "Instead in the following 3 cells we will perform separately the element wise multiplication of each return series times the probability series:"
   ]
  },
  {
   "cell_type": "code",
   "execution_count": 10,
   "metadata": {},
   "outputs": [
    {
     "data": {
      "text/plain": [
       "0   -0.01\n",
       "1    0.04\n",
       "2    0.04\n",
       "dtype: float64"
      ]
     },
     "execution_count": 10,
     "metadata": {},
     "output_type": "execute_result"
    }
   ],
   "source": [
    "ibm_pds.mul(probs_pds)"
   ]
  },
  {
   "cell_type": "code",
   "execution_count": 12,
   "metadata": {},
   "outputs": [
    {
     "data": {
      "text/plain": [
       "0    0.0025\n",
       "1    0.0050\n",
       "2    0.0025\n",
       "dtype: float64"
      ]
     },
     "execution_count": 12,
     "metadata": {},
     "output_type": "execute_result"
    }
   ],
   "source": [
    "t_bill_pds.mul(probs_pds)"
   ]
  },
  {
   "cell_type": "raw",
   "metadata": {},
   "source": [
    "The last step is to sum up these multiplied terms - these will be the population means. Pandas conveniently has a sum() function. Note that we could have done both steps at the same time and we shall do this from now on but here I wanted us to trace the steps of the calculation. See how we apply the sum() finction on the result of the element wise multiplication.\n",
    "Anticipating that we shall need the means below, let us save them in separate variables.\n",
    "Note that python knows that it is supposed the execute the operations form left to right and therefore additional parentheses are unnecessary like so: (ibm_pds.mul(probs_pds)).sum()"
   ]
  },
  {
   "cell_type": "code",
   "execution_count": 22,
   "metadata": {},
   "outputs": [
    {
     "data": {
      "text/plain": [
       "0.07"
      ]
     },
     "execution_count": 22,
     "metadata": {},
     "output_type": "execute_result"
    }
   ],
   "source": [
    "ibm_mean = ibm_pds.mul(probs_pds).sum()\n",
    "ibm_mean"
   ]
  },
  {
   "cell_type": "code",
   "execution_count": 17,
   "metadata": {},
   "outputs": [
    {
     "data": {
      "text/plain": [
       "0.01"
      ]
     },
     "execution_count": 17,
     "metadata": {},
     "output_type": "execute_result"
    }
   ],
   "source": [
    "t_bill_mean = t_bill_pds.mul(probs_pds).sum()\n",
    "t_bill_mean"
   ]
  },
  {
   "cell_type": "raw",
   "metadata": {},
   "source": [
    "And now time for the variance and standard deviation. You should already know what the result is for the T-bill but we shal run the computation nonetheless.\n",
    "Here we need parentheses before mul() - see what happens if we omit them."
   ]
  },
  {
   "cell_type": "code",
   "execution_count": 27,
   "metadata": {},
   "outputs": [
    {
     "data": {
      "text/plain": [
       "0.0051"
      ]
     },
     "execution_count": 27,
     "metadata": {},
     "output_type": "execute_result"
    }
   ],
   "source": [
    "# take each devation from the mean, square it, multiply by the probabilities and finally sum them up\n",
    "((ibm_pds - ibm_mean)**2).mul(probs_pds).sum()"
   ]
  },
  {
   "cell_type": "raw",
   "metadata": {},
   "source": [
    "And finally the standard deviation is just the square root of the variance."
   ]
  },
  {
   "cell_type": "code",
   "execution_count": 29,
   "metadata": {},
   "outputs": [
    {
     "data": {
      "text/plain": [
       "0.07141428428542851"
      ]
     },
     "execution_count": 29,
     "metadata": {},
     "output_type": "execute_result"
    }
   ],
   "source": [
    "((ibm_pds - ibm_mean)**2).mul(probs_pds).sum()**(1/2)"
   ]
  },
  {
   "cell_type": "raw",
   "metadata": {},
   "source": [
    "Lastly, lets verify that the variance (risk) of a risk-free asset is 0."
   ]
  },
  {
   "cell_type": "code",
   "execution_count": 31,
   "metadata": {},
   "outputs": [
    {
     "data": {
      "text/plain": [
       "0.0"
      ]
     },
     "execution_count": 31,
     "metadata": {},
     "output_type": "execute_result"
    }
   ],
   "source": [
    "((t_bill_pds - t_bill_mean)**2).mul(probs_pds).sum()"
   ]
  },
  {
   "cell_type": "code",
   "execution_count": 30,
   "metadata": {},
   "outputs": [
    {
     "data": {
      "text/plain": [
       "0.0"
      ]
     },
     "execution_count": 30,
     "metadata": {},
     "output_type": "execute_result"
    }
   ],
   "source": [
    "((t_bill_pds - t_bill_mean)**2).mul(probs_pds).sum()**(1/2)"
   ]
  },
  {
   "cell_type": "markdown",
   "metadata": {},
   "source": [
    "## Practice Problem 1: Compute Population Means and Variances for a series of values \n",
    "\n",
    "Perform the same computatios for GE: the population mean in the first cell below, followed by the variance and standard deviation in the following cells."
   ]
  },
  {
   "cell_type": "code",
   "execution_count": null,
   "metadata": {},
   "outputs": [],
   "source": [
    "ge = [0, .04, .12]\n",
    "ge_pds = pd.Series(ge)\n",
    "ge_mean = ge_pds.mul(probs_pds).sum()"
   ]
  },
  {
   "cell_type": "code",
   "execution_count": null,
   "metadata": {},
   "outputs": [],
   "source": [
    "((ge_pds - ge_mean)**2).mul(probs_pds).sum()"
   ]
  },
  {
   "cell_type": "code",
   "execution_count": null,
   "metadata": {},
   "outputs": [],
   "source": [
    "((ge_pds - ge_mean)**2).mul(probs_pds).sum()**(1/2)"
   ]
  },
  {
   "cell_type": "markdown",
   "metadata": {},
   "source": [
    "## Extra\n",
    "\n",
    "Play computing the sample means and variances of IBM and GE. How are they different from the population ones? Can we explain the differences with intuition?"
   ]
  },
  {
   "cell_type": "code",
   "execution_count": 35,
   "metadata": {},
   "outputs": [
    {
     "data": {
      "text/plain": [
       "0.06666666666666667"
      ]
     },
     "execution_count": 35,
     "metadata": {},
     "output_type": "execute_result"
    }
   ],
   "source": [
    "ibm_pds.mean()"
   ]
  },
  {
   "cell_type": "code",
   "execution_count": 34,
   "metadata": {
    "scrolled": true
   },
   "outputs": [
    {
     "data": {
      "text/plain": [
       "0.010133333333333334"
      ]
     },
     "execution_count": 34,
     "metadata": {},
     "output_type": "execute_result"
    }
   ],
   "source": [
    "ibm_pds.var()"
   ]
  },
  {
   "cell_type": "code",
   "execution_count": null,
   "metadata": {},
   "outputs": [],
   "source": [
    "ge_pds.mean()"
   ]
  },
  {
   "cell_type": "code",
   "execution_count": null,
   "metadata": {},
   "outputs": [],
   "source": [
    "ge_pds.var()"
   ]
  }
 ],
 "metadata": {
  "kernelspec": {
   "display_name": "Python 3",
   "language": "python",
   "name": "python3"
  },
  "language_info": {
   "codemirror_mode": {
    "name": "ipython",
    "version": 3
   },
   "file_extension": ".py",
   "mimetype": "text/x-python",
   "name": "python",
   "nbconvert_exporter": "python",
   "pygments_lexer": "ipython3",
   "version": "3.7.6"
  },
  "pycharm": {
   "stem_cell": {
    "cell_type": "raw",
    "metadata": {
     "collapsed": false
    },
    "source": [
     "\n"
    ]
   }
  }
 },
 "nbformat": 4,
 "nbformat_minor": 1
}

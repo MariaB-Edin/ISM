{
 "cells": [
  {
   "cell_type": "markdown",
   "metadata": {},
   "source": [
    "# ISM Lecture 3 Part 3\n",
    "\n",
    "This content is authored by Maria Boutchkova for use in the University of Edinbugh Business School Investment and Securities Markets course in Autumn 2020. \n",
    "\n",
    "Make sure to have watched the videos preceeding this Notebook and have covered the slides. Detailed explanations in the assigned textbook chapters.\n",
    "\n",
    "This lesson covers:\n",
    "\n",
    "* Portfolio risk and return of N assets\n",
    "\n",
    "The first computational cell below (with In \\[ \\] in front) contains the solution. Go over the command lines, make sure they make sense to you, click inside the cell, it should become surrounded by a green rectangle, press Esc - the rectangle will become blue, now press Shift+Enter - this will execute the cell and produce the results beneath it.\n",
    "\n",
    "To remove all output in the notebook and start again, go to the Kernel tab above, select Restart and Clear Output.\n",
    "\n",
    "In this notebook we use the functionality of the pandas library. If you want to explore its full documetation, see [here](https://pandas.pydata.org/pandas-docs/stable/index.html).\n"
   ]
  },
  {
   "cell_type": "markdown",
   "metadata": {},
   "source": [
    "## Input data\n",
    "\n",
    "Now we are going to import a csv file of the prices of many stocks, compute their expected returns and variances, form different portfolios and compute the portfolios' risk and return.\n",
    "\n",
    "You should now start downloading price data yourselves from Capital IQ and then use the code in this notebook to play as you wish with the data you find intresting.\n",
    "\n",
    "In this example we have monthly adjusted closing prices of the stock in the S&P500 index from December 2017 until end of September 2020. The original data is arranged with stocks down the rows and dates along the columns."
   ]
  },
  {
   "cell_type": "code",
   "execution_count": null,
   "metadata": {},
   "outputs": [],
   "source": [
    "# input a list of the returns on the portfolio components and save it as a panda series\n",
    "import pandas as pd\n",
    "prices_orig = pd.read_csv(\"SnP500_monthly.csv\")\n",
    "# view the first 3 rows since this is a big dataset using the pandas head() fuction\n",
    "prices_orig.head(5)"
   ]
  },
  {
   "cell_type": "raw",
   "metadata": {},
   "source": [
    "Now let us transpose the data so that the stocks are in the columns and the dates are along the rows."
   ]
  },
  {
   "cell_type": "code",
   "execution_count": null,
   "metadata": {},
   "outputs": [],
   "source": [
    "prices = prices_orig.transpose()\n",
    "prices.head(5)"
   ]
  },
  {
   "cell_type": "raw",
   "metadata": {},
   "source": [
    "Last thing we need to do before we can pefrorm calculations on the data is to use the top row as a header and remove it from the data:"
   ]
  },
  {
   "cell_type": "code",
   "execution_count": null,
   "metadata": {},
   "outputs": [],
   "source": [
    "#grab the first row for the header and save it as a new variable called new_header\n",
    "new_header = prices.iloc[0]\n",
    "#overwrite the data without the header row, remember it is indexed as [0]\n",
    "prices = prices[1:]\n",
    "#set the header row saved in new_heared to be header of prices\n",
    "prices.columns = new_header\n",
    "prices.head(5)"
   ]
  },
  {
   "cell_type": "markdown",
   "metadata": {},
   "source": [
    "## Solved Problem 1: Compute individual stock average returns and variances\n",
    "\n",
    "Given the monthly closing prices, let us compute the returns and then the means and variances.\n",
    "Here we shall compute holding period returns."
   ]
  },
  {
   "cell_type": "code",
   "execution_count": null,
   "metadata": {},
   "outputs": [],
   "source": [
    "returns = prices / prices.shift(1) - 1\n",
    "returns.head(5)"
   ]
  },
  {
   "cell_type": "raw",
   "metadata": {},
   "source": [
    "Save the returns file without its top row of NaN-s - make sure you know why we have missing values for the returns in the first month."
   ]
  },
  {
   "cell_type": "code",
   "execution_count": null,
   "metadata": {},
   "outputs": [],
   "source": [
    "returns = returns[1:]\n",
    "returns.head(5)"
   ]
  },
  {
   "cell_type": "raw",
   "metadata": {},
   "source": [
    "Now we can compute the means and variances of all assets."
   ]
  },
  {
   "cell_type": "code",
   "execution_count": null,
   "metadata": {},
   "outputs": [],
   "source": [
    "means = returns.mean()\n",
    "means.head(5)"
   ]
  },
  {
   "cell_type": "code",
   "execution_count": null,
   "metadata": {},
   "outputs": [],
   "source": [
    "vars = returns.var()\n",
    "vars.head(5)"
   ]
  },
  {
   "cell_type": "markdown",
   "metadata": {},
   "source": [
    "## Practice Problem 1: Compute individual stock average returns and variances\n",
    "\n",
    "Practice performing all these steps for another set of prices for the constituent stock of the two UK indices: FTSE100 and FTSE250. The data is impoterd for you - prices_uk.\n",
    "\n",
    "Your task is to 1) compute the returns from the prices; 2) drop the top row of NaNs, 3) compute the average returns and 4) compute the variances of the stocks and name the new variables: means_uk and vars_uk."
   ]
  },
  {
   "cell_type": "code",
   "execution_count": null,
   "metadata": {},
   "outputs": [],
   "source": [
    "prices_orig = pd.read_csv(\"FTSE100_250_monthly.csv\",index_col=0)\n",
    "prices_uk = prices_orig.transpose()\n",
    "#grab the first row for the header and save it as a new variable called new_header\n",
    "new_header_uk = prices_uk.columns.values\n",
    "prices_uk.head(5)"
   ]
  },
  {
   "cell_type": "code",
   "execution_count": null,
   "metadata": {},
   "outputs": [],
   "source": []
  },
  {
   "cell_type": "code",
   "execution_count": null,
   "metadata": {},
   "outputs": [],
   "source": []
  },
  {
   "cell_type": "code",
   "execution_count": null,
   "metadata": {},
   "outputs": [],
   "source": []
  },
  {
   "cell_type": "code",
   "execution_count": null,
   "metadata": {},
   "outputs": [],
   "source": []
  },
  {
   "cell_type": "markdown",
   "metadata": {},
   "source": [
    "## Solved Problem 2: Variance-covariance matrix\n",
    "\n",
    "Let us compute the variance-covariance matrix among all returns for the S&P data. \n",
    "\n",
    "If we were to do this from scratch, we would have to first subtract from each return its column mean and then multiply these deviations from the mean pairwise stock by stock and finally sum them up for each pair. This is done with a loop which I am trying to avoid in this class. So we shall conveninetly use the cov() function which does all that in one line.\n"
   ]
  },
  {
   "cell_type": "code",
   "execution_count": null,
   "metadata": {},
   "outputs": [],
   "source": [
    "# before cov() can  work we need to force the data to be in numeric format\n",
    "returns = returns.astype(float)\n",
    "cov = returns.cov()\n",
    "cov.head(5)"
   ]
  },
  {
   "cell_type": "markdown",
   "metadata": {},
   "source": [
    "## Practice Problem 2: Variance-covariance matrix\n",
    "\n",
    "Compute the cariance-covariance matrix for returns_uk. Name it cov_uk."
   ]
  },
  {
   "cell_type": "code",
   "execution_count": null,
   "metadata": {},
   "outputs": [],
   "source": []
  },
  {
   "cell_type": "markdown",
   "metadata": {},
   "source": [
    "## Solved Problem 3: Forming an equally-weighted portfolio and computing its average return and st. dev.\n",
    "\n",
    "Let us form an equally-weighted portfolio of the US stocks and compute its expected return, variance and st. dev.\n",
    "\n",
    "The weights will be equal to 1/N, where N is the number of assets."
   ]
  },
  {
   "cell_type": "code",
   "execution_count": null,
   "metadata": {},
   "outputs": [],
   "source": [
    "# declate a list of 500 elements each equal to 1/500\n",
    "lst = [1/500]*500\n",
    "# make it into a dataframe\n",
    "weights_eq = pd.DataFrame(lst)\n",
    "# name the column containing the weights to be called weights\n",
    "weights_eq.columns = ['weights']\n",
    "weights_eq"
   ]
  },
  {
   "cell_type": "code",
   "execution_count": null,
   "metadata": {},
   "outputs": [],
   "source": [
    "# I am doing a bit of gymnastics here transposing this dataframe back and forth to be able to attach the company codes\n",
    "# transpose the weights vector and call it aux\n",
    "aux = weights_eq.T\n",
    "# remember how we saved the header at the start, attach them to this aux vector\n",
    "aux.columns = new_header\n",
    "# transpose back\n",
    "weights_eq = aux.T\n",
    "weights_eq.head(5)"
   ]
  },
  {
   "cell_type": "raw",
   "metadata": {
    "scrolled": true
   },
   "source": [
    "Now we need to compute the portfolio average return and variance.\n",
    "\n",
    "Note that we are specifying the weights column of the weights_eq dataframe like so: weights_eq.weights. Yes I know it only has one column."
   ]
  },
  {
   "cell_type": "code",
   "execution_count": null,
   "metadata": {},
   "outputs": [],
   "source": [
    "port_ave_ret = means.mul(weights_eq.weights).sum()\n",
    "port_ave_ret"
   ]
  },
  {
   "cell_type": "code",
   "execution_count": null,
   "metadata": {},
   "outputs": [],
   "source": [
    "# same thing using the numpy library instead\n",
    "import numpy as np\n",
    "port_exp_ret = np.sum(returns.mean()*weights_eq.weights)\n",
    "port_exp_ret"
   ]
  },
  {
   "cell_type": "raw",
   "metadata": {},
   "source": [
    "For the portfolio variance we are going to use the numpy matrix multiplication function dot().\n",
    "\n",
    "Recall that matrix multiplication is element wise multiplication of each row and each column of two matrices with corresponding dimensions and then summing over these products to arrive at each element of the resulting matrix.\n",
    "\n",
    "And this is precisely what the formula for a portfolio variance is except all the products are also multiplied by their respective postfolio weights."
   ]
  },
  {
   "cell_type": "code",
   "execution_count": null,
   "metadata": {},
   "outputs": [],
   "source": [
    "port_var = np.dot(weights_eq.weights, np.dot(cov, weights_eq.weights))\n",
    "port_var"
   ]
  },
  {
   "cell_type": "code",
   "execution_count": null,
   "metadata": {},
   "outputs": [],
   "source": [
    "port_std = port_var**(1/2)\n",
    "port_std"
   ]
  },
  {
   "cell_type": "markdown",
   "metadata": {},
   "source": [
    "## Practice Problem 3: Forming an equally-weighted portfolio and computing its average return and st. dev.\n",
    "\n",
    "Let us form an equally-weighted portfolio of the UK stocks and compute its expected return, variance and st. dev.\n",
    "\n",
    "The weights will be equal to 1/N, where N is the number of assets. The weights vector of the UK stocks is formed for you: weights_eq_uk.\n",
    "\n",
    "Your task is to 1) compute the average return of the equally-weighted UK portfolio; 2) compute the variance of the equally-weighted UK portfolio and 3) compute the standard deviation of the equally-weighted UK portfolio. Name everything _uk."
   ]
  },
  {
   "cell_type": "code",
   "execution_count": null,
   "metadata": {},
   "outputs": [],
   "source": [
    "# declare a list of 350 elements each equal to 1/350\n",
    "lst = [1/350]*350\n",
    "# make it into a dataframe\n",
    "weights_eq_uk = pd.DataFrame(lst)\n",
    "# name the column containing the weights to be called weights\n",
    "weights_eq_uk.columns = ['weights']\n",
    "# transpose the weights vector and call it aux\n",
    "aux = weights_eq_uk.T\n",
    "# remember how we saved the header at the start, attach them to this aux vector\n",
    "aux.columns = new_header_uk\n",
    "# transpose back\n",
    "weights_eq_uk = aux.T\n",
    "weights_eq_uk.head(5)"
   ]
  },
  {
   "cell_type": "code",
   "execution_count": null,
   "metadata": {},
   "outputs": [],
   "source": []
  },
  {
   "cell_type": "code",
   "execution_count": null,
   "metadata": {},
   "outputs": [],
   "source": []
  },
  {
   "cell_type": "code",
   "execution_count": null,
   "metadata": {},
   "outputs": [],
   "source": []
  }
 ],
 "metadata": {
  "kernelspec": {
   "display_name": "Python 3",
   "language": "python",
   "name": "python3"
  },
  "language_info": {
   "codemirror_mode": {
    "name": "ipython",
    "version": 3
   },
   "file_extension": ".py",
   "mimetype": "text/x-python",
   "name": "python",
   "nbconvert_exporter": "python",
   "pygments_lexer": "ipython3",
   "version": "3.7.6"
  },
  "pycharm": {
   "stem_cell": {
    "cell_type": "raw",
    "metadata": {
     "collapsed": false
    },
    "source": [
     "\n"
    ]
   }
  }
 },
 "nbformat": 4,
 "nbformat_minor": 1
}

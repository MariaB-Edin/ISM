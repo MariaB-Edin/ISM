{
 "cells": [
  {
   "cell_type": "markdown",
   "metadata": {},
   "source": [
    "# ISM Lecture 3 Part 2 Solutions\n",
    "\n",
    "This content is authored by Maria Boutchkova for use in the University of Edinbugh Business School Investment and Securities Markets course in Autumn 2020. \n",
    "\n",
    "Make sure to have watched the videos preceeding this Notebook and have covered the slides. Detailed explanations in the assigned textbook chapters.\n",
    "\n",
    "This lesson covers:\n",
    "\n",
    "* Portfolio risk and return\n",
    "\n",
    "The first computational cell below (with In \\[ \\] in front) contains the solution. Go over the command lines, make sure they make sense to you, click inside the cell, it should become surrounded by a green rectangle, press Esc - the rectangle will become blue, now press Shift+Enter - this will execute the cell and produce the results beneath it.\n",
    "\n",
    "To remove all output in the notebook and start again, go to the Kernel tab above, select Restart and Clear Output.\n",
    "\n",
    "In this notebook we use the functionality of the pandas library. If you want to explore its full documetation, see [here](https://pandas.pydata.org/pandas-docs/stable/index.html).\n"
   ]
  },
  {
   "cell_type": "markdown",
   "metadata": {},
   "source": [
    "## Solved Problem 1: Compute Portfolio Mean\n",
    "\n",
    "Now we are moving on to portfolios of other assets. \n",
    "\n",
    "Let us compute the average return of a portfolio of 70% of asset A and 30% of asset B with expected returns X: .16 and Y: .12. \n",
    "\n",
    "Note that we are not defining the lists separately but go straight to the pandas series definition."
   ]
  },
  {
   "cell_type": "code",
   "execution_count": 3,
   "metadata": {},
   "outputs": [],
   "source": [
    "# input a list of the returns on the portfolio components and save it as a panda series\n",
    "import pandas as pd\n",
    "returns = pd.Series([.16,.12])\n",
    "weights = pd.Series([.7,.3])"
   ]
  },
  {
   "cell_type": "raw",
   "metadata": {},
   "source": [
    "Now the portfolio expected return is simply the sum of the elements after element wise multiplication of the returns and the weights."
   ]
  },
  {
   "cell_type": "code",
   "execution_count": 5,
   "metadata": {},
   "outputs": [
    {
     "data": {
      "text/plain": [
       "0.148"
      ]
     },
     "execution_count": 5,
     "metadata": {},
     "output_type": "execute_result"
    }
   ],
   "source": [
    "returns.mul(weights).sum()"
   ]
  },
  {
   "cell_type": "markdown",
   "metadata": {},
   "source": [
    "## Practice Problem 1: Compute Portfolio Mean\n",
    "\n",
    "Now play with a postfolio of the stocks X, Y, Z and W with the following extepted returns: .08, .12, .07, .15 and the following weights: .2, .3, .25, .25. Name your series returnsB and weightsB."
   ]
  },
  {
   "cell_type": "code",
   "execution_count": 6,
   "metadata": {},
   "outputs": [],
   "source": [
    "returnsB = pd.Series([.08, .12, .07, .15])\n",
    "weightsB = pd.Series([.2, .3, .25, .25])"
   ]
  },
  {
   "cell_type": "code",
   "execution_count": 7,
   "metadata": {},
   "outputs": [
    {
     "data": {
      "text/plain": [
       "0.10700000000000001"
      ]
     },
     "execution_count": 7,
     "metadata": {},
     "output_type": "execute_result"
    }
   ],
   "source": [
    "returnsB.mul(weightsB).sum()"
   ]
  },
  {
   "cell_type": "markdown",
   "metadata": {},
   "source": [
    "## Solved Problem 2: Compute Mean, Variance and St. Dev. of a 2-asset Portfolio\n",
    "\n",
    "We are back to IBM, GE and the T-bill. We need the original data from Part 1 to calculate the covariances and we shall repeate the calculations from part 1 becasue they are inputs in the portfolio calulations.\n"
   ]
  },
  {
   "cell_type": "code",
   "execution_count": 29,
   "metadata": {},
   "outputs": [],
   "source": [
    "ibm = pd.Series([-.04, .08, .16])\n",
    "ge = pd.Series([0, .04, .12])\n",
    "t_bill = pd.Series([.01, .01, .01])\n",
    "probs = pd.Series([.25, .5, .25])\n",
    "ibm_mean = ibm.mul(probs).sum()\n",
    "ge_mean = ge.mul(probs).sum()\n",
    "t_bill_mean = t_bill.mul(probs).sum()\n",
    "ibm_var = ((ibm - ibm_mean)**2).mul(probs).sum()\n",
    "ge_var = ((ge - ge_mean)**2).mul(probs).sum()\n",
    "t_bill_var = ((t_bill - t_bill_mean)**2).mul(probs).sum()"
   ]
  },
  {
   "cell_type": "raw",
   "metadata": {},
   "source": [
    "The first portfolio we shall form is 50-50 IBM and GE. So we declare the weights and compute the portfolio expected return."
   ]
  },
  {
   "cell_type": "code",
   "execution_count": 13,
   "metadata": {},
   "outputs": [
    {
     "data": {
      "text/plain": [
       "0.060000000000000005"
      ]
     },
     "execution_count": 13,
     "metadata": {},
     "output_type": "execute_result"
    }
   ],
   "source": [
    "returns = pd.Series([ibm_mean,ge_mean])\n",
    "vars = pd.Series([ibm_var,ge_var])\n",
    "weights = pd.Series([.5,.5])\n",
    "returns.mul(weights).sum()"
   ]
  },
  {
   "cell_type": "raw",
   "metadata": {},
   "source": [
    "To find the portfolio variance, we need the covariance between the two assets"
   ]
  },
  {
   "cell_type": "code",
   "execution_count": 15,
   "metadata": {},
   "outputs": [
    {
     "data": {
      "text/plain": [
       "0.0029000000000000002"
      ]
     },
     "execution_count": 15,
     "metadata": {},
     "output_type": "execute_result"
    }
   ],
   "source": [
    "cov_ibm_ge = ((ibm - ibm_mean)*(ge - ge_mean)).mul(probs).sum()\n",
    "cov_ibm_ge"
   ]
  },
  {
   "cell_type": "raw",
   "metadata": {},
   "source": [
    "We are now ready to find the portfolio variance.\n",
    "Remeber that the indexing of lists and series in python starts from 0."
   ]
  },
  {
   "cell_type": "code",
   "execution_count": 19,
   "metadata": {},
   "outputs": [
    {
     "data": {
      "text/plain": [
       "0.0031997300000000005"
      ]
     },
     "execution_count": 19,
     "metadata": {},
     "output_type": "execute_result"
    }
   ],
   "source": [
    "port_var = (weights**2).mul(vars).sum() + 2*weights[0]*weights[1]*cov_ibm_ge\n",
    "port_var"
   ]
  },
  {
   "cell_type": "raw",
   "metadata": {},
   "source": [
    "And last the st. dev."
   ]
  },
  {
   "cell_type": "code",
   "execution_count": 22,
   "metadata": {},
   "outputs": [
    {
     "data": {
      "text/plain": [
       "0.05656615595919525"
      ]
     },
     "execution_count": 22,
     "metadata": {},
     "output_type": "execute_result"
    }
   ],
   "source": [
    "port_std = port_var**(1/2)\n",
    "port_std"
   ]
  },
  {
   "cell_type": "markdown",
   "metadata": {},
   "source": [
    "## Practice Problem 2: Compute Mean, Variance and St. Dev. of a 2-asset Portfolio\n",
    "\n",
    "Do the same for a portfolio of IBM and GE but with weights 40% and 60%. Name the new series weights4060, etc."
   ]
  },
  {
   "cell_type": "code",
   "execution_count": 23,
   "metadata": {},
   "outputs": [
    {
     "data": {
      "text/plain": [
       "0.058"
      ]
     },
     "execution_count": 23,
     "metadata": {},
     "output_type": "execute_result"
    }
   ],
   "source": [
    "weights4060 = pd.Series([.4,.6])\n",
    "returns.mul(weights4060).sum()"
   ]
  },
  {
   "cell_type": "code",
   "execution_count": 24,
   "metadata": {},
   "outputs": [
    {
     "data": {
      "text/plain": [
       "0.0028920192"
      ]
     },
     "execution_count": 24,
     "metadata": {},
     "output_type": "execute_result"
    }
   ],
   "source": [
    "port_var4060 = (weights4060**2).mul(vars).sum() + 2*weights4060[0]*weights4060[1]*cov_ibm_ge\n",
    "port_var4060"
   ]
  },
  {
   "cell_type": "code",
   "execution_count": 28,
   "metadata": {},
   "outputs": [
    {
     "data": {
      "text/plain": [
       "0.053777497152619515"
      ]
     },
     "execution_count": 28,
     "metadata": {},
     "output_type": "execute_result"
    }
   ],
   "source": [
    "port_std4060 = port_var4060**(1/2)\n",
    "port_std4060"
   ]
  },
  {
   "attachments": {},
   "cell_type": "markdown",
   "metadata": {},
   "source": [
    "## Solved Problem 3: Compute Mean, Variance and St. Dev. of a 3-asset Portfolio\n",
    "\n",
    "If you invest a third of your money in IBM, a third in GE and the rest in T-bill, what is the expected return and standard deviation of your portfolio?\n",
    "Name the new series weights3, etc."
   ]
  },
  {
   "cell_type": "code",
   "execution_count": 30,
   "metadata": {},
   "outputs": [
    {
     "data": {
      "text/plain": [
       "0.043333333333333335"
      ]
     },
     "execution_count": 30,
     "metadata": {},
     "output_type": "execute_result"
    }
   ],
   "source": [
    "returns3 = pd.Series([ibm_mean,ge_mean,t_bill_mean])\n",
    "vars3 = pd.Series([ibm_var,ge_var,t_bill_var])\n",
    "weights3 = pd.Series([1/3, 1/3, 1/3])\n",
    "returns3.mul(weights3).sum()"
   ]
  },
  {
   "cell_type": "raw",
   "metadata": {
    "scrolled": true
   },
   "source": [
    "Now we need 3 covariances, not 1. cov_imb_ge we have from before and the additional 2 are cov_ibm_t_bill and cov_ge_t_bill - we already know these must be 0 but we shall calculate them anyway."
   ]
  },
  {
   "cell_type": "code",
   "execution_count": 31,
   "metadata": {},
   "outputs": [
    {
     "data": {
      "text/plain": [
       "0.0"
      ]
     },
     "execution_count": 31,
     "metadata": {},
     "output_type": "execute_result"
    }
   ],
   "source": [
    "cov_ibm_t_bill = ((ibm - ibm_mean)*(t_bill - t_bill_mean)).mul(probs).sum()\n",
    "cov_ibm_t_bill"
   ]
  },
  {
   "cell_type": "code",
   "execution_count": 32,
   "metadata": {},
   "outputs": [
    {
     "data": {
      "text/plain": [
       "0.0"
      ]
     },
     "execution_count": 32,
     "metadata": {},
     "output_type": "execute_result"
    }
   ],
   "source": [
    "cov_ge_t_bill = ((ge - ge_mean)*(t_bill - t_bill_mean)).mul(probs).sum()\n",
    "cov_ge_t_bill"
   ]
  },
  {
   "cell_type": "raw",
   "metadata": {},
   "source": [
    "We need to be caredul here with the covariances - the weights must correctly correspond to the assets. NOte that we saved the weights in the following order: IBM, GE, T-bill."
   ]
  },
  {
   "cell_type": "code",
   "execution_count": 33,
   "metadata": {},
   "outputs": [
    {
     "data": {
      "text/plain": [
       "0.0014222222222222223"
      ]
     },
     "execution_count": 33,
     "metadata": {},
     "output_type": "execute_result"
    }
   ],
   "source": [
    "port_var3 = (weights3**2).mul(vars3).sum() + 2*weights3[0]*weights3[1]*cov_ibm_ge + 2*weights3[0]*weights3[2]*cov_ibm_t_bill + 2*weights3[1]*weights3[2]*cov_ge_t_bill\n",
    "port_var3"
   ]
  },
  {
   "cell_type": "raw",
   "metadata": {},
   "source": [
    "And again the st. dev:"
   ]
  },
  {
   "cell_type": "code",
   "execution_count": 34,
   "metadata": {},
   "outputs": [
    {
     "data": {
      "text/plain": [
       "0.03771236166328253"
      ]
     },
     "execution_count": 34,
     "metadata": {},
     "output_type": "execute_result"
    }
   ],
   "source": [
    "port_std3 = port_var3**(1/2)\n",
    "port_std3"
   ]
  },
  {
   "cell_type": "markdown",
   "metadata": {},
   "source": [
    "## Practice Problem 3: Compute Mean, Variance and St. Dev. of a 3-asset Portfolio\n",
    "\n",
    "Let us change the weights to .4, .3, .3 in IBM, GE, and the T-bill respectively. How do you expect the numbers to change?\n",
    "Do we need to calculate any new covariances?\n",
    "Name the new series weights3B, etc."
   ]
  },
  {
   "cell_type": "code",
   "execution_count": 40,
   "metadata": {},
   "outputs": [
    {
     "data": {
      "text/plain": [
       "0.046000000000000006"
      ]
     },
     "execution_count": 40,
     "metadata": {},
     "output_type": "execute_result"
    }
   ],
   "source": [
    "weights3B = pd.Series([.4, .3, .3])\n",
    "returns3.mul(weights3B).sum()"
   ]
  },
  {
   "cell_type": "code",
   "execution_count": 38,
   "metadata": {},
   "outputs": [
    {
     "data": {
      "text/plain": [
       "0.0016830000000000003"
      ]
     },
     "execution_count": 38,
     "metadata": {},
     "output_type": "execute_result"
    }
   ],
   "source": [
    "port_var3B = (weights3B**2).mul(vars3).sum() + 2*weights3B[0]*weights3B[1]*cov_ibm_ge + 2*weights3B[0]*weights3B[2]*cov_ibm_t_bill + 2*weights3B[1]*weights3B[2]*cov_ge_t_bill\n",
    "port_var3B"
   ]
  },
  {
   "cell_type": "code",
   "execution_count": 39,
   "metadata": {},
   "outputs": [
    {
     "data": {
      "text/plain": [
       "0.04102438299353203"
      ]
     },
     "execution_count": 39,
     "metadata": {},
     "output_type": "execute_result"
    }
   ],
   "source": [
    "port_std3B = port_var3B**(1/2)\n",
    "port_std3B"
   ]
  }
 ],
 "metadata": {
  "kernelspec": {
   "display_name": "Python 3",
   "language": "python",
   "name": "python3"
  },
  "language_info": {
   "codemirror_mode": {
    "name": "ipython",
    "version": 3
   },
   "file_extension": ".py",
   "mimetype": "text/x-python",
   "name": "python",
   "nbconvert_exporter": "python",
   "pygments_lexer": "ipython3",
   "version": "3.7.6"
  },
  "pycharm": {
   "stem_cell": {
    "cell_type": "raw",
    "metadata": {
     "collapsed": false
    },
    "source": [
     "\n"
    ]
   }
  }
 },
 "nbformat": 4,
 "nbformat_minor": 1
}

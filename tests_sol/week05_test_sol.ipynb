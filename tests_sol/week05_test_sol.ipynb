{
 "cells": [
  {
   "cell_type": "markdown",
   "metadata": {},
   "source": [
    "# ISM Week 05 Test Solutions\n",
    "\n",
    "Due date: <b>October 22, 2020 Thursday 2pm </b>.\n",
    "\n",
    "This represents weekly test number 3 out of 8, of which the best 6 together form  <b>40%</b> of your overall grade in this class.\n",
    "\n",
    "This test will ask you questions very similar to the ones we worked through in week 03 and this week's tutorial. It will cover:\n",
    "\n",
    "* Extracting data from Capital IQ\n",
    "* Population means and returns\n",
    "* Portfolio expected return and variance\n"
   ]
  },
  {
   "cell_type": "code",
   "execution_count": 1,
   "metadata": {},
   "outputs": [],
   "source": [
    "# importing necessary libraries - Students, please press Shift + Enter to run\n",
    "import pandas as pd\n",
    "import numpy as np\n",
    "\n",
    "ids = pd.read_csv(\"bnums_ids.csv\", index_col=0)\n",
    "header = ids.capiq_id\n",
    "tickers = ids.ticker\n",
    "tickers.index = header\n",
    "\n",
    "# hide unnecessary warnings\n",
    "import warnings\n",
    "warnings.filterwarnings('ignore')"
   ]
  },
  {
   "cell_type": "markdown",
   "metadata": {},
   "source": [
    "### Question 1\n",
    "\n",
    "Stock analysis in Capital IQ. Log in Capital IQ and in the search field enter the company id assigned to you.\n",
    "\n",
    "Tasks:\n",
    "1. Examine the 5-year price history of your company and compare it to the that of the S&P500 Index and your company's closest competitor.\n",
    "2. Download the monthly (or daily if you cannot use the Capital IQ excel add-in or Chart Builder) price history of your company and its closest competitor from Capital IQ's excel add-in for the period December 2015 - December 2019. Arrange the dates down the rows with the two columns containing the prices named **price_my** and **price_comp**. Save the data as a csv file named prices.csv and upload it here in the test folder; overwrite the existing prices.csv file. Alternatively if you cannot use the Capital IQ excel add-in you can import returns directly from Chart Builder or daily prices from Quick Chart. Depending on the type of data you get (indexed prices or returns) you may name the columns **ret_my** and **ret_comp** instead.\n",
    "\n",
    "The test folder where you should upload your data is located under BUST100322020-1SV1SEM1 / Week05.\n"
   ]
  },
  {
   "cell_type": "code",
   "execution_count": 2,
   "metadata": {},
   "outputs": [],
   "source": [
    "# Task 1a: Enter the id of your company\n",
    "# where you replace IQ306688 with the company id assigned to you by the week05_test_data notebook:\n",
    "\n",
    "id_my = 'IQ306688'\n"
   ]
  },
  {
   "cell_type": "code",
   "execution_count": 3,
   "metadata": {},
   "outputs": [],
   "source": [
    "# Task 1b: Enter the ticker of your company\n",
    "\n",
    "# where you replace NYSE:TJX with your ticker the way it appears in the Quick Chart in Capital IQ\n",
    "# this could also look like NasdaqGS:NWSA\n",
    "ticker_my = 'NYSE:TJX'\n",
    "\n",
    "### BEGIN SOLUTION\n",
    "ticker_my = tickers.loc[id_my]\n",
    "### END SOLUTION"
   ]
  },
  {
   "cell_type": "code",
   "execution_count": 5,
   "metadata": {},
   "outputs": [],
   "source": [
    "# Task 1c: Enter the company id of the closest competitor of your company as given in the Quick Chart in Capital IQ\n",
    "\n",
    "# search it by its ticker in a separate tab/window of Capital IQ\n",
    "# where you replace IQ33926 with the id of the competitor:\n",
    "id_comp = 'IQ33926'\n",
    "\n",
    "### BEGIN SOLUTION\n",
    "id_comp = 'IQ33926'\n",
    "### END SOLUTION"
   ]
  },
  {
   "cell_type": "code",
   "execution_count": 7,
   "metadata": {},
   "outputs": [],
   "source": [
    "# Task 1d: Enter the ticker of your company's closest competitor as given in the Quick Chart in Capital IQ\n",
    "\n",
    "# where you replace NYSE:ROST with the ticker of the competitor, this could also look like NasdaqGS:NWSA:\n",
    "ticker_comp = 'NYSE:ROST'\n",
    "\n",
    "### BEGIN SOLUTION\n",
    "ticker_comp = 'NYSE:ROST'\n",
    "### END SOLUTION"
   ]
  },
  {
   "cell_type": "code",
   "execution_count": 20,
   "metadata": {},
   "outputs": [
    {
     "data": {
      "text/html": [
       "<div>\n",
       "<style scoped>\n",
       "    .dataframe tbody tr th:only-of-type {\n",
       "        vertical-align: middle;\n",
       "    }\n",
       "\n",
       "    .dataframe tbody tr th {\n",
       "        vertical-align: top;\n",
       "    }\n",
       "\n",
       "    .dataframe thead th {\n",
       "        text-align: right;\n",
       "    }\n",
       "</style>\n",
       "<table border=\"1\" class=\"dataframe\">\n",
       "  <thead>\n",
       "    <tr style=\"text-align: right;\">\n",
       "      <th></th>\n",
       "      <th>price_my</th>\n",
       "      <th>price_comp</th>\n",
       "    </tr>\n",
       "    <tr>\n",
       "      <th>date</th>\n",
       "      <th></th>\n",
       "      <th></th>\n",
       "    </tr>\n",
       "  </thead>\n",
       "  <tbody>\n",
       "    <tr>\n",
       "      <th>31-Dec-15</th>\n",
       "      <td>59.192239</td>\n",
       "      <td>33.186712</td>\n",
       "    </tr>\n",
       "    <tr>\n",
       "      <th>31-Jan-16</th>\n",
       "      <td>58.728172</td>\n",
       "      <td>33.341156</td>\n",
       "    </tr>\n",
       "    <tr>\n",
       "      <th>29-Feb-16</th>\n",
       "      <td>58.330400</td>\n",
       "      <td>34.787069</td>\n",
       "    </tr>\n",
       "    <tr>\n",
       "      <th>31-Mar-16</th>\n",
       "      <td>58.366842</td>\n",
       "      <td>36.782279</td>\n",
       "    </tr>\n",
       "    <tr>\n",
       "      <th>30-Apr-16</th>\n",
       "      <td>55.964563</td>\n",
       "      <td>35.594542</td>\n",
       "    </tr>\n",
       "  </tbody>\n",
       "</table>\n",
       "</div>"
      ],
      "text/plain": [
       "            price_my  price_comp\n",
       "date                            \n",
       "31-Dec-15  59.192239   33.186712\n",
       "31-Jan-16  58.728172   33.341156\n",
       "29-Feb-16  58.330400   34.787069\n",
       "31-Mar-16  58.366842   36.782279\n",
       "30-Apr-16  55.964563   35.594542"
      ]
     },
     "execution_count": 20,
     "metadata": {},
     "output_type": "execute_result"
    }
   ],
   "source": [
    "# Task2: once you have uploaded your csv file in the test folder here\n",
    "\n",
    "# The test folder where you should upload your data is located under BUST100322020-1SV1SEM1 / Week05\n",
    "\n",
    "# use the following code to import the prices as a pandas dataframe and display it\n",
    "# data = pd.read_csv(\"prices.csv\", index_col=0)\n",
    "# data.head()\n",
    "\n",
    "# if you have returns data, adjust the code accordingly, for example\n",
    "# data = pd.read_csv(\"returns.csv\", index_col=0)\n",
    "# data.head()\n",
    "\n",
    "# whether you have prices or returns name the dataframe data\n",
    "\n",
    "### BEGIN SOLUTION\n",
    "data = pd.read_csv(\"prices.csv\", index_col=0)\n",
    "data.head()\n",
    "### END SOLUTION"
   ]
  },
  {
   "cell_type": "markdown",
   "metadata": {},
   "source": [
    "### Question 2\n",
    "\n",
    "Use the data you imported in Question 1 to perform the following tasks.\n",
    "\n",
    "Tasks:\n",
    "1. Calculate the returns, name the columns **my** and **comp**; calulate the average returns and standard deviations for your company and its competitor. Name the containers returns, means and stds.\n",
    "2. Calculate the covariance and correlation coefficient for the two stocks.\n",
    "3. Form an equally weighted portfolio of the two stocks and compute its average return and standard deviation.\n"
   ]
  },
  {
   "cell_type": "code",
   "execution_count": 33,
   "metadata": {},
   "outputs": [],
   "source": [
    "# Task 1a\n",
    "# compute the returns and name the container returns\n",
    "\n",
    "# if your data is already returns, save it in a new container like so (but without the # sign):\n",
    "# returns = data\n",
    "\n",
    "# rename the columns of the returns dataframe to be my and comp, like so (but without the # sign): \n",
    "# returns.columns = ['my','comp']\n",
    "\n",
    "# as you compute and display the means if you see inf or -inf, add this line (without the # sign) before computing the means \n",
    "# to overwrite returns without inf values:\n",
    "# returns = returns.replace([np.inf, -np.inf],np.nan)\n",
    "\n",
    "### BEGIN SOLUTION\n",
    "returns = data / data.shift(1) - 1\n",
    "returns.columns = ['my','comp']\n",
    "returns.head()\n",
    "### END SOLUTION"
   ]
  },
  {
   "cell_type": "code",
   "execution_count": 35,
   "metadata": {},
   "outputs": [],
   "source": [
    "# Task 1b\n",
    "# compute the means, name the container means\n",
    "\n",
    "### BEGIN SOLUTION\n",
    "means = returns.mean()\n",
    "### END SOLUTION"
   ]
  },
  {
   "cell_type": "code",
   "execution_count": 37,
   "metadata": {},
   "outputs": [],
   "source": [
    "# Task 1c\n",
    "# compute the variances; name the container vars\n",
    "\n",
    "### BEGIN SOLUTION\n",
    "vars = returns.var()\n",
    "vars\n",
    "### END SOLUTION"
   ]
  },
  {
   "cell_type": "code",
   "execution_count": 39,
   "metadata": {},
   "outputs": [],
   "source": [
    "# Task 1d\n",
    "# compute the standard deviations; name the container stds\n",
    "\n",
    "### BEGIN SOLUTION\n",
    "stds = returns.std()\n",
    "stds\n",
    "### END SOLUTION"
   ]
  },
  {
   "cell_type": "code",
   "execution_count": 41,
   "metadata": {},
   "outputs": [],
   "source": [
    "# Task 2a: Calculate the covariance for the two stocks. Name it cov.\n",
    "# Note that the cov() function produces a matrix, suppose we have computed the var-cov matrix and named it cov_mat.\n",
    "# the way we extract a single element from cov_mat is:\n",
    "# cov = cov_mat.loc['my','comp']\n",
    "\n",
    "### BEGIN SOLUTION\n",
    "cov_mat = returns.cov()\n",
    "cov = cov_mat.loc['my','comp']\n",
    "cov\n",
    "### END SOLUTION"
   ]
  },
  {
   "cell_type": "code",
   "execution_count": 43,
   "metadata": {},
   "outputs": [
    {
     "data": {
      "text/plain": [
       "0.40110795620030365"
      ]
     },
     "execution_count": 43,
     "metadata": {},
     "output_type": "execute_result"
    }
   ],
   "source": [
    "# Task 2b: Calculate the correlation coefficient for the two stocks. Name it corr.\n",
    "\n",
    "### BEGIN SOLUTION\n",
    "corr = cov / (stds.my*stds.comp)\n",
    "corr\n",
    "### END SOLUTION"
   ]
  },
  {
   "cell_type": "code",
   "execution_count": 45,
   "metadata": {},
   "outputs": [],
   "source": [
    "# Task 3a. Form an equally weighted portfolio of the two stocks and compute its average return. \n",
    "\n",
    "# Name the container port_ave\n",
    "\n",
    "# For simplicity we shall not use a weights vector, instead use a scalar called w for the weight of your asset \n",
    "\n",
    "w = .5\n",
    "\n",
    "### BEGIN SOLUTION\n",
    "w = .5\n",
    "port_ave = means.my*w + means.comp*(1-w)\n",
    "port_ave\n",
    "### END SOLUTION"
   ]
  },
  {
   "cell_type": "code",
   "execution_count": 47,
   "metadata": {},
   "outputs": [],
   "source": [
    "# Task 3b. Form an equally weighted portfolio of the two stocks and compute its standard deviation. \n",
    "\n",
    "# Name the container port_std\n",
    "\n",
    "### BEGIN SOLUTION\n",
    "port_std = (vars.my*w**2 + vars.comp*(1-w)**2 + 2*w*(1-w)*cov)**.5\n",
    "port_std\n",
    "### END SOLUTION"
   ]
  },
  {
   "cell_type": "markdown",
   "metadata": {},
   "source": [
    "### Question 3\n",
    "\n",
    "Answer the following MCQs."
   ]
  },
  {
   "cell_type": "raw",
   "metadata": {},
   "source": [
    "MCQ 1\n",
    "\n",
    "Which of the following statements is/are correct (regardless of the exact results of your calculations above)?\n",
    "\n",
    "I. The correlation between the two stock returns could be positive because they operate in the same industry and both will tend to do well when the whole industry is doing well.\n",
    "II. The correlation between the two stock returns could be negative because they are competitors and when one is doing well, the other suffers.\n",
    "III. The equally-weighted portfolio allows reaching a higher utility than either of the two stocks as long as the correlation between them is less than 1.\n",
    "\n",
    "Option 1: I and III\n",
    "Option 2: II and III\n",
    "Option 3: I and II\n",
    "Option 4: I, II and III\n",
    "Option 5: None of the options\n"
   ]
  },
  {
   "cell_type": "code",
   "execution_count": 49,
   "metadata": {},
   "outputs": [],
   "source": [
    "# Please write the following line of code below; replace 0 with your chosen answer 1, 2, 3, 4 or 5\n",
    "test1 = 0\n",
    "\n",
    "### BEGIN SOLUTION\n",
    "test1 = 4\n",
    "### END SOLUTION"
   ]
  },
  {
   "cell_type": "raw",
   "metadata": {},
   "source": [
    "MCQ 2\n",
    "\n",
    "Which of the following statements is/are correct?\n",
    "\n",
    "I. The dimensions of the variance-covariance matrix for a portfolio of two assets are 2x2.\n",
    "II. The relationship between the weight of one asset in a 2-asset portfolio and the portfolio expected return is non-linear.\n",
    "III. The relationship between the weight of one asset in a 2-asset portfolio and the portfolio standard deviation is non-linear as long as the correlation between them is strictly less than 1 and more than -1.\n",
    "\n",
    "Option 1: I and III\n",
    "Option 2: II and III\n",
    "Option 3: I and II\n",
    "Option 4: I, II and III\n",
    "Option 5: None of the options"
   ]
  },
  {
   "cell_type": "code",
   "execution_count": 51,
   "metadata": {},
   "outputs": [],
   "source": [
    "# Please write the following line of code below; replace 0 with your chosen answer 1, 2, 3, 4 or 5\n",
    "test2 = 0\n",
    "\n",
    "### BEGIN SOLUTION\n",
    "test2 = 1\n",
    "### END SOLUTION"
   ]
  }
 ],
 "metadata": {
  "celltoolbar": "Create Assignment",
  "kernelspec": {
   "display_name": "Python 3",
   "language": "python",
   "name": "python3"
  },
  "language_info": {
   "codemirror_mode": {
    "name": "ipython",
    "version": 3
   },
   "file_extension": ".py",
   "mimetype": "text/x-python",
   "name": "python",
   "nbconvert_exporter": "python",
   "pygments_lexer": "ipython3",
   "version": "3.7.6"
  }
 },
 "nbformat": 4,
 "nbformat_minor": 2
}

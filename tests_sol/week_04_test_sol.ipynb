{
 "cells": [
  {
   "cell_type": "markdown",
   "metadata": {},
   "source": [
    "# ISM Week 04 Test Solutions\n",
    "\n",
    "This test will ask you questions very similar to the ones we worked through in week 02. It will cover:\n",
    "\n",
    "* Holding period returns\n",
    "* Arithmetic and Geometric Means\n",
    "* Variance\n",
    "* Standard Deviation\n",
    "* Skewness\n",
    "* Kurtosis\n",
    "* Value at Risk\n"
   ]
  },
  {
   "cell_type": "code",
   "execution_count": 1,
   "metadata": {},
   "outputs": [],
   "source": [
    "# importing necessary libraries\n",
    "import pandas as pd\n",
    "import numpy as np"
   ]
  },
  {
   "cell_type": "markdown",
   "metadata": {},
   "source": [
    "### Question 1\n",
    "\n",
    "10, 11.20, 13.44, 9.41, 10.35\n",
    "\n",
    "Consider stock A with closing prices starting at time 0 over the next 3 months as given above.\n",
    "\n",
    "Tasks:\n",
    "1. Calculate the monthly holding period returns (regular, not log returns). Name the container/variable/vector containing the  holding period returns \"returns\".\n",
    "2. Calculate the 3-month holding period return by using the monthly returns in part 1. Name it return_3m_rtns.\n",
    "3. Calculate the 3-month holding period return by using the relevant starting and ending prices. Name it return_3m_prcs."
   ]
  },
  {
   "cell_type": "code",
   "execution_count": 2,
   "metadata": {},
   "outputs": [
    {
     "data": {
      "text/html": [
       "<div>\n",
       "<style scoped>\n",
       "    .dataframe tbody tr th:only-of-type {\n",
       "        vertical-align: middle;\n",
       "    }\n",
       "\n",
       "    .dataframe tbody tr th {\n",
       "        vertical-align: top;\n",
       "    }\n",
       "\n",
       "    .dataframe thead th {\n",
       "        text-align: right;\n",
       "    }\n",
       "</style>\n",
       "<table border=\"1\" class=\"dataframe\">\n",
       "  <thead>\n",
       "    <tr style=\"text-align: right;\">\n",
       "      <th></th>\n",
       "      <th>0</th>\n",
       "    </tr>\n",
       "  </thead>\n",
       "  <tbody>\n",
       "    <tr>\n",
       "      <th>0</th>\n",
       "      <td>10.00</td>\n",
       "    </tr>\n",
       "    <tr>\n",
       "      <th>1</th>\n",
       "      <td>11.20</td>\n",
       "    </tr>\n",
       "    <tr>\n",
       "      <th>2</th>\n",
       "      <td>13.44</td>\n",
       "    </tr>\n",
       "    <tr>\n",
       "      <th>3</th>\n",
       "      <td>9.41</td>\n",
       "    </tr>\n",
       "    <tr>\n",
       "      <th>4</th>\n",
       "      <td>10.35</td>\n",
       "    </tr>\n",
       "  </tbody>\n",
       "</table>\n",
       "</div>"
      ],
      "text/plain": [
       "       0\n",
       "0  10.00\n",
       "1  11.20\n",
       "2  13.44\n",
       "3   9.41\n",
       "4  10.35"
      ]
     },
     "execution_count": 2,
     "metadata": {},
     "output_type": "execute_result"
    }
   ],
   "source": [
    "# first your closing prices are saved in a pandas dataframe for you\n",
    "lst = [10, 11.20, 13.44, 9.41, 10.35]\n",
    "prices = pd.DataFrame(lst)\n",
    "prices"
   ]
  },
  {
   "cell_type": "code",
   "execution_count": 3,
   "metadata": {},
   "outputs": [
    {
     "data": {
      "text/html": [
       "<div>\n",
       "<style scoped>\n",
       "    .dataframe tbody tr th:only-of-type {\n",
       "        vertical-align: middle;\n",
       "    }\n",
       "\n",
       "    .dataframe tbody tr th {\n",
       "        vertical-align: top;\n",
       "    }\n",
       "\n",
       "    .dataframe thead th {\n",
       "        text-align: right;\n",
       "    }\n",
       "</style>\n",
       "<table border=\"1\" class=\"dataframe\">\n",
       "  <thead>\n",
       "    <tr style=\"text-align: right;\">\n",
       "      <th></th>\n",
       "      <th>0</th>\n",
       "    </tr>\n",
       "  </thead>\n",
       "  <tbody>\n",
       "    <tr>\n",
       "      <th>0</th>\n",
       "      <td>NaN</td>\n",
       "    </tr>\n",
       "    <tr>\n",
       "      <th>1</th>\n",
       "      <td>0.120000</td>\n",
       "    </tr>\n",
       "    <tr>\n",
       "      <th>2</th>\n",
       "      <td>0.200000</td>\n",
       "    </tr>\n",
       "    <tr>\n",
       "      <th>3</th>\n",
       "      <td>-0.299851</td>\n",
       "    </tr>\n",
       "    <tr>\n",
       "      <th>4</th>\n",
       "      <td>0.099894</td>\n",
       "    </tr>\n",
       "  </tbody>\n",
       "</table>\n",
       "</div>"
      ],
      "text/plain": [
       "          0\n",
       "0       NaN\n",
       "1  0.120000\n",
       "2  0.200000\n",
       "3 -0.299851\n",
       "4  0.099894"
      ]
     },
     "execution_count": 3,
     "metadata": {},
     "output_type": "execute_result"
    }
   ],
   "source": [
    "# include your code for task 1. here\n",
    "returns = prices / prices.shift(1) - 1\n",
    "returns"
   ]
  },
  {
   "cell_type": "code",
   "execution_count": 4,
   "metadata": {},
   "outputs": [
    {
     "data": {
      "text/plain": [
       "0   -0.059\n",
       "dtype: float64"
      ]
     },
     "execution_count": 4,
     "metadata": {},
     "output_type": "execute_result"
    }
   ],
   "source": [
    "# include your code for task 2. here\n",
    "gross_returns = returns + 1\n",
    "return_3m_rtns = gross_returns.iloc[1]*gross_returns.iloc[2]*gross_returns.iloc[3]-1\n",
    "return_3m_rtns"
   ]
  },
  {
   "cell_type": "code",
   "execution_count": 5,
   "metadata": {},
   "outputs": [
    {
     "data": {
      "text/plain": [
       "0   -0.059\n",
       "dtype: float64"
      ]
     },
     "execution_count": 5,
     "metadata": {},
     "output_type": "execute_result"
    }
   ],
   "source": [
    "# include your code for task 3. here\n",
    "return_3m_prcs = prices.iloc[3]/prices.iloc[0]-1\n",
    "return_3m_prcs"
   ]
  },
  {
   "cell_type": "markdown",
   "metadata": {},
   "source": [
    "### Question 2\n",
    "\n",
    "Use the return calculations you performed in Question 1 to perform the following tasks.\n",
    "\n",
    "Tasks:\n",
    "1. Calculate the arithmetic mean of stock A, name it mean_a\n",
    "2. Calculate the geometric mean of the returns of Stock A, name it mean_g\n",
    "3. Answer the question that follows based on your calculations\n"
   ]
  },
  {
   "cell_type": "code",
   "execution_count": 6,
   "metadata": {},
   "outputs": [
    {
     "data": {
      "text/plain": [
       "0    0.030011\n",
       "dtype: float64"
      ]
     },
     "execution_count": 6,
     "metadata": {},
     "output_type": "execute_result"
    }
   ],
   "source": [
    "# include your code for task 1. here\n",
    "mean_a = returns.mean()\n",
    "mean_a"
   ]
  },
  {
   "cell_type": "code",
   "execution_count": 7,
   "metadata": {},
   "outputs": [
    {
     "data": {
      "text/plain": [
       "0    0.008637\n",
       "dtype: float64"
      ]
     },
     "execution_count": 7,
     "metadata": {},
     "output_type": "execute_result"
    }
   ],
   "source": [
    "# include your code for task 2. here\n",
    "mean_g = (gross_returns.prod())**(1/gross_returns.count())-1\n",
    "mean_g"
   ]
  },
  {
   "cell_type": "raw",
   "metadata": {},
   "source": [
    "Task 3\n",
    "\n",
    "Which of the following statements is correct regarding your calculations above?\n",
    "\n",
    "I. The arithmetic average tells me what I expect to earn if I buy the stock today and hold it for a month. \n",
    "II. The geometric mean tells me what average monthly return I earned over the last 3 months. \n",
    "III. The arithmetic mean is always greater than the geometric mean \n",
    "\n",
    "Option 1: I only\n",
    "Option 2: II only \n",
    "Option 3: I and II \n",
    "Option 4: I, II and III"
   ]
  },
  {
   "cell_type": "raw",
   "metadata": {},
   "source": [
    "Answer is 1.\n",
    "II. is incorrect becasue mean_g covers 4 months not 3.\n",
    "III. is incorrect becasue mean_a and mean_g could be equal."
   ]
  },
  {
   "cell_type": "markdown",
   "metadata": {},
   "source": [
    "### Question 3\n",
    "\n",
    "Use the return calculations you performed in Question 1 to perform the following tasks.\n",
    "\n",
    "Tasks:\n",
    "\n",
    "1. Calculate the variance of the returns of stock A, name it var.\n",
    "2. Calculate the standard deviation of the returns of stock A, name it std.\n",
    "3. Calculate the skewness of the returns of stock A, name it skew.\n",
    "4. Calculate the kurtosis of the returns of stock A, name it kurt.\n"
   ]
  },
  {
   "cell_type": "code",
   "execution_count": 9,
   "metadata": {
    "nbgrader": {
     "grade": false,
     "grade_id": "cell-28c5d6c906515adf",
     "locked": false,
     "schema_version": 3,
     "solution": true,
     "task": false
    }
   },
   "outputs": [
    {
     "data": {
      "text/plain": [
       "0    0.050229\n",
       "dtype: float64"
      ]
     },
     "execution_count": 9,
     "metadata": {},
     "output_type": "execute_result"
    }
   ],
   "source": [
    "# include your code for task 1. here\n",
    "var = returns.var()\n",
    "var"
   ]
  },
  {
   "cell_type": "code",
   "execution_count": 10,
   "metadata": {
    "nbgrader": {
     "grade": false,
     "grade_id": "cell-2ff1f284adbe68e0",
     "locked": false,
     "schema_version": 3,
     "solution": true,
     "task": false
    }
   },
   "outputs": [
    {
     "data": {
      "text/plain": [
       "0    0.224118\n",
       "dtype: float64"
      ]
     },
     "execution_count": 10,
     "metadata": {},
     "output_type": "execute_result"
    }
   ],
   "source": [
    "# include your code for task 2. here\n",
    "std = returns.std()\n",
    "std"
   ]
  },
  {
   "cell_type": "code",
   "execution_count": 11,
   "metadata": {
    "nbgrader": {
     "grade": false,
     "grade_id": "cell-ee827369b16e8f25",
     "locked": false,
     "schema_version": 3,
     "solution": true,
     "task": false
    }
   },
   "outputs": [
    {
     "data": {
      "text/plain": [
       "0   -1.771293\n",
       "dtype: float64"
      ]
     },
     "execution_count": 11,
     "metadata": {},
     "output_type": "execute_result"
    }
   ],
   "source": [
    "# include your code for task 3. here\n",
    "skew = returns.skew()\n",
    "skew"
   ]
  },
  {
   "cell_type": "code",
   "execution_count": 12,
   "metadata": {
    "nbgrader": {
     "grade": false,
     "grade_id": "cell-98702e013c228887",
     "locked": false,
     "schema_version": 3,
     "solution": true,
     "task": false
    }
   },
   "outputs": [
    {
     "data": {
      "text/plain": [
       "0    3.363576\n",
       "dtype: float64"
      ]
     },
     "execution_count": 12,
     "metadata": {},
     "output_type": "execute_result"
    }
   ],
   "source": [
    "# include your code for task 4. here\n",
    "kurt = returns.kurt()\n",
    "kurt"
   ]
  },
  {
   "cell_type": "markdown",
   "metadata": {},
   "source": [
    "### Question 4\n",
    "\n",
    "You have a csv file of monthly historical prices on an exchange traded fund of US exploration&production oil&gas companies. It has been read in for you.\n",
    "\n",
    "Tasks:\n",
    "1. Calculate the returns, name the container rets.\n",
    "2. Calculate the 5% VaR on a monthly basis assuming normality per unit of currency invested in the fund, name this val_risk_norm.\n",
    "3. Calculate the 5% VaR on a monthly basis not assuming normality per unit of currency invested in the fund, name this val_risk_non_norm.\n",
    "4. Answer the question regarding your calculations."
   ]
  },
  {
   "cell_type": "code",
   "execution_count": 13,
   "metadata": {},
   "outputs": [
    {
     "data": {
      "text/html": [
       "<div>\n",
       "<style scoped>\n",
       "    .dataframe tbody tr th:only-of-type {\n",
       "        vertical-align: middle;\n",
       "    }\n",
       "\n",
       "    .dataframe tbody tr th {\n",
       "        vertical-align: top;\n",
       "    }\n",
       "\n",
       "    .dataframe thead th {\n",
       "        text-align: right;\n",
       "    }\n",
       "</style>\n",
       "<table border=\"1\" class=\"dataframe\">\n",
       "  <thead>\n",
       "    <tr style=\"text-align: right;\">\n",
       "      <th></th>\n",
       "      <th>date</th>\n",
       "      <th>prices</th>\n",
       "    </tr>\n",
       "  </thead>\n",
       "  <tbody>\n",
       "    <tr>\n",
       "      <th>0</th>\n",
       "      <td>31-Dec-17</td>\n",
       "      <td>141.983344</td>\n",
       "    </tr>\n",
       "    <tr>\n",
       "      <th>1</th>\n",
       "      <td>31-Jan-18</td>\n",
       "      <td>140.952265</td>\n",
       "    </tr>\n",
       "    <tr>\n",
       "      <th>2</th>\n",
       "      <td>28-Feb-18</td>\n",
       "      <td>126.249848</td>\n",
       "    </tr>\n",
       "    <tr>\n",
       "      <th>3</th>\n",
       "      <td>31-Mar-18</td>\n",
       "      <td>134.755283</td>\n",
       "    </tr>\n",
       "    <tr>\n",
       "      <th>4</th>\n",
       "      <td>30-Apr-18</td>\n",
       "      <td>150.671864</td>\n",
       "    </tr>\n",
       "  </tbody>\n",
       "</table>\n",
       "</div>"
      ],
      "text/plain": [
       "        date      prices\n",
       "0  31-Dec-17  141.983344\n",
       "1  31-Jan-18  140.952265\n",
       "2  28-Feb-18  126.249848\n",
       "3  31-Mar-18  134.755283\n",
       "4  30-Apr-18  150.671864"
      ]
     },
     "execution_count": 13,
     "metadata": {},
     "output_type": "execute_result"
    }
   ],
   "source": [
    "prices_fund = pd.read_csv(\"fund_monthly.csv\")\n",
    "prices_fund.head(5)"
   ]
  },
  {
   "cell_type": "code",
   "execution_count": 14,
   "metadata": {},
   "outputs": [
    {
     "data": {
      "text/plain": [
       "0    141.983344\n",
       "1    140.952265\n",
       "2    126.249848\n",
       "3    134.755283\n",
       "4    150.671864\n",
       "Name: prices, dtype: float64"
      ]
     },
     "execution_count": 14,
     "metadata": {},
     "output_type": "execute_result"
    }
   ],
   "source": [
    "prices_fund = pd.read_csv(\"fund_monthly.csv\")\n",
    "new_header = prices_fund.date\n",
    "prices_fund = prices_fund.prices\n",
    "prices_fund.head(5)"
   ]
  },
  {
   "cell_type": "code",
   "execution_count": 15,
   "metadata": {},
   "outputs": [
    {
     "data": {
      "text/plain": [
       "0         NaN\n",
       "1   -0.007262\n",
       "2   -0.104308\n",
       "3    0.067370\n",
       "4    0.118115\n",
       "Name: prices, dtype: float64"
      ]
     },
     "execution_count": 15,
     "metadata": {},
     "output_type": "execute_result"
    }
   ],
   "source": [
    "# include your code for task 1. here\n",
    "rets = prices_fund / prices_fund.shift(1) - 1\n",
    "rets.head(5)"
   ]
  },
  {
   "cell_type": "code",
   "execution_count": 16,
   "metadata": {},
   "outputs": [
    {
     "data": {
      "text/plain": [
       "-0.30734879319113034"
      ]
     },
     "execution_count": 16,
     "metadata": {},
     "output_type": "execute_result"
    }
   ],
   "source": [
    "# include your code for task 2. here\n",
    "val_risk_norm = rets.mean() - 1.65*rets.std()\n",
    "val_risk_norm"
   ]
  },
  {
   "cell_type": "code",
   "execution_count": 17,
   "metadata": {},
   "outputs": [
    {
     "data": {
      "text/plain": [
       "-0.19385111250900158"
      ]
     },
     "execution_count": 17,
     "metadata": {},
     "output_type": "execute_result"
    }
   ],
   "source": [
    "# include your code for task 3. here\n",
    "val_risk_non_norm = rets.quantile(.05)\n",
    "val_risk_non_norm"
   ]
  },
  {
   "cell_type": "raw",
   "metadata": {},
   "source": [
    "Task 4\n",
    "\n",
    "Which of the following statements is correct regarding your calculations above?\n",
    "\n",
    "I. The VaR assuming normality is more conservative than the VaR not assuming normality.\n",
    "II. The VaR assuming normality is overestimating the loss compared to the VaR not assuming normality.\n",
    "III. At any given month between 19.39% and 30.73% of the value of the fund could be lost in the best case of the 5% worst possible outcomes\n",
    "\n",
    "Option 1: I and III\n",
    "Option 2: II and III\n",
    "Option 3: I and II\n",
    "Option 4: I, II and III"
   ]
  },
  {
   "cell_type": "raw",
   "metadata": {},
   "source": [
    "Answer is 4."
   ]
  }
 ],
 "metadata": {
  "kernelspec": {
   "display_name": "Python 3",
   "language": "python",
   "name": "python3"
  },
  "language_info": {
   "codemirror_mode": {
    "name": "ipython",
    "version": 3
   },
   "file_extension": ".py",
   "mimetype": "text/x-python",
   "name": "python",
   "nbconvert_exporter": "python",
   "pygments_lexer": "ipython3",
   "version": "3.7.6"
  }
 },
 "nbformat": 4,
 "nbformat_minor": 2
}

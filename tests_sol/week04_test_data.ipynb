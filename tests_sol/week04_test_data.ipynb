{
 "cells": [
  {
   "cell_type": "markdown",
   "metadata": {},
   "source": [
    "# ISM Week 04 Test Demo - generate student - specific data\n",
    "\n",
    "Get your prices by running the cell below and copy-paste them in the test notebook.\n"
   ]
  },
  {
   "cell_type": "code",
   "execution_count": null,
   "metadata": {},
   "outputs": [],
   "source": [
    "# defines a function that will take student input and verify\n",
    "# Students, please press Shift + Enter to run this cell ONLY ONCE and then enter your B-number when prompted\n",
    "# if you get an error close the notebook and restart it \n",
    "# or better yer restart you borwser but always enter Noteable from the link in Learn\n",
    "# Otherwise ignore this code - not required for course\n",
    "\n",
    "def b_num_input():\n",
    "    b_num = input(\"Please enter your B-number: \")\n",
    "    while True:\n",
    "        if len(b_num) != 7:\n",
    "            print(\"You have entered \", b_num, \"This seems to not be 7 characters. If you are sure, type Y, otherwise type N to enter it again.\")\n",
    "            conf = input(\"Are you sure (Y/N): \")\n",
    "            if conf == \"Y\":\n",
    "                break\n",
    "            else:\n",
    "                b_num = input(\"Please enter your B-number: \")\n",
    "        else:\n",
    "            break\n",
    "    aux = float(b_num[-2:])\n",
    "    if aux == 0:\n",
    "        num = 10\n",
    "    else:\n",
    "        num = aux\n",
    "    num_list = [num, round(num*1.12,2), round(num*1.12*1.2,2), round(num*1.12*1.2*.7,2), round(num*1.12*1.2*.7*1.1,2)]\n",
    "    print(\"Your closing prices to use below are: \")\n",
    "    return num_list\n",
    "num_list = b_num_input()\n",
    "num_list"
   ]
  },
  {
   "cell_type": "code",
   "execution_count": null,
   "metadata": {},
   "outputs": [],
   "source": []
  }
 ],
 "metadata": {
  "celltoolbar": "Create Assignment",
  "kernelspec": {
   "display_name": "Python 3",
   "language": "python",
   "name": "python3"
  },
  "language_info": {
   "codemirror_mode": {
    "name": "ipython",
    "version": 3
   },
   "file_extension": ".py",
   "mimetype": "text/x-python",
   "name": "python",
   "nbconvert_exporter": "python",
   "pygments_lexer": "ipython3",
   "version": "3.7.6"
  }
 },
 "nbformat": 4,
 "nbformat_minor": 2
}

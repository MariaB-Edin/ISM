{
 "cells": [
  {
   "cell_type": "markdown",
   "metadata": {},
   "source": [
    "# ISM Week 04 Test\n",
    "\n",
    "This test will ask you questions very similar to the ones we worked through in week 02. It will cover:\n",
    "\n",
    "* Holding period returns\n",
    "* Arithmetic and Geometric Means\n",
    "* Variance\n",
    "* Standard Deviation\n",
    "* Skewness\n",
    "* Kurtosis\n",
    "* Value at Risk\n"
   ]
  },
  {
   "cell_type": "code",
   "execution_count": null,
   "metadata": {},
   "outputs": [],
   "source": [
    "# importing necessary libraries\n",
    "import pandas as pd\n",
    "import numpy as np"
   ]
  },
  {
   "cell_type": "markdown",
   "metadata": {},
   "source": [
    "### Question 1\n",
    "\n",
    "Consider stock A with closing prices starting at time 0 over the next 4 months as given to you.\n",
    "\n",
    "Tasks:\n",
    "1. Calculate the monthly holding period returns (regular, not log returns). Name the container/variable/vector containing the  holding period returns \"returns\".\n",
    "2. Calculate the 3-month holding period return by using the monthly returns in part 1. Name it return_3m_rtns.\n",
    "3. Calculate the 3-month holding period return by using the relevant starting and ending prices. Name it return_3m_prcs."
   ]
  },
  {
   "cell_type": "code",
   "execution_count": null,
   "metadata": {},
   "outputs": [],
   "source": [
    "# copy-paste your closing prices below like so and run the cell: lst = [10, 11.20, 13.44, 9.41, 10.35]\n",
    "lst = []\n",
    "prices = pd.DataFrame(lst)\n",
    "prices"
   ]
  },
  {
   "cell_type": "code",
   "execution_count": null,
   "metadata": {},
   "outputs": [],
   "source": [
    "# include your code for task 1. here\n"
   ]
  },
  {
   "cell_type": "code",
   "execution_count": null,
   "metadata": {},
   "outputs": [],
   "source": [
    "# include your code for task 2. here\n"
   ]
  },
  {
   "cell_type": "code",
   "execution_count": null,
   "metadata": {},
   "outputs": [],
   "source": [
    "# include your code for task 3. here\n"
   ]
  },
  {
   "cell_type": "markdown",
   "metadata": {},
   "source": [
    "### Question 2\n",
    "\n",
    "Use the return calculations you performed in Question 1 to perform the following tasks.\n",
    "\n",
    "Tasks:\n",
    "1. Calculate the arithmetic mean of stock A, name it mean_a\n",
    "2. Calculate the geometric mean of the returns of Stock A, name it mean_g\n",
    "3. Answer the question that follows based on your calculations\n"
   ]
  },
  {
   "cell_type": "code",
   "execution_count": null,
   "metadata": {},
   "outputs": [],
   "source": [
    "# include your code for task 1. here\n"
   ]
  },
  {
   "cell_type": "code",
   "execution_count": null,
   "metadata": {},
   "outputs": [],
   "source": [
    "# include your code for task 2. here\n"
   ]
  },
  {
   "cell_type": "raw",
   "metadata": {},
   "source": [
    "Task 3\n",
    "\n",
    "Which of the following statements is correct regarding your calculations above?\n",
    "\n",
    "I. The arithmetic average tells me what I expect to earn if I buy the stock today and hold it for a month. \n",
    "II. The geometric mean tells me what average monthly return I earned over the last 3 months. \n",
    "III. The arithmetic mean is always greater than the geometric mean \n",
    "\n",
    "Option 1: I only\n",
    "Option 2: II only \n",
    "Option 3: I and II \n",
    "Option 4: I, II and III"
   ]
  },
  {
   "cell_type": "code",
   "execution_count": null,
   "metadata": {},
   "outputs": [],
   "source": [
    "# enter your answer below by replacing 0 with your choice among options 1, 2, 3 or 4\n",
    "test1 = 0"
   ]
  },
  {
   "cell_type": "markdown",
   "metadata": {},
   "source": [
    "### Question 3\n",
    "\n",
    "Use the return calculations you performed in Question 1 to perform the following tasks.\n",
    "\n",
    "Tasks:\n",
    "\n",
    "1. Calculate the variance of the returns of stock A, name it var.\n",
    "2. Calculate the standard deviation of the returns of stock A, name it std.\n",
    "3. Calculate the skewness of the returns of stock A, name it skew.\n",
    "4. Calculate the kurtosis of the returns of stock A, name it kurt.\n"
   ]
  },
  {
   "cell_type": "code",
   "execution_count": null,
   "metadata": {
    "nbgrader": {
     "grade": false,
     "grade_id": "cell-28c5d6c906515adf",
     "locked": false,
     "schema_version": 3,
     "solution": true,
     "task": false
    }
   },
   "outputs": [],
   "source": [
    "# include your code for task 1. here\n"
   ]
  },
  {
   "cell_type": "code",
   "execution_count": null,
   "metadata": {
    "nbgrader": {
     "grade": false,
     "grade_id": "cell-2ff1f284adbe68e0",
     "locked": false,
     "schema_version": 3,
     "solution": true,
     "task": false
    }
   },
   "outputs": [],
   "source": [
    "# include your code for task 2. here\n"
   ]
  },
  {
   "cell_type": "code",
   "execution_count": null,
   "metadata": {
    "nbgrader": {
     "grade": false,
     "grade_id": "cell-ee827369b16e8f25",
     "locked": false,
     "schema_version": 3,
     "solution": true,
     "task": false
    }
   },
   "outputs": [],
   "source": [
    "# include your code for task 3. here\n"
   ]
  },
  {
   "cell_type": "code",
   "execution_count": null,
   "metadata": {
    "nbgrader": {
     "grade": false,
     "grade_id": "cell-98702e013c228887",
     "locked": false,
     "schema_version": 3,
     "solution": true,
     "task": false
    }
   },
   "outputs": [],
   "source": [
    "# include your code for task 4. here\n"
   ]
  },
  {
   "cell_type": "markdown",
   "metadata": {},
   "source": [
    "### Question 4\n",
    "\n",
    "You have a csv file of monthly historical prices on an exchange traded fund of US exploration&production oil&gas companies. It has been read in for you.\n",
    "\n",
    "Tasks:\n",
    "1. Calculate the returns, name the container rets.\n",
    "2. Calculate the 5% VaR on a monthly basis assuming normality per unit of currency invested in the fund, name this val_risk_norm.\n",
    "3. Calculate the 5% VaR on a monthly basis not assuming normality per unit of currency invested in the fund, name this val_risk_non_norm.\n",
    "4. Answer the question regarding your calculations."
   ]
  },
  {
   "cell_type": "code",
   "execution_count": null,
   "metadata": {},
   "outputs": [],
   "source": [
    "prices_fund = pd.read_csv(\"fund_monthly.csv\")\n",
    "prices_fund.head(5)"
   ]
  },
  {
   "cell_type": "code",
   "execution_count": null,
   "metadata": {},
   "outputs": [],
   "source": [
    "prices_fund = pd.read_csv(\"fund_monthly.csv\")\n",
    "new_header = prices_fund.date\n",
    "prices_fund = prices_fund.prices\n",
    "prices_fund.head(5)"
   ]
  },
  {
   "cell_type": "code",
   "execution_count": null,
   "metadata": {},
   "outputs": [],
   "source": [
    "# include your code for task 1. here\n"
   ]
  },
  {
   "cell_type": "code",
   "execution_count": null,
   "metadata": {},
   "outputs": [],
   "source": [
    "# include your code for task 2. here\n"
   ]
  },
  {
   "cell_type": "code",
   "execution_count": null,
   "metadata": {},
   "outputs": [],
   "source": [
    "# include your code for task 3. here\n"
   ]
  },
  {
   "cell_type": "raw",
   "metadata": {},
   "source": [
    "Task 4\n",
    "\n",
    "Which of the following statements is correct regarding your calculations above?\n",
    "\n",
    "I. The VaR assuming normality is more conservative than the VaR not assuming normality.\n",
    "II. The VaR assuming normality is overestimating the loss compared to the VaR not assuming normality.\n",
    "III. At any given month between 19.39% and 30.73% of the value of the fund could be lost in the best case of the 5% worst possible outcomes\n",
    "\n",
    "Option 1: I and III\n",
    "Option 2: II and III\n",
    "Option 3: I and II\n",
    "Option 4: I, II and III"
   ]
  },
  {
   "cell_type": "code",
   "execution_count": null,
   "metadata": {},
   "outputs": [],
   "source": [
    "# enter your answer below by replacing 0 with your choice among options 1, 2, 3 or 4\n",
    "test2 = 0"
   ]
  }
 ],
 "metadata": {
  "kernelspec": {
   "display_name": "Python 3",
   "language": "python",
   "name": "python3"
  },
  "language_info": {
   "codemirror_mode": {
    "name": "ipython",
    "version": 3
   },
   "file_extension": ".py",
   "mimetype": "text/x-python",
   "name": "python",
   "nbconvert_exporter": "python",
   "pygments_lexer": "ipython3",
   "version": "3.7.6"
  }
 },
 "nbformat": 4,
 "nbformat_minor": 2
}

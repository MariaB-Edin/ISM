{
 "cells": [
  {
   "cell_type": "markdown",
   "metadata": {},
   "source": [
    "# ISM Lecture 8 week 09 Part 3 Solutions\n",
    "\n",
    "This content is authored by Maria Boutchkova for use in the University of Edinbugh Business School Investment and Securities Markets course in Autumn 2020.\n",
    "\n",
    "Make sure to have watched the videos preceeding this Notebook and have covered the slides. Detailed explanations in the assigned textbook chapters.\n",
    "\n",
    "This lesson covers:\n",
    "\n",
    "* Fama-MacBeth test of CAPM as in BKM chapter 13 section 1 performed on individual assets instead of test portfolios.\n",
    "\n",
    "The first computational cell below (with In [ ] in front) contains the solution. Go over the command lines, make sure they make sense to you, click inside the cell, it should become surrounded by a green rectangle, press Esc - the rectangle will become blue, now press Shift+Enter - this will execute the cell and produce the results beneath it.\n",
    "\n",
    "To remove all output in the notebook and start again, go to the Kernel tab above, select Restart and Clear Output.\n",
    "\n",
    "In this notebook we use the functionality of Stata. If you want to explore its full documetation, see here: https://www.stata.com/bookstore/getting-started-windows/\n",
    "\n",
    "The comment sign in Stata is * not #"
   ]
  },
  {
   "cell_type": "code",
   "execution_count": null,
   "metadata": {},
   "outputs": [],
   "source": [
    "* again import the data we prepared in python\n",
    "import delimited data.csv, varnames(1) clear"
   ]
  },
  {
   "cell_type": "code",
   "execution_count": null,
   "metadata": {},
   "outputs": [],
   "source": [
    "%browse"
   ]
  },
  {
   "cell_type": "markdown",
   "metadata": {},
   "source": [
    "# Solved Problem 1: Multiple time-series regressions in a loop\n",
    "\n",
    "Now we are going to loop over all stocks, regress each of them on the market return and save three outputs from each regression: alpha, beta and the root MSE."
   ]
  },
  {
   "cell_type": "code",
   "execution_count": null,
   "metadata": {},
   "outputs": [],
   "source": [
    "* first we shall save all variable names of the stocks without snp in a local macro using the convenient command in stata unab\n",
    "unab stocks: amexlng - xtrarwe\n",
    "* check to see if the what we want is saved in the local macro stocks\n",
    "di \"`stocks'\""
   ]
  },
  {
   "cell_type": "code",
   "execution_count": null,
   "metadata": {},
   "outputs": [],
   "source": [
    "%help unab"
   ]
  },
  {
   "cell_type": "code",
   "execution_count": null,
   "metadata": {},
   "outputs": [],
   "source": [
    "* now we shall run all the regressions and save the 3 numbers in the last 3 lines below the data\n",
    "\n",
    "* add 3 more empty observations\n",
    "* in Stata the total number of observations in a dataset in memory is _N\n",
    "local new_obs = _N + 3\n",
    "set obs `new_obs'"
   ]
  },
  {
   "cell_type": "code",
   "execution_count": null,
   "metadata": {},
   "outputs": [],
   "source": [
    "* set up the loop\n",
    "foreach v of local stocks {\n",
    "    qui reg `v' snp\n",
    "    qui replace `v' = _b[_cons] in -3\n",
    "    qui replace `v' = _b[snp] in -2\n",
    "    qui replace `v' = e(rmse) in -1\n",
    "}"
   ]
  },
  {
   "cell_type": "raw",
   "metadata": {},
   "source": [
    "The tail magic shows us the last 10 lines of data"
   ]
  },
  {
   "cell_type": "code",
   "execution_count": null,
   "metadata": {},
   "outputs": [],
   "source": [
    "%tail"
   ]
  },
  {
   "cell_type": "markdown",
   "metadata": {},
   "source": [
    "# Solved Problem 2: Compute averages and save in the last row\n",
    "\n",
    "We are again going to loop over all stocks, including the mkt return and compute their means and store them in the bottom of the data."
   ]
  },
  {
   "cell_type": "code",
   "execution_count": null,
   "metadata": {},
   "outputs": [],
   "source": [
    "local new_obs = _N + 1\n",
    "set obs `new_obs'"
   ]
  },
  {
   "cell_type": "code",
   "execution_count": null,
   "metadata": {},
   "outputs": [],
   "source": [
    "* set up the loop, this time we want all variables no need to exclude snp\n",
    "* the option meanonly speeds up the code and works for us since we only need the mean\n",
    "unab stocks: snp - xtrarwe\n",
    "foreach v of local stocks {\n",
    "    qui sum `v' in 1/-5, meanonly\n",
    "    qui replace `v' = r(mean) in -1\n",
    "}"
   ]
  },
  {
   "cell_type": "code",
   "execution_count": null,
   "metadata": {},
   "outputs": [],
   "source": [
    "%tail"
   ]
  },
  {
   "cell_type": "markdown",
   "metadata": {},
   "source": [
    "# Solved Problem 3: Run the second-pass regression and plot the results\n",
    "\n",
    "We are now ready to regress the average return on the betas, betas squared and the root MSE of all time-series regressions. But first we need to rearange the last 4 rows of the data into columns"
   ]
  },
  {
   "cell_type": "code",
   "execution_count": null,
   "metadata": {},
   "outputs": [],
   "source": [
    "drop date\n",
    "keep in -4/l\n",
    "xpose, clear\n",
    "rename v1 alpha\n",
    "rename v2 beta\n",
    "rename v3 rmse\n",
    "rename v4 ave"
   ]
  },
  {
   "cell_type": "code",
   "execution_count": null,
   "metadata": {},
   "outputs": [],
   "source": [
    "%browse"
   ]
  },
  {
   "cell_type": "code",
   "execution_count": null,
   "metadata": {},
   "outputs": [],
   "source": [
    "* save the average mkt excess return in a local macro\n",
    "qui sum ave in 1, meanonly\n",
    "local ave_mkt = r(mean)\n",
    "drop in 1\n",
    "gen beta_sq = beta*beta\n",
    "reg ave beta beta_sq rmse\n",
    "di \"`ave_mkt'\""
   ]
  },
  {
   "cell_type": "raw",
   "metadata": {},
   "source": [
    "Make sure you can interpret that results and you know what to compare each coefficient to."
   ]
  },
  {
   "cell_type": "code",
   "execution_count": null,
   "metadata": {},
   "outputs": [],
   "source": [
    "* plot the data and the linear fit of ave on beta\n",
    "scatter ave beta || lfit ave beta "
   ]
  },
  {
   "cell_type": "markdown",
   "metadata": {},
   "source": [
    "# Practice Problem: Perform all thse steps for your own data\n",
    "\n",
    "Now perform these same steps for your data that you saved in part 1 in the csv file my_data."
   ]
  },
  {
   "cell_type": "code",
   "execution_count": null,
   "metadata": {},
   "outputs": [],
   "source": [
    "import delimited my_data.csv, varnames(1) clear"
   ]
  },
  {
   "cell_type": "code",
   "execution_count": null,
   "metadata": {},
   "outputs": [],
   "source": [
    "%browse"
   ]
  },
  {
   "cell_type": "code",
   "execution_count": null,
   "metadata": {},
   "outputs": [],
   "source": [
    "* change the below to your own tickers\n",
    "unab stocks: nyseaig - nasdaqgszbra\n",
    "* check to see if the what we want is saved in the local macro stocks\n",
    "di \"`stocks'\""
   ]
  },
  {
   "cell_type": "code",
   "execution_count": null,
   "metadata": {},
   "outputs": [],
   "source": [
    "* add 3 more empty observations\n",
    "local new_obs = _N + 3\n",
    "set obs `new_obs'"
   ]
  },
  {
   "cell_type": "code",
   "execution_count": null,
   "metadata": {},
   "outputs": [],
   "source": [
    "* set up the loop\n",
    "foreach v of local stocks {\n",
    "    qui reg `v' snp\n",
    "    qui replace `v' = _b[_cons] in -3\n",
    "    qui replace `v' = _b[snp] in -2\n",
    "    qui replace `v' = e(rmse) in -1\n",
    "}"
   ]
  },
  {
   "cell_type": "code",
   "execution_count": null,
   "metadata": {},
   "outputs": [],
   "source": [
    "%tail"
   ]
  },
  {
   "cell_type": "code",
   "execution_count": null,
   "metadata": {},
   "outputs": [],
   "source": [
    "local new_obs = _N + 1\n",
    "set obs `new_obs'"
   ]
  },
  {
   "cell_type": "code",
   "execution_count": null,
   "metadata": {},
   "outputs": [],
   "source": [
    "* change the below to your own last ticker\n",
    "unab stocks: snp - nasdaqgszbra\n",
    "foreach v of local stocks {\n",
    "    qui sum `v' in 1/-5, meanonly\n",
    "    qui replace `v' = r(mean) in -1\n",
    "}"
   ]
  },
  {
   "cell_type": "code",
   "execution_count": null,
   "metadata": {},
   "outputs": [],
   "source": [
    "drop date\n",
    "keep in -4/l\n",
    "xpose, clear\n",
    "rename v1 alpha\n",
    "rename v2 beta\n",
    "rename v3 rmse\n",
    "rename v4 ave"
   ]
  },
  {
   "cell_type": "code",
   "execution_count": null,
   "metadata": {},
   "outputs": [],
   "source": [
    "* save the average mkt excess return in a local macro and drop the first obs\n",
    "qui sum ave in 1, meanonly\n",
    "local ave_mkt = r(mean)\n",
    "drop in 1"
   ]
  },
  {
   "cell_type": "code",
   "execution_count": null,
   "metadata": {},
   "outputs": [],
   "source": [
    "* generate the squared beta\n",
    "gen beta_sq = beta*beta\n",
    "* run the second pass regression\n",
    "reg ave beta beta_sq rmse"
   ]
  },
  {
   "cell_type": "code",
   "execution_count": null,
   "metadata": {},
   "outputs": [],
   "source": [
    "* plot the data and the linear fit of ave on beta\n",
    "scatter ave beta || lfit ave beta"
   ]
  }
 ],
 "metadata": {
  "kernelspec": {
   "display_name": "Stata",
   "language": "stata",
   "name": "stata"
  },
  "language_info": {
   "codemirror_mode": "stata",
   "file_extension": ".do",
   "mimetype": "text/x-stata",
   "name": "stata",
   "version": "15.1"
  }
 },
 "nbformat": 4,
 "nbformat_minor": 4
}

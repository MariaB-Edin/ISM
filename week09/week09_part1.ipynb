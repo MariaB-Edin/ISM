{
 "cells": [
  {
   "cell_type": "markdown",
   "metadata": {},
   "source": [
    "# ISM Lecture 8 week 09 Part 1\n",
    "\n",
    "This content is authored by Maria Boutchkova for use in the University of Edinbugh Business School Investment and Securities Markets course in Autumn 2020. \n",
    "\n",
    "Make sure to have watched the videos preceeding this Notebook and have covered the slides. Detailed explanations in the assigned textbook chapters.\n",
    "\n",
    "This lesson covers:\n",
    "\n",
    "* Importing data of multiple stocks and preparing it for regression\n",
    "\n",
    "The first computational cell below (with In \\[ \\] in front) contains the solution. Go over the command lines, make sure they make sense to you, click inside the cell, it should become surrounded by a green rectangle, press Esc - the rectangle will become blue, now press Shift+Enter - this will execute the cell and produce the results beneath it.\n",
    "\n",
    "To remove all output in the notebook and start again, go to the Kernel tab above, select Restart and Clear Output.\n",
    "\n",
    "In this notebook we use the functionality of the pandas library. If you want to explore its full documetation, see [here](https://pandas.pydata.org/pandas-docs/stable/index.html).\n"
   ]
  },
  {
   "cell_type": "markdown",
   "metadata": {},
   "source": [
    "## Input data\n",
    "\n",
    "This week we shall be running many regressions in a loop. The data we need are multiple series: many series of prices for individual stocks, one for the market index and one for the risk-free rate.\n",
    "\n",
    "In this example we have monthly adjusted closing prices of the S&P500 index from December 1994 until end of October 2020 (can you estimate how many monthly observations), prices of 76 stocks in my example ETF SPDR S&P Global Infrastructure (see Cap IQ videos for week08) and 3-month Treasury bill rate (proxy for the risk-free rate). The original data is arranged with dates down the rows and the stocks along the columns. The mkt index and T-bill data come in separate files - you all can download them for use again later."
   ]
  },
  {
   "cell_type": "code",
   "execution_count": null,
   "metadata": {},
   "outputs": [],
   "source": [
    "# import a csv file of the prices on the stocks and save it as a panda series\n",
    "import pandas as pd\n",
    "prices = pd.read_csv(\"fund_holdings_prices.csv\", index_col=0)\n",
    "# line below drops any rows where date is NaN\n",
    "prices = prices[prices.index.notnull()]\n",
    "# reorder tickers alphabetically to be able to track operations\n",
    "prices = prices.reindex(sorted(prices.columns), axis=1)\n",
    "# printing prices in full instead of prices.head() to see how many rows of data I have\n",
    "prices"
   ]
  },
  {
   "cell_type": "code",
   "execution_count": null,
   "metadata": {},
   "outputs": [],
   "source": [
    "# import a csv file of the S&P500 Index closing levels i.e. prices and save it as a panda series\n",
    "import pandas as pd\n",
    "index = pd.read_csv(\"SnP500_month_95_20.csv\", index_col=0)\n",
    "index = index[index.index.notnull()]\n",
    "index"
   ]
  },
  {
   "cell_type": "code",
   "execution_count": null,
   "metadata": {},
   "outputs": [],
   "source": [
    "# import a csv file of the risk-free rate (monthly frequency, but given on an annual basis in percentages) and save it as a panda series\n",
    "import pandas as pd\n",
    "rf = pd.read_csv(\"rf_month_ann_perc_95_20.csv\", index_col=0)\n",
    "rf = rf[rf.index.notnull()]\n",
    "rf"
   ]
  },
  {
   "cell_type": "markdown",
   "metadata": {},
   "source": [
    "## Prepare data\n",
    "\n",
    "Make sure headers are the same accross all 3 dataframes.\n",
    "\n",
    "Calculate returns on the stocks and S&P index, transform annual percentage risk-free rate into monthly decimal form. Finally form excess returns."
   ]
  },
  {
   "cell_type": "code",
   "execution_count": null,
   "metadata": {},
   "outputs": [],
   "source": [
    "# Rf into decimal and monthly terms\n",
    "rf_mon_dec = rf/100/12\n",
    "# rename column to avoid confusion\n",
    "rf_mon_dec.columns = ['rate']\n",
    "rf_mon_dec"
   ]
  },
  {
   "cell_type": "code",
   "execution_count": null,
   "metadata": {},
   "outputs": [],
   "source": [
    "# stocks\n",
    "returns = prices / prices.shift(1) - 1\n",
    "returns"
   ]
  },
  {
   "cell_type": "code",
   "execution_count": null,
   "metadata": {},
   "outputs": [],
   "source": [
    "# subtract the risk-free rate from each column of returns\n",
    "ex_ret = returns.sub(rf_mon_dec['rate'],axis=0)\n",
    "ex_ret"
   ]
  },
  {
   "cell_type": "code",
   "execution_count": null,
   "metadata": {},
   "outputs": [],
   "source": [
    "# S&P500 index\n",
    "snp = index / index.shift(1) - 1\n",
    "snp.columns = ['rets']\n",
    "ex_snp = snp.rets.sub(rf_mon_dec.rate)\n",
    "ex_snp = pd.DataFrame(ex_snp)\n",
    "ex_snp.columns = ['snp']\n",
    "ex_snp"
   ]
  },
  {
   "cell_type": "markdown",
   "metadata": {},
   "source": [
    "## Export data\n",
    "\n",
    "Export the prepared data in a single csv file to use in the Stata kernel for the regressions."
   ]
  },
  {
   "cell_type": "code",
   "execution_count": null,
   "metadata": {},
   "outputs": [],
   "source": [
    "# add ex_snp as a column at the start of ex_ret\n",
    "data = pd.concat([ex_snp,ex_ret],axis=1)\n",
    "data"
   ]
  },
  {
   "cell_type": "code",
   "execution_count": null,
   "metadata": {},
   "outputs": [],
   "source": [
    "# export the data as a csv file for Stata\n",
    "data.to_csv('data.csv')"
   ]
  },
  {
   "cell_type": "raw",
   "metadata": {},
   "source": [
    "You can now download the data file to your own machine if you wish but we shall use it directly from the this folder in the Stata kernel."
   ]
  },
  {
   "cell_type": "markdown",
   "metadata": {},
   "source": [
    "# Practice Problem: Prepare your own data\n",
    "\n",
    "Now import your own closing prices of the ETF assigned to you in week08. Compute the returns then the excess returns, combine them with the excess market return and export as my_data.csv.\n",
    "Change the file name of your prices to the correct value."
   ]
  },
  {
   "cell_type": "code",
   "execution_count": null,
   "metadata": {},
   "outputs": [],
   "source": [
    "# import your prices\n",
    "\n",
    "# line that drops any rows where date is NaN\n",
    "\n",
    "# reorder tickers alphabetically to be able to track operations\n",
    "\n",
    "# printing prices in full instead of prices.head() to see how many rows of data we have\n"
   ]
  },
  {
   "cell_type": "code",
   "execution_count": null,
   "metadata": {},
   "outputs": [],
   "source": [
    "# compute returns\n",
    "\n"
   ]
  },
  {
   "cell_type": "code",
   "execution_count": null,
   "metadata": {},
   "outputs": [],
   "source": [
    "# subtract the risk-free rate from each column of returns\n",
    "\n"
   ]
  },
  {
   "cell_type": "code",
   "execution_count": null,
   "metadata": {},
   "outputs": [],
   "source": [
    "# add ex_snp as a column at the start of ex_ret\n",
    "\n"
   ]
  },
  {
   "cell_type": "code",
   "execution_count": null,
   "metadata": {},
   "outputs": [],
   "source": [
    "# export the data as a csv file for Stata\n"
   ]
  }
 ],
 "metadata": {
  "kernelspec": {
   "display_name": "Python 3",
   "language": "python",
   "name": "python3"
  },
  "language_info": {
   "codemirror_mode": {
    "name": "ipython",
    "version": 3
   },
   "file_extension": ".py",
   "mimetype": "text/x-python",
   "name": "python",
   "nbconvert_exporter": "python",
   "pygments_lexer": "ipython3",
   "version": "3.7.6"
  }
 },
 "nbformat": 4,
 "nbformat_minor": 4
}

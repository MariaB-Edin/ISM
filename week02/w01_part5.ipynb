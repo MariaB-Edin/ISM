{
 "cells": [
  {
   "cell_type": "markdown",
   "metadata": {},
   "source": [
    "# ISM Lecture 2 Part 5\n",
    "\n",
    "This content is authored by Maria Boutchkova for use in the University of Edinbugh Business School Investment and Securities Markets course in Autumn 2020. \n",
    "\n",
    "Make sure to have watched the videos preceeding this Notebook and have covered the slides. Detailed explanations in the assigned textbook chapters.\n",
    "\n",
    "This lesson covers:\n",
    "\n",
    "* VaR = Value at Risk\n",
    "\n",
    "The first computational cell below (with In \\[ \\] in front) contains the solution. Go over the command lines, make sure they make sense to you, click inside the cell, it should become surrounded by a green rectangle, press Esc - the rectangle will become blue, now press Shift+Enter - this will execute the cell and produce the results beneath it.\n",
    "\n",
    "To remove all output in the notebook and start again, go to the Kernel tab above, select Restart and Clear Output.\n",
    "\n",
    "In this notebook we use the functionality of the pandas library. If you want to explore its full documetation, see [here](https://pandas.pydata.org/pandas-docs/stable/index.html).\n"
   ]
  },
  {
   "cell_type": "markdown",
   "metadata": {},
   "source": [
    "## Initial necessary step (not required for course): Import csv file into Noteable\n",
    "\n",
    "So far we have been working with short series of returns that were easy to emter manually. We shall now move on to a situation where we have a comma delimited file of monthly prices. For this occasion the file is provided for you in the current folder nd is called prices.csv. \n"
   ]
  },
  {
   "cell_type": "code",
   "execution_count": null,
   "metadata": {},
   "outputs": [],
   "source": [
    "# Call pandas - a python library that makes working with time series very easy\n",
    "import pandas as pd\n",
    "prices = pd.read_csv(\"prices.csv\")\n",
    "print(prices)"
   ]
  },
  {
   "cell_type": "markdown",
   "metadata": {},
   "source": [
    "## Solved Problem 1: Compute summary statistics for a series of values \n",
    "\n",
    "By summary statistics we mean: average, variance, standard deviation, etc. The pandas library has a single command that prodiuces all of them: describe().\n",
    "\n",
    "First let us compute returns from prices. This time using log returns. Log return = log($p_t$) - log($p_{t-1}$). See slides.\n",
    "The log function is part of another python library called numpy, which we need to import."
   ]
  },
  {
   "cell_type": "code",
   "execution_count": null,
   "metadata": {},
   "outputs": [],
   "source": [
    "import numpy as np\n",
    "log_prices = np.log(prices.price)\n",
    "# now compute log returns by using shift as we did in Part 2\n",
    "log_returns = log_prices - log_prices.shift(1)\n",
    "log_returns"
   ]
  },
  {
   "cell_type": "raw",
   "metadata": {},
   "source": [
    "Finally, we are ready to produce the summary stats with describe()."
   ]
  },
  {
   "cell_type": "code",
   "execution_count": null,
   "metadata": {},
   "outputs": [],
   "source": [
    "log_returns.describe()"
   ]
  },
  {
   "cell_type": "raw",
   "metadata": {},
   "source": [
    "We know about the skew() and kurt() functions from before."
   ]
  },
  {
   "cell_type": "code",
   "execution_count": null,
   "metadata": {},
   "outputs": [],
   "source": [
    "log_returns.skew()"
   ]
  },
  {
   "cell_type": "code",
   "execution_count": null,
   "metadata": {},
   "outputs": [],
   "source": [
    "log_returns.kurt()"
   ]
  },
  {
   "cell_type": "markdown",
   "metadata": {},
   "source": [
    "## Practice Problem 1: Compute summary statistics for a series of values\n",
    "\n",
    "Perform the same computatios for stock B. The following cell contains the code to import the new file pricesB.csv - just run it and then fill the following four cells to get log returns, summary stats, skewness and kurtosis for B. Make sure to name your new variables you create differently form the ones for stock A."
   ]
  },
  {
   "cell_type": "code",
   "execution_count": null,
   "metadata": {},
   "outputs": [],
   "source": [
    "import pandas as pd\n",
    "pricesB = pd.read_csv(\"pricesB.csv\")\n",
    "print(prices)"
   ]
  },
  {
   "cell_type": "code",
   "execution_count": null,
   "metadata": {},
   "outputs": [],
   "source": []
  },
  {
   "cell_type": "code",
   "execution_count": null,
   "metadata": {},
   "outputs": [],
   "source": []
  },
  {
   "cell_type": "code",
   "execution_count": null,
   "metadata": {},
   "outputs": [],
   "source": []
  },
  {
   "cell_type": "code",
   "execution_count": null,
   "metadata": {},
   "outputs": [],
   "source": []
  },
  {
   "cell_type": "markdown",
   "metadata": {},
   "source": [
    "## Solved Problem 2: VaR = Value at Risk\n",
    "\n",
    "Now we shall compute the 5% VaR in two ways:\n",
    "1. by using the summary stats \n",
    "2. by using the quantile() function to get the exact quantiles.\n",
    "\n",
    "This is like Example 6 in Lecture 2.\n",
    "5% VaR\t= mean – 1.65 * standard deviation\n",
    "\n",
    "Be sure you understand that this is an approximation and assumes the returns are normal."
   ]
  },
  {
   "cell_type": "code",
   "execution_count": null,
   "metadata": {},
   "outputs": [],
   "source": [
    "log_returns.mean() - 1.65*log_returns.std()"
   ]
  },
  {
   "cell_type": "raw",
   "metadata": {},
   "source": [
    "Next let us compute the exact percentiles of the distribution - now we are not assuming normality."
   ]
  },
  {
   "cell_type": "code",
   "execution_count": null,
   "metadata": {
    "scrolled": true
   },
   "outputs": [],
   "source": [
    "log_returns.quantile([.01, .05, .1, .25, .5, .75, .9, .95, .99])"
   ]
  },
  {
   "cell_type": "raw",
   "metadata": {},
   "source": [
    "Make sure which of the above numbers gives you the 5% VaR, how close is it to the normal approximation?"
   ]
  },
  {
   "cell_type": "markdown",
   "metadata": {},
   "source": [
    "## Practice Problem 2: VaR\n",
    "\n",
    "Now practice doing this for Stock B."
   ]
  },
  {
   "cell_type": "code",
   "execution_count": null,
   "metadata": {},
   "outputs": [],
   "source": []
  },
  {
   "cell_type": "code",
   "execution_count": null,
   "metadata": {},
   "outputs": [],
   "source": []
  }
 ],
 "metadata": {
  "kernelspec": {
   "display_name": "Python 3",
   "language": "python",
   "name": "python3"
  },
  "language_info": {
   "codemirror_mode": {
    "name": "ipython",
    "version": 3
   },
   "file_extension": ".py",
   "mimetype": "text/x-python",
   "name": "python",
   "nbconvert_exporter": "python",
   "pygments_lexer": "ipython3",
   "version": "3.7.6"
  },
  "pycharm": {
   "stem_cell": {
    "cell_type": "raw",
    "metadata": {
     "collapsed": false
    },
    "source": [
     "\n"
    ]
   }
  }
 },
 "nbformat": 4,
 "nbformat_minor": 1
}

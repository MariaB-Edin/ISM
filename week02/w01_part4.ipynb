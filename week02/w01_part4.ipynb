{
 "cells": [
  {
   "cell_type": "markdown",
   "metadata": {},
   "source": [
    "# ISM Lecture 2 Part 4 Solutions\n",
    "\n",
    "This content is authored by Maria Boutchkova for use in the University of Edinbugh Business School Investment and Securities Markets course in Autumn 2020. \n",
    "\n",
    "Make sure to have watched the videos preceeding this Notebook and have covered the slides. Detailed explanations in the assigned textbook chapters.\n",
    "\n",
    "This lesson covers:\n",
    "\n",
    "* Variance\n",
    "* Standard Deviation\n",
    "* Skewness\n",
    "* Kurtosis\n",
    "\n",
    "The first computational cell below (with In \\[ \\] in front) contains the solution. Go over the command lines, make sure they make sense to you, click inside the cell, it should become surrounded by a green rectangle, press Esc - the rectangle will become blue, now press Shift+Enter - this will execute the cell and produce the results beneath it.\n",
    "\n",
    "To remove all output in the notebook and start again, go to the Kernel tab above, select Restart and Clear Output.\n",
    "\n",
    "In this notebook we use the pandas library. If you want to explore its full documetation, see [here](https://pandas.pydata.org/pandas-docs/stable/index.html).\n"
   ]
  },
  {
   "cell_type": "markdown",
   "metadata": {},
   "source": [
    "## Solved Problem 1: Compute varance from scratch using pandas dataframe\n",
    "\n",
    "Stock A was \\\\$50 per share at the end of February. Using the information below, calculate the arithmetic mean of the return of stock A.\n",
    "\n",
    "t 0 1 2 3; \n",
    "month Feb Mar Apr May June;\n",
    "price 50 60 45 51.75 55\n",
    "\n",
    "These are the same numbers as in the previous notebook but we need to import pandas and declare variables in every new notebook.\n",
    "\n",
    "First, let us compute the variance by applying the formula from the slides to the elements of returnsA."
   ]
  },
  {
   "cell_type": "code",
   "execution_count": null,
   "metadata": {},
   "outputs": [],
   "source": [
    "lstA = [50, 60, 45, 51.75, 55]\n",
    "# Call pandas - a python library that makes working with time series very easy\n",
    "import pandas as pd\n",
    "# define something called a dataframe named pricesA from the list lstA. \n",
    "# Dataframes are objects that the pandas library operates on.\n",
    "pricesA = pd.DataFrame(lstA)\n",
    "# Enter out holding period return formula using the shift function on the dataframe pricesA.\n",
    "# Note that shift(1) moves all elements by 1 to the right.\n",
    "returnsA = pricesA / pricesA.shift(1) - 1\n",
    "# save the mean in a container\n",
    "meanA = returnsA.mean()\n",
    "# deviations from the mean\n",
    "dev_meanA = returnsA.subtract(meanA)\n",
    "# squared deviations from the mean\n",
    "sq_dev_meanA = (returnsA.subtract(meanA))**2\n",
    "# sum of squared deviations / (n-1)\n",
    "print(\"Variance of stock A from scratch:\")\n",
    "sq_dev_meanA.sum()/(sq_dev_meanA.count() - 1)"
   ]
  },
  {
   "cell_type": "raw",
   "metadata": {},
   "source": [
    "Last, let us use the var() function in the pandas library."
   ]
  },
  {
   "cell_type": "code",
   "execution_count": null,
   "metadata": {},
   "outputs": [],
   "source": [
    "print(\"Variance of stock A using var():\")\n",
    "returnsA.var()"
   ]
  },
  {
   "cell_type": "markdown",
   "metadata": {},
   "source": [
    "## Practice Problem 1: Compute varance from scratch using pandas\n",
    "\n",
    "Perform the same computatios for stock B with the following prices over the period Feb - June:\n",
    "end of month prices: 55, 57, 68, 43, 50"
   ]
  },
  {
   "cell_type": "code",
   "execution_count": null,
   "metadata": {},
   "outputs": [],
   "source": []
  },
  {
   "cell_type": "code",
   "execution_count": null,
   "metadata": {},
   "outputs": [],
   "source": []
  },
  {
   "cell_type": "markdown",
   "metadata": {},
   "source": [
    "## Solved Problem 2: Compute standard deviation\n",
    "\n",
    "First, compute the standard deviation of returnsA using the var()."
   ]
  },
  {
   "cell_type": "code",
   "execution_count": null,
   "metadata": {},
   "outputs": [],
   "source": [
    "print(\"Standard deviation of stock A:\")\n",
    "(returnsA.var())**(1/2)"
   ]
  },
  {
   "cell_type": "markdown",
   "metadata": {},
   "source": [
    "Next use std()."
   ]
  },
  {
   "cell_type": "code",
   "execution_count": null,
   "metadata": {},
   "outputs": [],
   "source": [
    "print(\"Standard deviation of stock A using std():\")\n",
    "returnsA.std()"
   ]
  },
  {
   "cell_type": "markdown",
   "metadata": {},
   "source": [
    "## Practice Problem 2: Compute standard deviation\n",
    "\n",
    "Compute the standard deviation of returnsB using var() and then using std()."
   ]
  },
  {
   "cell_type": "code",
   "execution_count": null,
   "metadata": {},
   "outputs": [],
   "source": []
  },
  {
   "cell_type": "code",
   "execution_count": null,
   "metadata": {},
   "outputs": [],
   "source": []
  },
  {
   "cell_type": "markdown",
   "metadata": {},
   "source": [
    "## Solved Problem 3: Compute skewness\n",
    "\n",
    "For this class we are going to compute skewness directly using the skew() function.\n",
    "As an extra (not required) step you can see beloy how one can apply the formula from the slides from scratch.\n",
    "\n",
    "Compute the skewness of the returns of stock A using skew()."
   ]
  },
  {
   "cell_type": "code",
   "execution_count": null,
   "metadata": {},
   "outputs": [],
   "source": [
    "print(\"Skewness of stock A using skew():\")\n",
    "returnsA.skew()"
   ]
  },
  {
   "cell_type": "markdown",
   "metadata": {},
   "source": [
    "## Practice Problem 3: Compute skewness\n",
    "\n",
    "Compute the skewness of the returns of stock B using skew()."
   ]
  },
  {
   "cell_type": "code",
   "execution_count": null,
   "metadata": {},
   "outputs": [],
   "source": []
  },
  {
   "cell_type": "markdown",
   "metadata": {},
   "source": [
    "## Extra Flair (not required for course): Software Implementation of Sample Skewness\n",
    "\n",
    "The formula in the slides is the general formula for skewness and it is widely used: the third central moment divided by the cube of the standard deviation. But in practice and in particular inpython, stata and excel, it is implemented with a slight modification that ensures unbiasedness.\n",
    "The formula from the slides is multipled by the factor n/(n-1)(n-2).\n",
    "\n",
    "Let us implement this modified formula from scratch to verify that we shall get the same as what the skew() function gives us.\n"
   ]
  },
  {
   "cell_type": "code",
   "execution_count": null,
   "metadata": {},
   "outputs": [],
   "source": [
    "# cubed deviations from the mean\n",
    "cu_dev_meanA = (returnsA.subtract(meanA))**3\n",
    "nA = returnsA.count()\n",
    "# (sum of cubed deviations / n ) / sigma cubed ) !!! see slides * factor above\n",
    "print(\"Skewness of stock A from scratch:\")\n",
    "(cu_dev_meanA.sum()/nA)/(returnsA.std()**3)*(nA/(nA-1)*(nA-2))"
   ]
  },
  {
   "cell_type": "raw",
   "metadata": {},
   "source": [
    "Now you try to do the same for stock B and compare with the computation above using skew()."
   ]
  },
  {
   "cell_type": "code",
   "execution_count": null,
   "metadata": {},
   "outputs": [],
   "source": []
  },
  {
   "cell_type": "markdown",
   "metadata": {},
   "source": [
    "## Solved Problem 4: Compute kurtosis\n",
    "\n",
    "Compute the kurtosis of stock A by using the function kurt()."
   ]
  },
  {
   "cell_type": "code",
   "execution_count": null,
   "metadata": {},
   "outputs": [],
   "source": [
    "print(\"Kurtosis of stock A using kurt():\")\n",
    "returnsA.kurt()"
   ]
  },
  {
   "cell_type": "markdown",
   "metadata": {},
   "source": [
    "## Practice Problem 4: Compute kurtosis\n",
    "\n",
    "Compute the kurtosis of stock B by using the function kurt()."
   ]
  },
  {
   "cell_type": "code",
   "execution_count": null,
   "metadata": {},
   "outputs": [],
   "source": []
  },
  {
   "cell_type": "markdown",
   "metadata": {},
   "source": [
    "## Extra Flair (not required for course): Software Implementation of Sample Kurtosis\n",
    "\n",
    "The formula in the slides is the general formula for kurtosis and it is widely used: the forth central moment divided by the forth power of the standard deviation. But in practice and in particular in python, stata, excel, and other software it is implemented with a slight modification that ensures unbiasedness.\n",
    "The formula from the slides is multipled by a factor that is too cumbersome and beyond the purposes of our class."
   ]
  }
 ],
 "metadata": {
  "kernelspec": {
   "display_name": "Python 3",
   "language": "python",
   "name": "python3"
  },
  "language_info": {
   "codemirror_mode": {
    "name": "ipython",
    "version": 3
   },
   "file_extension": ".py",
   "mimetype": "text/x-python",
   "name": "python",
   "nbconvert_exporter": "python",
   "pygments_lexer": "ipython3",
   "version": "3.7.6"
  },
  "pycharm": {
   "stem_cell": {
    "cell_type": "raw",
    "metadata": {
     "collapsed": false
    },
    "source": [
     "\n"
    ]
   }
  }
 },
 "nbformat": 4,
 "nbformat_minor": 1
}

{
 "cells": [
  {
   "cell_type": "markdown",
   "metadata": {},
   "source": [
    "# ISM Lecture 2 Part 2\n",
    "\n",
    "This content is authored by Maria Boutchkova for use in the University of Edinbugh Business School Investment and Securities Markets course in Autumn 2020. \n",
    "\n",
    "Make sure to have watched the videos preceeding this Notebook and have covered the slides. Detailed explanations in the assigned textbook chapters.\n",
    "\n",
    "This lesson covers:\n",
    "\n",
    "* Holding period returns over multiple periods\n",
    "\n",
    "The first computational cell below (with In [ ] in front) contains the solution. Go over the command lines, make sure they make sense to you, click inside the cell, it should become surrounded by a green rectangle, press Esc - the rectangle will become blue, now press Shift+Enter - this will execute the cell and produce the results beneath it.\n",
    "\n",
    "To remove all output in the notebook and start again, go to the Kernel tab above, select Restart and Clear Output."
   ]
  },
  {
   "cell_type": "markdown",
   "metadata": {},
   "source": [
    "## Solved Problem 1: Compute holding period returns using pandas\n",
    "\n",
    "Stock A was \\\\$50 per share at the end of February. Using the information below, calculate the holding period return at the end of May.\n",
    "\n",
    "t 0 1 2 3\n",
    "month Feb Mar Apr May\n",
    "price 50 60 45 51.75\n",
    "\n",
    "Recall that in the previous notebook we declared separate variables/contaners for each price at different points in time. Now we shall do things slightly more efficiently by declaring a list of all prices in the same container.\n",
    "\n",
    "What is especially convinient in Python is that we count the elements in a list starting at 0. This means that our series of prices at time 0, 1, 2 and 3 will correspond exactly to the numbering of elements in a list.\n",
    "\n",
    "In this example there are no dividends, so the holding pereiod return formula is simply P1/P0 - 1. Make sure you know why (ask if not clear).\n",
    "\n",
    "To do this we need a python library called pandas that allows us to move back and forth along the elements of a list with the function shift().\n",
    "\n",
    "Note that NaN stands for \"not a number\" and denotes a missing value.\n",
    "   "
   ]
  },
  {
   "cell_type": "code",
   "execution_count": null,
   "metadata": {},
   "outputs": [],
   "source": [
    "lstA = [50, 60, 45, 51.75]\n",
    "# Call pandas - a python library that makes working with time series very easy\n",
    "import pandas as pd\n",
    "# define something called a dataframe named pricesA from the list lstA. \n",
    "# Dataframes are objects that the pandas library operates on.\n",
    "pricesA = pd.DataFrame(lstA)\n",
    "# Enter out holding period return formula using the shift function on the dataframe pricesA.\n",
    "# Note that shift(1) moves all elements by 1 to the right.\n",
    "returnsA = pricesA / pricesA.shift(1) - 1\n",
    "returnsA"
   ]
  },
  {
   "cell_type": "markdown",
   "metadata": {},
   "source": [
    "## Practice Problem 1: Compute holding period returns using pandas\n",
    "\n",
    "Solve the same problem for another stock B with the following prices over the period Feb - May:\n",
    "end of month prices: 55, 57, 68, 43 \n",
    "\n",
    "Make sure to define your variables specifically to stock B.\n",
    "\n",
    "Enter your solution below:"
   ]
  },
  {
   "cell_type": "code",
   "execution_count": null,
   "metadata": {},
   "outputs": [],
   "source": []
  },
  {
   "cell_type": "markdown",
   "metadata": {},
   "source": [
    "## Solved Problem 2: Compute a holding period return from multiple shorter holding period returns\n",
    "\n",
    "Use the monthly holding period returns we computed in solved problem 1 to compute the 3-month holding period return between end of February and end of May.\n",
    "\n",
    "What we need here is to add 1 to each monthly holding period return, multiply them all together and substact 1 at the end. See slides.\n",
    "\n",
    "First let us compute the series of gross returns and print them to make sure they make sense."
   ]
  },
  {
   "cell_type": "code",
   "execution_count": null,
   "metadata": {},
   "outputs": [],
   "source": [
    "# Note that we do not need to import pandas every time. \n",
    "# Once we import in the beginning of the notebook and that cell is run, they will be available to the rest of the notebook.\n",
    "# same with lstA - it has already been defined above as long as the cell is run and is avalable to use again.\n",
    "pricesA = pd.DataFrame(lstA)\n",
    "returnsA = pricesA / pricesA.shift(1) - 1\n",
    "gross_returnsA = returnsA + 1\n",
    "gross_returnsA"
   ]
  },
  {
   "cell_type": "raw",
   "metadata": {},
   "source": [
    "Next let us print the label of what we are computing and compute the 3-month holding period return between end of February and end of May:"
   ]
  },
  {
   "cell_type": "code",
   "execution_count": null,
   "metadata": {},
   "outputs": [],
   "source": [
    "print(\"3-month Holding Period Return end of May of storck A:\")\n",
    "# Here we need to use the iloc() suffix of pandas which allows us to pull single elements of the dataframe by their location.\n",
    "# Remeber the location is counted from 0 which serves us perfectly.\n",
    "gross_returnsA.iloc[1]*gross_returnsA.iloc[2]*gross_returnsA.iloc[3]-1"
   ]
  },
  {
   "cell_type": "markdown",
   "metadata": {},
   "source": [
    "## Practice Problem 2: Compute a holding period return from multiple shorter holding period returns\n",
    "\n",
    "Use the monthly holding period returns you computed in practice problem 1 to compute the 3-month holding period return between end of February and end of May for stock B. Make sure to use the dataframe returnsB you defined in practice problem 1.\n",
    "\n",
    "Enter your solution below:"
   ]
  },
  {
   "cell_type": "code",
   "execution_count": null,
   "metadata": {},
   "outputs": [],
   "source": []
  },
  {
   "cell_type": "markdown",
   "metadata": {},
   "source": [
    "## Solved Problem 3: Compute holding period returns from prices\n",
    "\n",
    "Let us compare the return we get when we use beginning and ending price for stock A to what we got using the three monthly holding period returns.\n",
    "\n",
    "Remeber that pricesA are a pandas dataframe and to pick out its elements we need the pandas iloc() suffix."
   ]
  },
  {
   "cell_type": "code",
   "execution_count": null,
   "metadata": {},
   "outputs": [],
   "source": [
    "print(\"3-month Holding Period Return end of May of stock A using prices:\")\n",
    "pricesA.iloc[3]/pricesA.iloc[0]-1"
   ]
  },
  {
   "cell_type": "markdown",
   "metadata": {},
   "source": [
    "## Practice Problem 3: Compute holding period returns from prices\n",
    "\n",
    "Now let us compare the return we get when we use beginning and ending price for stock B to what we got using the three monthly holding period returns."
   ]
  },
  {
   "cell_type": "code",
   "execution_count": null,
   "metadata": {},
   "outputs": [],
   "source": []
  }
 ],
 "metadata": {
  "kernelspec": {
   "display_name": "Python 3",
   "language": "python",
   "name": "python3"
  },
  "language_info": {
   "codemirror_mode": {
    "name": "ipython",
    "version": 3
   },
   "file_extension": ".py",
   "mimetype": "text/x-python",
   "name": "python",
   "nbconvert_exporter": "python",
   "pygments_lexer": "ipython3",
   "version": "3.7.6"
  },
  "pycharm": {
   "stem_cell": {
    "cell_type": "raw",
    "metadata": {
     "collapsed": false
    },
    "source": [
     "\n"
    ]
   }
  }
 },
 "nbformat": 4,
 "nbformat_minor": 1
}

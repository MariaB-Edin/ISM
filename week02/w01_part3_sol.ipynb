{
 "cells": [
  {
   "cell_type": "markdown",
   "metadata": {},
   "source": [
    "# ISM Lecture 2 Part 3 Solutions\n",
    "\n",
    "This content is authored by Maria Boutchkova for use in the University of Edinbugh Business School Investment and Securities Markets course in Autumn 2020. \n",
    "\n",
    "Make sure to have watched the videos preceeding this Notebook and have covered the slides. Detailed explanations in the assigned textbook chapters.\n",
    "\n",
    "This lesson covers:\n",
    "\n",
    "* Arithmetic average\n",
    "* Geometric average\n",
    "\n",
    "The first computational cell below (with In \\[ \\] in front) contains the solution. Go over the command lines, make sure they make sense to you, click inside the cell, it should become surrounded by a green rectangle, press Esc - the rectangle will become blue, now press Shift+Enter - this will execute the cell and produce the results beneath it.\n",
    "\n",
    "To remove all output in the notebook and start again, go to the Kernel tab above, select Restart and Clear Output.\n",
    "\n",
    "In this notebook we begin using more of the functionality of the pandas library. If you want to explore its full documetation, see [here](https://pandas.pydata.org/pandas-docs/stable/index.html).\n"
   ]
  },
  {
   "cell_type": "markdown",
   "metadata": {},
   "source": [
    "## Solved Problem 1: Compute arithmetic mean using pandas dataframe\n",
    "\n",
    "Stock A was \\\\$50 per share at the end of February. Using the information below, calculate the arithmetic mean of the return of stock A.\n",
    "\n",
    "t 0 1 2 3; \n",
    "month Feb Mar Apr May;\n",
    "price 50 60 45 51.75\n",
    "\n",
    "These are the same numbers as in the previous notebook but we need to import pandas and declare variables in every new notebook.\n",
    "\n",
    "First, let us compute the arithmetic mean by applying the formula from the slides to the elements of returnsA."
   ]
  },
  {
   "cell_type": "code",
   "execution_count": null,
   "metadata": {},
   "outputs": [],
   "source": [
    "lstA = [50, 60, 45, 51.75]\n",
    "# Call pandas - a python library that makes working with time series very easy\n",
    "import pandas as pd\n",
    "# define something called a dataframe named pricesA from the list lstA. \n",
    "# Dataframes are objects that the pandas library operates on.\n",
    "pricesA = pd.DataFrame(lstA)\n",
    "# Enter out holding period return formula using the shift function on the dataframe pricesA.\n",
    "# Note that shift(1) moves all elements by 1 to the right.\n",
    "returnsA = pricesA / pricesA.shift(1) - 1\n",
    "print(\"Arithmetic mean for stock A from scratch:\")\n",
    "(returnsA.iloc[1]+returnsA.iloc[2]+returnsA.iloc[3])/3"
   ]
  },
  {
   "cell_type": "raw",
   "metadata": {},
   "source": [
    "Now let us compute the mean in a way that it would work regardless of how many time observations we have in the data. We shall use two convenient functions in the pandas library: sum() and count()."
   ]
  },
  {
   "cell_type": "code",
   "execution_count": null,
   "metadata": {},
   "outputs": [],
   "source": [
    "print(\"Arithmetic mean for stock A using sum() and count():\")\n",
    "returnsA.sum()/returnsA.count()"
   ]
  },
  {
   "cell_type": "raw",
   "metadata": {},
   "source": [
    "Last, let us use the mean() function in the pandas library. Conveniently the mean() function ignores missing values by default."
   ]
  },
  {
   "cell_type": "code",
   "execution_count": null,
   "metadata": {},
   "outputs": [],
   "source": [
    "print(\"Arithmetic mean for stock A using mean():\")\n",
    "returnsA.mean()"
   ]
  },
  {
   "cell_type": "markdown",
   "metadata": {},
   "source": [
    "## Practice Problem 1: Compute holding period returns using pandas\n",
    "\n",
    "Perform the same three computatios for stock B with the following prices over the period Feb - May:\n",
    "end of month prices: 55, 57, 68, 43"
   ]
  },
  {
   "cell_type": "code",
   "execution_count": null,
   "metadata": {},
   "outputs": [],
   "source": [
    "lstB = [55, 57, 68, 43]\n",
    "# Call pandas - a python library that makes working with time series very easy\n",
    "import pandas as pd\n",
    "pricesB = pd.DataFrame(lstB)\n",
    "returnsB = pricesB / pricesB.shift(1) - 1\n",
    "print(\"Arithmetic mean for stock B from scratch:\")\n",
    "(returnsB.iloc[1]+returnsB.iloc[2]+returnsB.iloc[3])/3"
   ]
  },
  {
   "cell_type": "code",
   "execution_count": null,
   "metadata": {},
   "outputs": [],
   "source": [
    "print(\"Arithmetic mean for stock B using sum() and count():\")\n",
    "returnsB.sum()/returnsB.count()"
   ]
  },
  {
   "cell_type": "code",
   "execution_count": null,
   "metadata": {},
   "outputs": [],
   "source": [
    "print(\"Arithmetic mean for stock B using mean():\")\n",
    "returnsB.mean()"
   ]
  },
  {
   "cell_type": "markdown",
   "metadata": {},
   "source": [
    "## Solved Problem 2: Compute geometric mean using pandas dataframe\n",
    "\n",
    "First, compute the geometric mean by applying the formula from the slides to the elements of returnsA.\n",
    "\n",
    "Note that the power operator in python is **"
   ]
  },
  {
   "cell_type": "code",
   "execution_count": null,
   "metadata": {},
   "outputs": [],
   "source": [
    "gross_returnsA = returnsA + 1\n",
    "print(\"Geometric mean for stock A from scratch:\")\n",
    "(gross_returnsA.iloc[1]*gross_returnsA.iloc[2]*gross_returnsA.iloc[3])**(1/3)-1"
   ]
  },
  {
   "cell_type": "raw",
   "metadata": {},
   "source": [
    "Next let us compute the geometric mean in a way that it would work regardless of how many time observations we have in the data. We shall use two convenient functions in the pandas library: prod() and count()."
   ]
  },
  {
   "cell_type": "code",
   "execution_count": null,
   "metadata": {},
   "outputs": [],
   "source": [
    "print(\"Geometric mean for stock A using prod() and count():\")\n",
    "(gross_returnsA.prod())**(1/gross_returnsA.count())-1"
   ]
  },
  {
   "cell_type": "markdown",
   "metadata": {},
   "source": [
    "## Practice Problem 2: Compute geometric mean using pandas dataframe\n",
    "\n",
    "Compute the geometric mean of returnsB from scratch and using prod() and count()."
   ]
  },
  {
   "cell_type": "code",
   "execution_count": null,
   "metadata": {},
   "outputs": [],
   "source": [
    "gross_returnsB = returnsB + 1\n",
    "print(\"Geometric mean for stock B from scratch:\")\n",
    "(gross_returnsB.iloc[1]*gross_returnsB.iloc[2]*gross_returnsB.iloc[3])**(1/3)-1"
   ]
  },
  {
   "cell_type": "code",
   "execution_count": null,
   "metadata": {},
   "outputs": [],
   "source": [
    "print(\"Geometric mean for stock B using prod() and count():\")\n",
    "(gross_returnsB.prod())**(1/gross_returnsB.count())-1"
   ]
  }
 ],
 "metadata": {
  "kernelspec": {
   "display_name": "Python 3",
   "language": "python",
   "name": "python3"
  },
  "language_info": {
   "codemirror_mode": {
    "name": "ipython",
    "version": 3
   },
   "file_extension": ".py",
   "mimetype": "text/x-python",
   "name": "python",
   "nbconvert_exporter": "python",
   "pygments_lexer": "ipython3",
   "version": "3.7.6"
  },
  "pycharm": {
   "stem_cell": {
    "cell_type": "raw",
    "metadata": {
     "collapsed": false
    },
    "source": [
     "\n"
    ]
   }
  }
 },
 "nbformat": 4,
 "nbformat_minor": 1
}

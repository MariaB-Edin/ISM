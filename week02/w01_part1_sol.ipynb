{
 "cells": [
  {
   "cell_type": "markdown",
   "metadata": {},
   "source": [
    "# ISM Lecture 2 Part 1 Solutions\n",
    "\n",
    "This content is authored by Maria Boutchkova for use in the University of Edinbugh Business School Investment and Securities Markets course in Autumn 2020. \n",
    "\n",
    "Make sure to have watched the videos preceeding this Notebook and have covered the slides. Detailed explanations in the assigned textbook chapters.\n",
    "\n",
    "This lesson covers:\n",
    "\n",
    "* Holding period returns\n",
    "\n",
    "The computational cell below (with In [ ] in front) contains the solution. Go over the command lines, make sure they make sense to you, click inside the cell, it should become surrounded by a green rectangle, press Esc - the rectangle will become blue, now press Shift+Enter - this will execute the cell and produce the results beneath it.\n",
    "\n",
    "To remove all output in the notebook and start again, go to the Kernel tab above, select Restart and Clear Output."
   ]
  },
  {
   "cell_type": "markdown",
   "metadata": {},
   "source": [
    "## Solved Problem 1: Compute a single holding period return\n",
    "\n",
    "Suppose that you bought some shares of stock A at \\\\$20 per share at the end of February and the prices and dividend payments of the stock at the end of each month were: end of March \\\\$30, dividend \\\\$0; end of April \\\\$25, dividend \\\\$2; and end of May \\\\$35, dividend \\\\$0.\n",
    "\n",
    "What is your holding period return at the end of May?\n",
    "What are the single month holding period returns at the end of each month?\n",
    "   "
   ]
  },
  {
   "cell_type": "code",
   "execution_count": 1,
   "metadata": {},
   "outputs": [
    {
     "name": "stdout",
     "output_type": "stream",
     "text": [
      "3-month Holding Period Return end of May:\n",
      "0.85\n",
      "1-month Holding Period Return end of March:\n",
      "0.5\n",
      "1-month Holding Period Return end of April:\n",
      "-0.1\n",
      "1-month Holding Period Return end of May:\n",
      "0.4\n"
     ]
    }
   ],
   "source": [
    "priceA_0 = 20\n",
    "priceA_1 = 30\n",
    "priceA_2 = 25\n",
    "priceA_3 = 35\n",
    "divA_1 = 0\n",
    "divA_2 = 2\n",
    "divA_3 = 0\n",
    "\n",
    "print(\"3-month Holding Period Return end of May:\")\n",
    "print((priceA_3 + (divA_1 + divA_2 + divA_3) - priceA_0)/priceA_0)\n",
    "\n",
    "print(\"1-month Holding Period Return end of March:\")\n",
    "print((priceA_1 + divA_1 - priceA_0)/priceA_0)\n",
    "\n",
    "print(\"1-month Holding Period Return end of April:\")\n",
    "print((priceA_2 + divA_2 - priceA_1)/priceA_1)\n",
    "\n",
    "print(\"1-month Holding Period Return end of May:\")\n",
    "print((priceA_3 + divA_3 - priceA_2)/priceA_2)\n"
   ]
  },
  {
   "cell_type": "markdown",
   "metadata": {},
   "source": [
    "## Practice Problem 1: Compute a single holding period return\n",
    "\n",
    "Solve the same problem for another stock B with the following prices and dividends over the period Feb - May:\n",
    "end of month prices: 55, 57, 68, 43 \n",
    "dividends: 0, 0, 1.5, 0\n",
    "\n",
    "Make sure to define your variables specifically to stock B.\n",
    "\n",
    "Enter your solution below:"
   ]
  },
  {
   "cell_type": "code",
   "execution_count": 10,
   "metadata": {},
   "outputs": [
    {
     "name": "stdout",
     "output_type": "stream",
     "text": [
      "3-month Holding Period Return end of May: \n",
      "-0.19090909090909092\n",
      "1-month Holding Period Return end of March:\n",
      "0.03636363636363636\n",
      "1-month Holding Period Return end of April:\n",
      "0.21929824561403508\n",
      "1-month Holding Period Return end of May:\n",
      "-0.36764705882352944\n"
     ]
    }
   ],
   "source": [
    "priceB_0 = 55\n",
    "priceB_1 = 57\n",
    "priceB_2 = 68\n",
    "priceB_3 = 43\n",
    "divB_1 = 0\n",
    "divB_2 = 1.5\n",
    "divB_3 = 0\n",
    "\n",
    "print(\"3-month Holding Period Return end of May: \")\n",
    "print((priceB_3 + (divB_1 + divB_2 + divB_3) - priceB_0)/priceB_0)\n",
    "\n",
    "print(\"1-month Holding Period Return end of March:\")\n",
    "print((priceB_1 + divB_1 - priceB_0)/priceB_0)\n",
    "\n",
    "print(\"1-month Holding Period Return end of April:\")\n",
    "print((priceB_2 + divB_2 - priceB_1)/priceB_1)\n",
    "\n",
    "print(\"1-month Holding Period Return end of May:\")\n",
    "print((priceB_3 + divB_3 - priceB_2)/priceB_2)\n"
   ]
  },
  {
   "cell_type": "markdown",
   "metadata": {},
   "source": [
    "## Extra Flair (not required for course)\n",
    "\n",
    "Here is how to make the numbers show only up to 4 decimals and on the same row with the text:"
   ]
  },
  {
   "cell_type": "code",
   "execution_count": 11,
   "metadata": {},
   "outputs": [
    {
     "name": "stdout",
     "output_type": "stream",
     "text": [
      "3-month Holding Period Return end of May: -0.1909\n"
     ]
    }
   ],
   "source": [
    "hold_ret_3m_end3 = (priceB_3 + (divB_1 + divB_2 + divB_3) - priceB_0)/priceB_0\n",
    "print(\"3-month Holding Period Return end of May: \" + \"{:,.4f}\".format(hold_ret_3m_end3))"
   ]
  },
  {
   "cell_type": "markdown",
   "metadata": {},
   "source": [
    "## Practice Problem 2: Compute a single holding period return\n",
    "\n",
    "Use the data in practice problem 1 to compute the 2-month holding period return betwen end of March and end of May.\n",
    "\n",
    "Enter your solution below:"
   ]
  },
  {
   "cell_type": "code",
   "execution_count": 3,
   "metadata": {},
   "outputs": [
    {
     "name": "stdout",
     "output_type": "stream",
     "text": [
      "2-month Holding Period Return end of May:\n",
      "-0.21929824561403508\n"
     ]
    }
   ],
   "source": [
    "print(\"2-month Holding Period Return end of May:\")\n",
    "print((priceB_3 + (divB_2 + divB_3) - priceB_1)/priceB_1)"
   ]
  },
  {
   "cell_type": "markdown",
   "metadata": {},
   "source": [
    "## Playground\n",
    "\n",
    "Use the cell below to try out anything else, for example, you might be curious about the holding period return over different horizons if you bought both stocks. Or how to show only a cetrain number of decimals as in the Extra cell above.\n"
   ]
  },
  {
   "cell_type": "code",
   "execution_count": 4,
   "metadata": {},
   "outputs": [
    {
     "name": "stdout",
     "output_type": "stream",
     "text": [
      "3-month Holding Period Return end of May both stocks:\n",
      "0.6590909090909091\n"
     ]
    }
   ],
   "source": [
    "print(\"3-month Holding Period Return end of May both stocks:\")\n",
    "print((priceA_3 + (divA_1 + divA_2 + divA_3) - priceA_0)/priceA_0 + (priceB_3 + (divB_1 + divB_2 + divB_3) - priceB_0)/priceB_0)"
   ]
  }
 ],
 "metadata": {
  "kernelspec": {
   "display_name": "Python 3",
   "language": "python",
   "name": "python3"
  },
  "language_info": {
   "codemirror_mode": {
    "name": "ipython",
    "version": 3
   },
   "file_extension": ".py",
   "mimetype": "text/x-python",
   "name": "python",
   "nbconvert_exporter": "python",
   "pygments_lexer": "ipython3",
   "version": "3.7.6"
  },
  "pycharm": {
   "stem_cell": {
    "cell_type": "raw",
    "metadata": {
     "collapsed": false
    },
    "source": [
     "\n"
    ]
   }
  }
 },
 "nbformat": 4,
 "nbformat_minor": 1
}

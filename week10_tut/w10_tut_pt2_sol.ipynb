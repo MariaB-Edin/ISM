{
 "cells": [
  {
   "cell_type": "markdown",
   "metadata": {},
   "source": [
    "# Week 10 Tutorial Part 2 Solved\n",
    "\n",
    "This part covers:\n",
    "\n",
    "* Summary statistics, regression and scatter plot in Stata for the excess return of an individual portfolio on the excess return of the market portfolio - first-pass regression in BKM ch 13\n",
    "\n",
    "The comment sign in Stata is * not #"
   ]
  },
  {
   "cell_type": "code",
   "execution_count": null,
   "metadata": {},
   "outputs": [],
   "source": [
    "* first import the data we prepared in python for stata\n",
    "import delimited data_stata.csv, varnames(1) clear"
   ]
  },
  {
   "cell_type": "code",
   "execution_count": null,
   "metadata": {},
   "outputs": [],
   "source": [
    "%browse"
   ]
  },
  {
   "cell_type": "code",
   "execution_count": null,
   "metadata": {
    "scrolled": true
   },
   "outputs": [],
   "source": [
    "* because we have a much longer period of data, to make sure how many lines have been read in, we can use the %tail magic \n",
    "* that shows us the last 10 rows of the data\n",
    "%tail"
   ]
  },
  {
   "cell_type": "markdown",
   "metadata": {},
   "source": [
    "# Task 1: Summary statistics\n",
    "\n",
    "Produce summary stats for a single test portfolio, say me1bm2, and the MRP."
   ]
  },
  {
   "cell_type": "code",
   "execution_count": null,
   "metadata": {},
   "outputs": [],
   "source": [
    "* summary stats for ex_mkt and me1bm1\n",
    "sum ex_mkt me1bm2"
   ]
  },
  {
   "cell_type": "markdown",
   "metadata": {},
   "source": [
    "# Task 2: Regress a single portfolio ex returns on the MRP\n",
    "\n",
    "Regress the excess returns of a single test portfolio, say me1bm2, on the MRP."
   ]
  },
  {
   "cell_type": "code",
   "execution_count": null,
   "metadata": {},
   "outputs": [],
   "source": [
    "* regress me1bm2 on ex_mkt (first-pass regression)\n",
    "reg me1bm2 ex_mkt"
   ]
  },
  {
   "cell_type": "markdown",
   "metadata": {},
   "source": [
    "# Task 3: Plot the data and the linear fit\n"
   ]
  },
  {
   "cell_type": "code",
   "execution_count": null,
   "metadata": {},
   "outputs": [],
   "source": [
    "* plot the data and the linear fit (aka SCL)\n",
    "scatter me1bm2 ex_mkt || lfit me1bm2 ex_mkt"
   ]
  },
  {
   "cell_type": "markdown",
   "metadata": {},
   "source": [
    "# Exclude outliers - solved\n",
    "\n",
    "We note that outliers may be unduly influencing the graph, let us exclude them."
   ]
  },
  {
   "cell_type": "code",
   "execution_count": null,
   "metadata": {},
   "outputs": [],
   "source": [
    "* add if ... to the same command\n",
    "scatter me1bm2 ex_mkt if me1bm2 < 100 || lfit me1bm2 ex_mkt if me1bm2 < 100"
   ]
  },
  {
   "cell_type": "markdown",
   "metadata": {},
   "source": [
    "# Exclude outliers - practice\n",
    "\n",
    "Modify the if statement to exclude both the returns of me1bm2 that are > 50 and thse of ex_rm that are > 20. The and operator in stata is &"
   ]
  },
  {
   "cell_type": "code",
   "execution_count": null,
   "metadata": {},
   "outputs": [],
   "source": [
    "* modify the if ... statement above by adding & ... \n",
    "scatter me1bm2 ex_mkt if me1bm2 < 50 & ex_mkt < 20 || lfit me1bm2 ex_mkt if me1bm2 < 50 & ex_mkt < 20"
   ]
  }
 ],
 "metadata": {
  "kernelspec": {
   "display_name": "Stata",
   "language": "stata",
   "name": "stata"
  },
  "language_info": {
   "codemirror_mode": "stata",
   "file_extension": ".do",
   "mimetype": "text/x-stata",
   "name": "stata",
   "version": "15.1"
  }
 },
 "nbformat": 4,
 "nbformat_minor": 4
}

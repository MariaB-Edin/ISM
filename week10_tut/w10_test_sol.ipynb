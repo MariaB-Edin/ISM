{
 "cells": [
  {
   "cell_type": "markdown",
   "metadata": {},
   "source": [
    "# ISM Week 10 Test Solutions\n",
    "\n",
    "Due date: <b>December 03, 2020 Thursday 2pm</b>.\n",
    "\n",
    "This represents weekly test number 8 out of 8, of which the best 6 together form  <b>40%</b> of your overall grade in this class.\n",
    "\n",
    "This test will be executed only in the Stata kernel. You must prepare your data either in Excel or in Python using either the first notebook for week09: week09_part1 or the first notebook for the tutorial in week10: w10_tut_pt1.\n",
    "\n",
    "The test folder where you should upload your data is located under BUST100322020-1SV1SEM1 / Week10.\n",
    "\n",
    "This test will ask you questions very similar to the ones we worked through in week 09 lecture materials and week10 tutorial. It will cover:\n",
    "\n",
    "1. Extracting data from Capital IQ and preparing it for regression (10 pts)\n",
    "2. Running multiple regressions in a loop (first-pass regression) on your specifically assigned assets (12 pts)\n",
    "3. Performing the second-pass regression of testing CAPM using the saved results from step 2. (18 pts)\n"
   ]
  },
  {
   "cell_type": "markdown",
   "metadata": {},
   "source": [
    "<div class=\"alert alert-success\">\n",
    "\n",
    "## Instructions to students\n",
    "\n",
    "Do not change the name of this assignment file.\n",
    "    \n",
    "Before starting entering your answers here download the file ism_b_nums_test_week10 from the test folder (BUST100322020-1SV1SEM1 / Week10).<br>Open the file and find your B-number and download monthly adjusted closing prices for the 60 funds assigned to you for the period <b>Dec 2016 - Dec 2019</b>. <br>!!Not the holdings inside the funds but the funds themsleves - they are portfolios. <br>Then process the prices either in Excel or Python: compute returns, then excess returns and finally add the excess return of the market portfolio to your data (for Rm and Rf you can use the data files in week09 or week10_tut). <br>Your resulting data csv file must be named <b>my_funds.csv</b> and  must contain <b>36 rows</b> of monthly excess returns and <b>62 columns</b>  (60 funds assigned to you, plus the market portfolio and a column of dates). <br>Name the column containing the market excess returns <b>ex_mkt</b>. <br>Please note that the test folder already contains a data file called my_funds - this is my test data - you should <b>overwrite it </b> with yours. <br>In the unlikely case where you cannot find your B-number in the file ism_b_nums_test_week10, please use B123456.\n",
    "<br><br>\n",
    "\n",
    "### Code answers\n",
    "   \n",
    "* !!! Name all resulting variables/containers as instructed in each task - otherwise you will not receive credit for your answer. !!!\n",
    " \n",
    "In questions that require you to write code, there will be code cells corresponding to each task containing: \n",
    "\n",
    "<code>* YOUR CODE HERE</code>\n",
    "<br>\n",
    "<code>display as error \"index variable not found\"</code>\n",
    "<br><br>\n",
    "    \n",
    "When you are ready to write your answer, delete <code>display as error \"index variable not found\"</code> and write your code.\n",
    "\n",
    "Do NOT add anything to the line <code>* YOUR CODE HERE</code>\n",
    "\n",
    "Do NOT leave any indent before your code and do NOT comment it out with the * sign.\n",
    "    \n",
    "There will be locked empty code cells that you cannot edit - please ignore them.\n",
    "\n",
    "### Submitting your work\n",
    "    \n",
    "You should save your work before you submit (\"Save\" icon in top menu).\n",
    "    \n",
    "Before you submit, ensure that the notebook can be run from start to finish by clicking Kernel - Restart and Run All in the menu above.\n",
    "    \n",
    "Once you are ready, go to the assignments tab on the Noteable landing page and <b>click \"Submit\"</b> on the relevant assignment. If you do not click \"Submit\", you will get <b>0 credit</b> for this test.\n",
    "\n",
    "</div>"
   ]
  },
  {
   "cell_type": "markdown",
   "metadata": {},
   "source": [
    "# Task 1: Collect, prepare, upload and import your data - 10 points\n",
    "\n",
    "Follow the instructions in the green cell above. When ready import your data.\n"
   ]
  },
  {
   "cell_type": "code",
   "execution_count": null,
   "metadata": {
    "nbgrader": {
     "grade": false,
     "grade_id": "cell-69b4b66abc0521b3",
     "locked": false,
     "schema_version": 3,
     "solution": true,
     "task": false
    }
   },
   "outputs": [],
   "source": [
    "* Import the data you prepared in python or excel, saved as csv file and named my_funds and uploaded in the test folder\n",
    "* which is BUST100322020-1SV1SEM1 / Week10\n",
    "import delimited my_funds.csv, varnames(1) clear\n",
    "\n",
    "*** BEGIN SOLUTION\n",
    "import delimited my_funds.csv, varnames(1) clear\n",
    "*** END SOLUTION"
   ]
  },
  {
   "cell_type": "raw",
   "metadata": {},
   "source": [
    "Use a magic to see how your data looks like."
   ]
  },
  {
   "cell_type": "code",
   "execution_count": null,
   "metadata": {
    "scrolled": true
   },
   "outputs": [],
   "source": [
    "%browse"
   ]
  },
  {
   "cell_type": "markdown",
   "metadata": {},
   "source": [
    "## Task 2: Multiple time-series regressions in a loop - 12 points\n",
    "\n",
    "Loop over all funds, regress each of them on the MRP and save two outputs from each regression: beta and the root MSE.\n",
    "\n",
    "Sub-tasks: <br>\n",
    "a. Save all variable names of the funds without ex_mkt in a local macro named funds (1 pt)<br>\n",
    "b. Run the first-pass regressions (6 pts)<br>\n",
    "c. Save the means of all funds and the market (5 pts)<br>\n"
   ]
  },
  {
   "cell_type": "code",
   "execution_count": null,
   "metadata": {
    "nbgrader": {
     "grade": false,
     "grade_id": "cell-26bf989263af616d",
     "locked": false,
     "schema_version": 3,
     "solution": true,
     "task": false
    }
   },
   "outputs": [],
   "source": [
    "* Task 2a: Save all variable names of the funds without ex_mkt in a local macro named funds using the command unab\n",
    "\n",
    "*** BEGIN SOLUTION\n",
    "unab funds: smalllobm - me6bm10\n",
    "*** END SOLUTION"
   ]
  },
  {
   "cell_type": "code",
   "execution_count": null,
   "metadata": {},
   "outputs": [],
   "source": [
    "* check to see if the var names of funds are saved in the local macro funds\n",
    "\n",
    "di \"`funds'\""
   ]
  },
  {
   "cell_type": "code",
   "execution_count": null,
   "metadata": {
    "nbgrader": {
     "grade": false,
     "grade_id": "cell-e28d66a88ccf94e6",
     "locked": false,
     "schema_version": 3,
     "solution": true,
     "task": false
    }
   },
   "outputs": [],
   "source": [
    "* Task 2b.i: add 2 more empty observations in your data\n",
    "\n",
    "*** BEGIN SOLUTION\n",
    "local new_obs = _N + 2\n",
    "set obs `new_obs'\n",
    "*** END SOLUTION"
   ]
  },
  {
   "cell_type": "code",
   "execution_count": null,
   "metadata": {
    "nbgrader": {
     "grade": false,
     "grade_id": "cell-dd1a73ed93515d9a",
     "locked": false,
     "schema_version": 3,
     "solution": true,
     "task": false
    }
   },
   "outputs": [],
   "source": [
    "* Task 2b.ii: set up the loop that will iterate over all elements in the local macro funds that you declared in 1a. \n",
    "* run a regression of each fund on the market portfolio returns and save 2 outputs in the last 2 rows that you added in 1b.\n",
    "* beta in line -2 and rmse in line -1\n",
    "* remember to put the prefix quitely (abbreviated qui) to avoid printing the results from 60 regressions\n",
    "\n",
    "*** BEGIN SOLUTION\n",
    "foreach v of local funds {\n",
    "    qui reg `v' ex_mkt\n",
    "    qui replace `v' = _b[ex_mkt] in -2\n",
    "    qui replace `v' = e(rmse) in -1\n",
    "}\n",
    "*** END SOLUTION"
   ]
  },
  {
   "cell_type": "raw",
   "metadata": {},
   "source": [
    "Use a magic to make sure the last 2 lines are now populated with betas and rmse-s."
   ]
  },
  {
   "cell_type": "code",
   "execution_count": null,
   "metadata": {},
   "outputs": [],
   "source": [
    "%tail"
   ]
  },
  {
   "cell_type": "code",
   "execution_count": null,
   "metadata": {
    "nbgrader": {
     "grade": false,
     "grade_id": "cell-834e080bd6d33d18",
     "locked": false,
     "schema_version": 3,
     "solution": true,
     "task": false
    }
   },
   "outputs": [],
   "source": [
    "* Task 2c.i: add 1 more empty observation\n",
    "\n",
    "*** BEGIN SOLUTION\n",
    "local new_obs = _N + 1\n",
    "set obs `new_obs'\n",
    "*** END SOLUTION"
   ]
  },
  {
   "cell_type": "code",
   "execution_count": null,
   "metadata": {
    "nbgrader": {
     "grade": false,
     "grade_id": "cell-e67948c04efd86a3",
     "locked": false,
     "schema_version": 3,
     "solution": true,
     "task": false
    }
   },
   "outputs": [],
   "source": [
    "* Task 2c.ii: save all variables including ex_mkt in a local macro named vars\n",
    "\n",
    "*** BEGIN SOLUTION\n",
    "unab vars: ex_mkt - me6bm10\n",
    "*** END SOLUTION"
   ]
  },
  {
   "cell_type": "code",
   "execution_count": null,
   "metadata": {
    "nbgrader": {
     "grade": false,
     "grade_id": "cell-d492c57f258bd01c",
     "locked": false,
     "schema_version": 3,
     "solution": true,
     "task": false
    }
   },
   "outputs": [],
   "source": [
    "* Task 2c.iii: set up the loop to compute the mean of each var and save it in the bottom row\n",
    "\n",
    "*** BEGIN SOLUTION\n",
    "foreach v of local vars {\n",
    "    qui sum `v' in 1/36, meanonly\n",
    "    qui replace `v' = r(mean) in -1\n",
    "}\n",
    "*** END SOLUTION"
   ]
  },
  {
   "cell_type": "raw",
   "metadata": {},
   "source": [
    "Use a magic to make sure the last line is now populated with means."
   ]
  },
  {
   "cell_type": "code",
   "execution_count": null,
   "metadata": {},
   "outputs": [],
   "source": [
    "%tail"
   ]
  },
  {
   "cell_type": "markdown",
   "metadata": {},
   "source": [
    "## Task 3: Run the second-pass regression and analyse the results -  18 points\n",
    "\n",
    "Loop over all funds, regress each of them on the MRP and save two outputs from each regression: beta and the root MSE.\n",
    "\n",
    "Sub-tasks:<br>\n",
    "a. Keep only the data needed for the second-pass regression and transpose it (3 pts)<br>\n",
    "b. Save the average mkt excess return in a local macro (1 pt)<br>\n",
    "c. Generate beta squared (1 pt)<br>\n",
    "d. Run the second pass regression (3 pts)<br>\n",
    "e. Analyse the results (10 pts)<br>"
   ]
  },
  {
   "cell_type": "code",
   "execution_count": null,
   "metadata": {
    "nbgrader": {
     "grade": false,
     "grade_id": "cell-25723e06fe30bd31",
     "locked": false,
     "schema_version": 3,
     "solution": true,
     "task": false
    }
   },
   "outputs": [],
   "source": [
    "* Task 3a.i: drop the variable date and keep only the rows you need for the second-pass regression \n",
    "\n",
    "*** BEGIN SOLUTION\n",
    "drop date\n",
    "keep in -3/l\n",
    "*** END SOLUTION"
   ]
  },
  {
   "cell_type": "raw",
   "metadata": {},
   "source": [
    "Use a magic to check the data."
   ]
  },
  {
   "cell_type": "code",
   "execution_count": null,
   "metadata": {},
   "outputs": [],
   "source": [
    "%browse"
   ]
  },
  {
   "cell_type": "code",
   "execution_count": null,
   "metadata": {
    "nbgrader": {
     "grade": false,
     "grade_id": "cell-d59d57563e898a66",
     "locked": false,
     "schema_version": 3,
     "solution": true,
     "task": false
    }
   },
   "outputs": [],
   "source": [
    "* Task 3a.ii: transpose the rows into columns\n",
    "\n",
    "*** BEGIN SOLUTION\n",
    "xpose, clear\n",
    "*** END SOLUTION"
   ]
  },
  {
   "cell_type": "code",
   "execution_count": null,
   "metadata": {
    "nbgrader": {
     "grade": false,
     "grade_id": "cell-08bcd01d84298631",
     "locked": false,
     "schema_version": 3,
     "solution": true,
     "task": false
    }
   },
   "outputs": [],
   "source": [
    "* Task 3a.ii: rename the variables ave, beta and rmse\n",
    "\n",
    "*** BEGIN SOLUTION\n",
    "rename v1 beta\n",
    "rename v2 rmse\n",
    "rename v3 ave\n",
    "*** END SOLUTION"
   ]
  },
  {
   "cell_type": "code",
   "execution_count": null,
   "metadata": {
    "nbgrader": {
     "grade": false,
     "grade_id": "cell-1fd456d417d8042c",
     "locked": false,
     "schema_version": 3,
     "solution": true,
     "task": false
    }
   },
   "outputs": [],
   "source": [
    "* Task 3b: Save the average mkt excess return in a local macro called ave_mkt\n",
    "\n",
    "*** BEGIN SOLUTION\n",
    "local ave_mkt = ave in 1\n",
    "*** END SOLUTION"
   ]
  },
  {
   "cell_type": "code",
   "execution_count": null,
   "metadata": {
    "nbgrader": {
     "grade": false,
     "grade_id": "cell-14805d3daaa22988",
     "locked": false,
     "schema_version": 3,
     "solution": true,
     "task": false
    }
   },
   "outputs": [],
   "source": [
    "* Task 3c: Generate beta squared name it beta_sq\n",
    "\n",
    "*** BEGIN SOLUTION\n",
    "gen beta_sq = beta*beta\n",
    "*** END SOLUTION"
   ]
  },
  {
   "cell_type": "code",
   "execution_count": null,
   "metadata": {
    "nbgrader": {
     "grade": false,
     "grade_id": "cell-9b96d8f030247d1f",
     "locked": false,
     "schema_version": 3,
     "solution": true,
     "task": false
    }
   },
   "outputs": [],
   "source": [
    "* Task 3d: Run the second pass regression, save the results in a matrix named second_pass and display the local macro ave_mkt\n",
    "\n",
    "*** BEGIN SOLUTION\n",
    "reg ave beta beta_sq rmse\n",
    "matrix second_pass = r(table)\n",
    "di \"`ave_mkt'\"\n",
    "*** END SOLUTION"
   ]
  },
  {
   "cell_type": "code",
   "execution_count": null,
   "metadata": {
    "nbgrader": {
     "grade": false,
     "grade_id": "cell-c59bb67d0826b824",
     "locked": false,
     "schema_version": 3,
     "solution": true,
     "task": false
    }
   },
   "outputs": [],
   "source": [
    "* Task 3e.i.: Analyse the intercept. Declare a local macro gamma0hyp and set it equal to the appropriate null hypothesis\n",
    "* For example if the null hypothesis is H0: gamma0 = 1, enter: local gamma0hyp = 1\n",
    "\n",
    "*** BEGIN SOLUTION\n",
    "local gamma0hyp = 0\n",
    "*** END SOLUTION"
   ]
  },
  {
   "cell_type": "code",
   "execution_count": null,
   "metadata": {
    "nbgrader": {
     "grade": false,
     "grade_id": "cell-30a707915e13f907",
     "locked": false,
     "schema_version": 3,
     "solution": true,
     "task": false
    }
   },
   "outputs": [],
   "source": [
    "* Task 3e.ii.: Analyse the coefficient on beta. Declare a local macro gamma1hyp and set it equal to the appropriate null hypothesis\n",
    "* For example if the null hypothesis is H0: gamma1 = 1, enter: local gamma1hyp = 1\n",
    "* If the number is not an integer, use 4 digits after the decimal point\n",
    "\n",
    "*** BEGIN SOLUTION\n",
    "local gamma1hyp = `ave_mkt'\n",
    "*** END SOLUTION"
   ]
  },
  {
   "cell_type": "code",
   "execution_count": null,
   "metadata": {
    "nbgrader": {
     "grade": false,
     "grade_id": "cell-a5567e42da2e01e6",
     "locked": false,
     "schema_version": 3,
     "solution": true,
     "task": false
    }
   },
   "outputs": [],
   "source": [
    "* Task 3e.iii.: Analyse the coefficient on beta squared. Declare a local macro gamma2hyp and set it equal to the appropriate null hypothesis\n",
    "* For example if the null hypothesis is H0: gamma2 = 1, enter: local gamma2hyp = 1\n",
    "\n",
    "*** BEGIN SOLUTION\n",
    "local gamma2hyp = 0\n",
    "*** END SOLUTION"
   ]
  },
  {
   "cell_type": "code",
   "execution_count": null,
   "metadata": {
    "nbgrader": {
     "grade": false,
     "grade_id": "cell-a9f6e49090b445e5",
     "locked": false,
     "schema_version": 3,
     "solution": true,
     "task": false
    }
   },
   "outputs": [],
   "source": [
    "* Task 3e.iv.: Analyse the coefficient on rmse. Declare a local macro gamma3hyp and set it equal to the appropriate null hypothesis\n",
    "* For example if the null hypothesis is H0: gamma3 = 1, enter: local gamma3hyp = 1\n",
    "\n",
    "*** BEGIN SOLUTION\n",
    "local gamma3hyp = 0\n",
    "*** END SOLUTION"
   ]
  }
 ],
 "metadata": {
  "kernelspec": {
   "display_name": "Stata",
   "language": "stata",
   "name": "stata"
  },
  "language_info": {
   "codemirror_mode": "stata",
   "file_extension": ".do",
   "mimetype": "text/x-stata",
   "name": "stata",
   "version": "15.1"
  }
 },
 "nbformat": 4,
 "nbformat_minor": 2
}

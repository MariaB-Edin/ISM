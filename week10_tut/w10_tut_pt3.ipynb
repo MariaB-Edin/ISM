{
 "cells": [
  {
   "cell_type": "markdown",
   "metadata": {},
   "source": [
    "# Week 10 Tutorial Part 3 Solved\n",
    "\n",
    "This part covers:\n",
    "\n",
    "* Test of CAPM as in BKM chapter 13 section 1 performed on test portfolios.\n",
    "\n",
    "The comment sign in Stata is * not #"
   ]
  },
  {
   "cell_type": "code",
   "execution_count": null,
   "metadata": {},
   "outputs": [],
   "source": [
    "* again import the data we prepared in python\n",
    "import delimited data_stata.csv, varnames(1) clear\n",
    "* save it as a stata file to open again later\n",
    "save all_data, replace"
   ]
  },
  {
   "cell_type": "raw",
   "metadata": {},
   "source": [
    "Use the browse magic to see the data. Magics must start at the beginning of the code cell, so we cannot use comments before them."
   ]
  },
  {
   "cell_type": "code",
   "execution_count": null,
   "metadata": {
    "scrolled": true
   },
   "outputs": [],
   "source": []
  },
  {
   "cell_type": "markdown",
   "metadata": {},
   "source": [
    "# Task 1: Multiple time-series regressions in a loop\n",
    "\n",
    "Loop over all portfolios, regress each of them on the MRP and save three outputs from each regression: alpha, beta and the root MSE."
   ]
  },
  {
   "cell_type": "code",
   "execution_count": null,
   "metadata": {},
   "outputs": [],
   "source": [
    "* save all variable names of the portfolios without ex_mkt in a local macro named ports using the command unab\n",
    "\n",
    "* check to see if the var names of the 100 test portfolios are saved in the local macro ports\n"
   ]
  },
  {
   "cell_type": "code",
   "execution_count": null,
   "metadata": {},
   "outputs": [],
   "source": [
    "* add 3 more empty observations\n",
    "\n"
   ]
  },
  {
   "cell_type": "code",
   "execution_count": null,
   "metadata": {},
   "outputs": [],
   "source": [
    "* set up the loop\n",
    "\n"
   ]
  },
  {
   "cell_type": "raw",
   "metadata": {},
   "source": [
    "Use the tail magic to see the last 10 lines of data."
   ]
  },
  {
   "cell_type": "code",
   "execution_count": null,
   "metadata": {},
   "outputs": [],
   "source": []
  },
  {
   "cell_type": "markdown",
   "metadata": {},
   "source": [
    "# Task 2: Compute averages and save in the last row\n",
    "\n",
    "Loop over all portfolios, including ex_mkt, compute their means and store them in the bottom row of the data."
   ]
  },
  {
   "cell_type": "code",
   "execution_count": null,
   "metadata": {},
   "outputs": [],
   "source": [
    "* add 1 more empty observation\n",
    "\n"
   ]
  },
  {
   "cell_type": "code",
   "execution_count": null,
   "metadata": {},
   "outputs": [],
   "source": [
    "* save all variables including ex_mkt in a local macro named vars\n",
    "\n"
   ]
  },
  {
   "cell_type": "code",
   "execution_count": null,
   "metadata": {},
   "outputs": [],
   "source": [
    "* set up the loop to compute the mean of each var and save it in the bottom row\n",
    "\n"
   ]
  },
  {
   "cell_type": "raw",
   "metadata": {},
   "source": [
    "Use the tail magic to see the last 10 lines of data."
   ]
  },
  {
   "cell_type": "code",
   "execution_count": null,
   "metadata": {},
   "outputs": [],
   "source": []
  },
  {
   "cell_type": "markdown",
   "metadata": {},
   "source": [
    "# Task 3: Run the second-pass regression and plot the results\n",
    "\n",
    "Regress the average return of the portfolios on their betas, betas squared and the root MSE of all time-series regressions."
   ]
  },
  {
   "cell_type": "code",
   "execution_count": null,
   "metadata": {},
   "outputs": [],
   "source": [
    "* drop date and keep only the last 4 rows\n",
    "\n",
    "\n",
    "* ascertain the data looks as expected with either the browse or the tail magic or both \n",
    "* if you want to use both you need separate cells for each - you can insert a new cell from the menu above"
   ]
  },
  {
   "cell_type": "code",
   "execution_count": null,
   "metadata": {},
   "outputs": [],
   "source": []
  },
  {
   "cell_type": "code",
   "execution_count": null,
   "metadata": {},
   "outputs": [],
   "source": [
    "* transpose the rows into columns\n",
    "\n",
    "\n",
    "* rename v1-v4 accordingly\n",
    "\n",
    "\n",
    "* ascertain the data looks as expected"
   ]
  },
  {
   "cell_type": "code",
   "execution_count": null,
   "metadata": {},
   "outputs": [],
   "source": []
  },
  {
   "cell_type": "code",
   "execution_count": null,
   "metadata": {},
   "outputs": [],
   "source": [
    "* save the average mkt excess return in a local macro\n",
    "\n",
    "\n",
    "* drop the first row\n",
    "\n",
    "\n",
    "* generate a variable = beta squared\n",
    "\n",
    "\n",
    "* run the second pass regression\n",
    "\n",
    "\n",
    "* display the saved average MRP and practice interpreting the results\n",
    "\n"
   ]
  },
  {
   "cell_type": "code",
   "execution_count": null,
   "metadata": {},
   "outputs": [],
   "source": [
    "* let us save this regression output in a matrix named full_hist\n",
    "* to compare with the one we shall get for the most recent sub-period\n",
    "matrix full_hist = r(table)"
   ]
  },
  {
   "cell_type": "code",
   "execution_count": null,
   "metadata": {},
   "outputs": [],
   "source": [
    "* plot the data and the linear fit of ave on beta\n",
    "\n"
   ]
  },
  {
   "cell_type": "markdown",
   "metadata": {},
   "source": [
    "# Task 4: Redo the two-pass prosedure for a subset of data\n",
    "\n",
    "Redo both the first-pass and the second-pass regression but for the period starting in Jan 1990 and ending Dec 2019. \n"
   ]
  },
  {
   "cell_type": "code",
   "execution_count": null,
   "metadata": {},
   "outputs": [],
   "source": [
    "* Open the full data file we saved at the start\n",
    "use all_data, clear"
   ]
  },
  {
   "cell_type": "code",
   "execution_count": null,
   "metadata": {},
   "outputs": [],
   "source": [
    "* drop the data before Jan 1990 and save as a new file named 1990_2019\n",
    "\n",
    "* ascertain the data looks as expected"
   ]
  },
  {
   "cell_type": "code",
   "execution_count": null,
   "metadata": {},
   "outputs": [],
   "source": []
  },
  {
   "cell_type": "code",
   "execution_count": null,
   "metadata": {},
   "outputs": [],
   "source": [
    "* add 3 more empty observations\n",
    "\n",
    "* ascertain the end of the data looks as expected"
   ]
  },
  {
   "cell_type": "code",
   "execution_count": null,
   "metadata": {},
   "outputs": [],
   "source": []
  },
  {
   "cell_type": "code",
   "execution_count": null,
   "metadata": {},
   "outputs": [],
   "source": [
    "* save all variable names of the portfolios without ex_mkt in a local macro\n",
    "\n",
    "\n",
    "* set up the loop for the first-pass regressions and add the outputs in the bottom 3 rows you just inserted\n",
    "\n"
   ]
  },
  {
   "cell_type": "code",
   "execution_count": null,
   "metadata": {},
   "outputs": [],
   "source": [
    "* add one more row\n",
    "\n",
    "\n",
    "* save all variables including ex_mkt in a local macro named vars\n",
    "\n",
    "\n",
    "* set up the loop to compute the mean of each var and save it in the bottom row\n",
    "\n",
    "\n",
    "* ascertain the end of the data looks as expected"
   ]
  },
  {
   "cell_type": "code",
   "execution_count": null,
   "metadata": {},
   "outputs": [],
   "source": []
  },
  {
   "cell_type": "code",
   "execution_count": null,
   "metadata": {},
   "outputs": [],
   "source": [
    "* drop date and keep only the last 4 rows\n",
    "\n",
    "\n",
    "* transpose the rows into columns\n",
    "\n",
    "\n",
    "* rename v1-v4 accordingly\n",
    "\n",
    "\n",
    "* ascertain the data looks as expected"
   ]
  },
  {
   "cell_type": "code",
   "execution_count": null,
   "metadata": {},
   "outputs": [],
   "source": []
  },
  {
   "cell_type": "code",
   "execution_count": null,
   "metadata": {},
   "outputs": [],
   "source": [
    "* save the average mkt excess return in a local macro\n",
    "\n",
    "\n",
    "* drop the first row\n",
    "\n",
    "\n",
    "* generate a variable = beta squared and called beta_sq\n",
    "\n",
    "\n",
    "* run the second pass regression\n",
    "\n",
    "\n",
    "* display the saved average MRP and practice interpreting the results\n",
    "\n"
   ]
  },
  {
   "cell_type": "code",
   "execution_count": null,
   "metadata": {},
   "outputs": [],
   "source": [
    "* now save this second regression output in a matrix named recent_hist\n",
    "matrix recent_hist = r(table)"
   ]
  },
  {
   "cell_type": "code",
   "execution_count": null,
   "metadata": {},
   "outputs": [],
   "source": [
    "* finally display the two matrices with the regression results and interpret them\n",
    "matlist full_hist \n",
    "matlist recent_hist"
   ]
  }
 ],
 "metadata": {
  "kernelspec": {
   "display_name": "Stata",
   "language": "stata",
   "name": "stata"
  },
  "language_info": {
   "codemirror_mode": "stata",
   "file_extension": ".do",
   "mimetype": "text/x-stata",
   "name": "stata",
   "version": "15.1"
  }
 },
 "nbformat": 4,
 "nbformat_minor": 4
}

{
 "cells": [
  {
   "cell_type": "markdown",
   "metadata": {},
   "source": [
    "# ISM Week 04 Tutorial Part 1\n",
    "\n",
    "This notebook will ask you questions very similar to the ones we worked through in week 02 and you can expect to see on the test this week. It will cover:\n",
    "\n",
    "* Holding period returns\n",
    "* Arithmetic and Geometric Means"
   ]
  },
  {
   "cell_type": "code",
   "execution_count": 1,
   "metadata": {},
   "outputs": [],
   "source": [
    "# importing necessary libraries\n",
    "import pandas as pd\n",
    "import numpy as np"
   ]
  },
  {
   "cell_type": "markdown",
   "metadata": {},
   "source": [
    "### Question 1\n",
    "\n",
    "Consider the stock Anheuser-Busch InBev (the prodicer of the beer brand Corona) with closing prices starting at time 0 (this past February) over the next 4 months (March through June) as follows: 50, 40, 41, 42, 44\n",
    "\n",
    "Tasks:\n",
    "1. Calculate the monthly holding period returns (regular, not log returns). Name the container/variable/vector containing the  holding period returns inbev.\n",
    "2. Calculate the 4-month holding period return by using the monthly returns in part 1. Name it inbev_4m_rtns.\n",
    "3. Calculate the 4-month holding period return by using the relevant starting and ending prices. Name it inbev_4m_prcs."
   ]
  },
  {
   "cell_type": "code",
   "execution_count": null,
   "metadata": {},
   "outputs": [],
   "source": [
    "# first your closing prices are saved in a pandas dataframe for you\n",
    "lst = [50, 40, 41, 42, 44]\n",
    "prices = pd.DataFrame(lst)\n",
    "prices"
   ]
  },
  {
   "cell_type": "code",
   "execution_count": null,
   "metadata": {
    "nbgrader": {
     "grade": false,
     "grade_id": "cell-4c7a69beffbcbcda",
     "locked": false,
     "schema_version": 3,
     "solution": true,
     "task": false
    }
   },
   "outputs": [],
   "source": [
    "# include your code for task 1. here\n"
   ]
  },
  {
   "cell_type": "code",
   "execution_count": null,
   "metadata": {
    "nbgrader": {
     "grade": false,
     "grade_id": "cell-5b526a9e3d99235c",
     "locked": false,
     "schema_version": 3,
     "solution": true,
     "task": false
    }
   },
   "outputs": [],
   "source": [
    "# include your code for task 2. here\n"
   ]
  },
  {
   "cell_type": "code",
   "execution_count": null,
   "metadata": {
    "nbgrader": {
     "grade": false,
     "grade_id": "cell-f1fd1b94a3c23188",
     "locked": false,
     "schema_version": 3,
     "solution": true,
     "task": false
    }
   },
   "outputs": [],
   "source": [
    "# include your code for task 3. here\n"
   ]
  },
  {
   "cell_type": "markdown",
   "metadata": {},
   "source": [
    "### Question 2\n",
    "\n",
    "Use the return calculations you performed in Question 1 to perform the following tasks.\n",
    "\n",
    "Tasks:\n",
    "1. Calculate the arithmetic mean of the returns of Anheuser-Busch InBev, name it inbev_mean_a\n",
    "2. Calculate the geometric mean of the returns of Anheuser-Busch InBev, name it inbev_mean_g\n",
    "\n",
    "Make sure you can discuss the different meanings of the two means."
   ]
  },
  {
   "cell_type": "code",
   "execution_count": null,
   "metadata": {
    "nbgrader": {
     "grade": false,
     "grade_id": "cell-96dd2e5336427ec1",
     "locked": false,
     "schema_version": 3,
     "solution": true,
     "task": false
    }
   },
   "outputs": [],
   "source": [
    "# include your code for task 1. here\n"
   ]
  },
  {
   "cell_type": "code",
   "execution_count": null,
   "metadata": {
    "nbgrader": {
     "grade": false,
     "grade_id": "cell-70b4a7ac703ad3bd",
     "locked": false,
     "schema_version": 3,
     "solution": true,
     "task": false
    }
   },
   "outputs": [],
   "source": [
    "# include your code for task 2. here\n"
   ]
  }
 ],
 "metadata": {
  "kernelspec": {
   "display_name": "Python 3",
   "language": "python",
   "name": "python3"
  },
  "language_info": {
   "codemirror_mode": {
    "name": "ipython",
    "version": 3
   },
   "file_extension": ".py",
   "mimetype": "text/x-python",
   "name": "python",
   "nbconvert_exporter": "python",
   "pygments_lexer": "ipython3",
   "version": "3.7.6"
  }
 },
 "nbformat": 4,
 "nbformat_minor": 2
}

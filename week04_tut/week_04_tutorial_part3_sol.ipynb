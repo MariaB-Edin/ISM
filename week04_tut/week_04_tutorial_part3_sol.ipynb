{
 "cells": [
  {
   "cell_type": "markdown",
   "metadata": {},
   "source": [
    "# ISM Week 04 Tutorial Part 3 Solutions\n",
    "\n",
    "This notebook will ask you questions very similar to the ones we worked through in week 02 and you can expect to see on the test this week. It will cover:\n",
    "\n",
    "* Value at Risk"
   ]
  },
  {
   "cell_type": "code",
   "execution_count": null,
   "metadata": {},
   "outputs": [],
   "source": [
    "# importing necessary libraries\n",
    "import pandas as pd\n",
    "import numpy as np"
   ]
  },
  {
   "cell_type": "markdown",
   "metadata": {},
   "source": [
    "### Question 4\n",
    "\n",
    "You have a csv file of monthly historical prices on Anheuser-Busch InBev. It has been read in for you.\n",
    "\n",
    "Tasks:\n",
    "1. Calculate the returns, name the container returns.\n",
    "2. Calculate the 2.5% VaR on a monthly basis assuming normality per unit of currency invested in the fund, name this val_risk_2_5_norm.\n",
    "3. Calculate the 2.5% VaR on a monthly basis not assuming normality per unit of currency invested in the fund, name this val_risk_2_5_non_norm.\n",
    "\n",
    "Discuss the difference between the two numbers. What can we speculate about the distribution of InBev returns relative to the normal distribution? Is this consistent with the skewness calculations in Part 2?"
   ]
  },
  {
   "cell_type": "code",
   "execution_count": null,
   "metadata": {},
   "outputs": [],
   "source": [
    "prices = pd.read_csv(\"inbev_monthly.csv\")\n",
    "new_header = prices.date\n",
    "prices = prices.prices\n",
    "prices.head(5)"
   ]
  },
  {
   "cell_type": "code",
   "execution_count": null,
   "metadata": {
    "nbgrader": {
     "grade": false,
     "grade_id": "cell-5905fb6691678afb",
     "locked": false,
     "schema_version": 3,
     "solution": true,
     "task": false
    }
   },
   "outputs": [],
   "source": [
    "# include your code for task 1. here\n",
    "returns = prices / prices.shift(1) - 1\n",
    "returns.head(5)"
   ]
  },
  {
   "cell_type": "code",
   "execution_count": null,
   "metadata": {
    "nbgrader": {
     "grade": false,
     "grade_id": "cell-194154f49a5f8b22",
     "locked": false,
     "schema_version": 3,
     "solution": true,
     "task": false
    }
   },
   "outputs": [],
   "source": [
    "# include your code for task 2. here\n",
    "val_risk_2_5_norm = returns.mean() - 2*returns.std()\n",
    "val_risk_2_5_norm"
   ]
  },
  {
   "cell_type": "code",
   "execution_count": null,
   "metadata": {
    "nbgrader": {
     "grade": false,
     "grade_id": "cell-174a1b3dcde18cf4",
     "locked": false,
     "schema_version": 3,
     "solution": true,
     "task": false
    }
   },
   "outputs": [],
   "source": [
    "# include your code for task 3. here\n",
    "val_risk_2_5_non_norm = returns.quantile([.025])\n",
    "val_risk_2_5_non_norm"
   ]
  }
 ],
 "metadata": {
  "kernelspec": {
   "display_name": "Python 3",
   "language": "python",
   "name": "python3"
  },
  "language_info": {
   "codemirror_mode": {
    "name": "ipython",
    "version": 3
   },
   "file_extension": ".py",
   "mimetype": "text/x-python",
   "name": "python",
   "nbconvert_exporter": "python",
   "pygments_lexer": "ipython3",
   "version": "3.7.6"
  }
 },
 "nbformat": 4,
 "nbformat_minor": 2
}

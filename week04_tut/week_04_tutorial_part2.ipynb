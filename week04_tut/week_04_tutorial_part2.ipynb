{
 "cells": [
  {
   "cell_type": "markdown",
   "metadata": {},
   "source": [
    "# ISM Week 04 Tutorial Part 2\n",
    "\n",
    "This notebook will ask you questions very similar to the ones we worked through in week 02 and you can expect to see on the test this week. It will cover:\n",
    "\n",
    "* Variance\n",
    "* Standard Deviation\n",
    "* Skewness\n",
    "* Kurtosis"
   ]
  },
  {
   "cell_type": "code",
   "execution_count": 1,
   "metadata": {},
   "outputs": [],
   "source": [
    "# importing necessary libraries\n",
    "import pandas as pd\n",
    "import numpy as np"
   ]
  },
  {
   "cell_type": "markdown",
   "metadata": {},
   "source": [
    "### Question 3\n",
    "\n",
    "Consider the stock Anheuser-Busch InBev (the producer of the beer brand Corona) with closing prices starting at time 0 (this past February) over the next 4 months (March through June) as follows: 50, 40, 41, 42, 44\n",
    "\n",
    "Tasks:\n",
    "0. Re-Calculate as in Part 1 the monthly holding period returns (regular, not log returns). Name them inbev.\n",
    "1. Calculate the variance of the returns of stock A, name it var.\n",
    "2. Calculate the standard deviation of the returns of stock A, name it std.\n",
    "3. Calculate the skewness of the returns of stock A, name it skew.\n",
    "4. Calculate the kurtosis of the returns of stock A, name it kurt.\n",
    "\n",
    "Make sure you know how to interpret these numbers."
   ]
  },
  {
   "cell_type": "code",
   "execution_count": null,
   "metadata": {},
   "outputs": [],
   "source": [
    "# first your closing prices are saved in a pandas dataframe for you\n",
    "lst = [50, 40, 41, 42, 44]\n",
    "prices = pd.DataFrame(lst)\n",
    "prices"
   ]
  },
  {
   "cell_type": "code",
   "execution_count": null,
   "metadata": {
    "nbgrader": {
     "grade": false,
     "grade_id": "cell-4c7a69beffbcbcda",
     "locked": false,
     "schema_version": 3,
     "solution": true,
     "task": false
    }
   },
   "outputs": [],
   "source": [
    "# include your code for task 1. here\n"
   ]
  },
  {
   "cell_type": "code",
   "execution_count": null,
   "metadata": {
    "nbgrader": {
     "grade": false,
     "grade_id": "cell-28c5d6c906515adf",
     "locked": false,
     "schema_version": 3,
     "solution": true,
     "task": false
    }
   },
   "outputs": [],
   "source": [
    "# include your code for task 1. here\n"
   ]
  },
  {
   "cell_type": "code",
   "execution_count": null,
   "metadata": {
    "nbgrader": {
     "grade": false,
     "grade_id": "cell-2ff1f284adbe68e0",
     "locked": false,
     "schema_version": 3,
     "solution": true,
     "task": false
    }
   },
   "outputs": [],
   "source": [
    "# include your code for task 2. here\n"
   ]
  },
  {
   "cell_type": "code",
   "execution_count": null,
   "metadata": {
    "nbgrader": {
     "grade": false,
     "grade_id": "cell-ee827369b16e8f25",
     "locked": false,
     "schema_version": 3,
     "solution": true,
     "task": false
    }
   },
   "outputs": [],
   "source": [
    "# include your code for task 3. here\n"
   ]
  },
  {
   "cell_type": "code",
   "execution_count": null,
   "metadata": {
    "nbgrader": {
     "grade": false,
     "grade_id": "cell-98702e013c228887",
     "locked": false,
     "schema_version": 3,
     "solution": true,
     "task": false
    }
   },
   "outputs": [],
   "source": [
    "# include your code for task 4. here\n"
   ]
  }
 ],
 "metadata": {
  "kernelspec": {
   "display_name": "Python 3",
   "language": "python",
   "name": "python3"
  },
  "language_info": {
   "codemirror_mode": {
    "name": "ipython",
    "version": 3
   },
   "file_extension": ".py",
   "mimetype": "text/x-python",
   "name": "python",
   "nbconvert_exporter": "python",
   "pygments_lexer": "ipython3",
   "version": "3.7.6"
  }
 },
 "nbformat": 4,
 "nbformat_minor": 2
}

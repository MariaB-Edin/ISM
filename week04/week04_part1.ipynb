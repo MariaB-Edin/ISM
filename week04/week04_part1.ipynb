{
 "cells": [
  {
   "cell_type": "markdown",
   "metadata": {},
   "source": [
    "# ISM Lecture 3 continued in week 04 Part 1\n",
    "\n",
    "This content is authored by Maria Boutchkova for use in the University of Edinbugh Business School Investment and Securities Markets course in Autumn 2020. \n",
    "\n",
    "Make sure to have watched the videos preceeding this Notebook and have covered the slides. Detailed explanations in the assigned textbook chapters.\n",
    "\n",
    "This lesson covers:\n",
    "\n",
    "* Value-weighted Portfolio risk and return of N assets\n",
    "\n",
    "The first computational cell below (with In \\[ \\] in front) contains the solution. Go over the command lines, make sure they make sense to you, click inside the cell, it should become surrounded by a green rectangle, press Esc - the rectangle will become blue, now press Shift+Enter - this will execute the cell and produce the results beneath it.\n",
    "\n",
    "To remove all output in the notebook and start again, go to the Kernel tab above, select Restart and Clear Output.\n",
    "\n",
    "In this notebook we use the functionality of the pandas library. If you want to explore its full documetation, see [here](https://pandas.pydata.org/pandas-docs/stable/index.html).\n"
   ]
  },
  {
   "cell_type": "markdown",
   "metadata": {},
   "source": [
    "## Input data\n",
    "\n",
    "Now we are going to import two csv files with data on the S&P500 index: one of monthly prices (same as last week) and another one of market capitalizations (when a company has only one class of common stock and no preferred stock, mkt cap = stock price * number of shares outstanding).\n",
    "\n",
    "We shall form a value-weighted portfolio and compute its risk and return.\n",
    "\n",
    "In this example we have monthly adjusted closing prices of the stocks in the S&P500 index from December 2017 until end of September 2020 (34 monthly observations per stock). The original data is arranged with stocks down the rows and dates along the columns."
   ]
  },
  {
   "cell_type": "code",
   "execution_count": null,
   "metadata": {},
   "outputs": [],
   "source": [
    "# input a list of the prices on the portfolio components and save it as a panda series\n",
    "import pandas as pd\n",
    "prices_orig = pd.read_csv(\"SnP500_monthly.csv\", index_col=0)\n",
    "# transpose the data so that the stocks are in the columns and the dates are along the rows\n",
    "prices = prices_orig.transpose()\n",
    "prices.head(5)"
   ]
  },
  {
   "cell_type": "markdown",
   "metadata": {},
   "source": [
    "## Solved Problem 1: Forming a value-weighted portfolio and computing its average return and st. dev.\n",
    "\n",
    "Let us form a value-weighted portfolio of the US stocks and compute its expected return, variance and st. dev.\n",
    "\n",
    "The weights will be equal to the mkt cap of each stock over the total of the mkt cap of all stocks."
   ]
  },
  {
   "cell_type": "code",
   "execution_count": null,
   "metadata": {},
   "outputs": [],
   "source": [
    "mkt_cap = pd.read_csv(\"SnP500_mkt_cap.csv\", index_col=0)\n",
    "weights_v = mkt_cap / mkt_cap.sum()\n",
    "# name the column containing the weights to be called weights\n",
    "weights_v.columns = ['weights']\n",
    "weights_v.head(5)"
   ]
  },
  {
   "cell_type": "raw",
   "metadata": {
    "scrolled": true
   },
   "source": [
    "Now we need to compute the portfolio average return and variance. For this we need the average returns and variances of the individual securities."
   ]
  },
  {
   "cell_type": "code",
   "execution_count": null,
   "metadata": {},
   "outputs": [],
   "source": [
    "returns = prices / prices.shift(1) - 1\n",
    "# drop NaN-s\n",
    "returns = returns[1:]\n",
    "returns.head(5)"
   ]
  },
  {
   "cell_type": "code",
   "execution_count": null,
   "metadata": {},
   "outputs": [],
   "source": [
    "means = returns.mean()\n",
    "means.head(5)"
   ]
  },
  {
   "cell_type": "code",
   "execution_count": null,
   "metadata": {},
   "outputs": [],
   "source": [
    "vars = returns.var()\n",
    "vars.head(5)"
   ]
  },
  {
   "cell_type": "code",
   "execution_count": null,
   "metadata": {},
   "outputs": [],
   "source": [
    "port_ave_ret = means.mul(weights_v.weights).sum()\n",
    "port_ave_ret"
   ]
  },
  {
   "cell_type": "code",
   "execution_count": null,
   "metadata": {},
   "outputs": [],
   "source": [
    "# same thing using the numpy library instead\n",
    "import numpy as np\n",
    "port_exp_ret = np.sum(returns.mean()*weights_v.weights)\n",
    "port_exp_ret"
   ]
  },
  {
   "cell_type": "raw",
   "metadata": {},
   "source": [
    "For the portfolio variance we are going to use the numpy matrix multiplication function dot().\n",
    "\n",
    "Recall that matrix multiplication is element wise multiplication of each row and each column of two matrices with corresponding dimensions and then summing over these products to arrive at each element of the resulting matrix.\n",
    "\n",
    "And this is precisely what the formula for a portfolio variance is except all the products are also multiplied by their respective postfolio weights."
   ]
  },
  {
   "cell_type": "code",
   "execution_count": null,
   "metadata": {},
   "outputs": [],
   "source": [
    "cov = returns.cov()\n",
    "cov.head(5)"
   ]
  },
  {
   "cell_type": "code",
   "execution_count": null,
   "metadata": {},
   "outputs": [],
   "source": [
    "port_var = np.dot(weights_v.weights, np.dot(cov, weights_v.weights))\n",
    "port_var"
   ]
  },
  {
   "cell_type": "code",
   "execution_count": null,
   "metadata": {},
   "outputs": [],
   "source": [
    "port_std = port_var**(1/2)\n",
    "port_std"
   ]
  },
  {
   "cell_type": "markdown",
   "metadata": {},
   "source": [
    "## Practice Problem 1: Forming a value-weighted portfolio and computing its average return and st. dev.\n",
    "\n",
    "Let us form the value-weighted portfolio of the UK stocks and compute its expected return, variance and st. dev.\n",
    "\n",
    "The weights will be equal to the mkt cap of each stock over the total of the mkt cap of all stocks. The weights vector of the UK stocks is formed for you: weights_v_uk.\n",
    "\n",
    "Your task is to 1) compute the average return of the value-weighted UK portfolio; 2) compute the variance of the value-weighted UK portfolio and 3) compute the standard deviation of the value-weighted UK portfolio. Name everything _uk."
   ]
  },
  {
   "cell_type": "code",
   "execution_count": null,
   "metadata": {},
   "outputs": [],
   "source": [
    "prices_orig_uk = pd.read_csv(\"FTSE100_250_monthly.csv\", index_col=0)\n",
    "# transpose the data so that the stocks are in the columns and the dates are along the rows\n",
    "prices_uk = prices_orig_uk.transpose()\n",
    "prices_uk.head(5)"
   ]
  },
  {
   "cell_type": "code",
   "execution_count": null,
   "metadata": {},
   "outputs": [],
   "source": [
    "mkt_cap = pd.read_csv(\"FTSE100_250_mkt_cap.csv\", index_col=0)\n",
    "weights_v_uk = mkt_cap / mkt_cap.sum()\n",
    "# name the column containing the weights to be called weights\n",
    "weights_v_uk.columns = ['weights']\n",
    "weights_v_uk.head(5)"
   ]
  },
  {
   "cell_type": "raw",
   "metadata": {},
   "source": [
    "Now you practice computing returns, average returns, variances and the var-cov matrix for the component stocks and finally the portfolio average return, variance and st. dev."
   ]
  },
  {
   "cell_type": "code",
   "execution_count": null,
   "metadata": {},
   "outputs": [],
   "source": [
    "# compute returns_uk\n",
    "\n",
    "# drop NaN-s\n"
   ]
  },
  {
   "cell_type": "code",
   "execution_count": null,
   "metadata": {},
   "outputs": [],
   "source": [
    "# compute means_uk\n"
   ]
  },
  {
   "cell_type": "code",
   "execution_count": null,
   "metadata": {},
   "outputs": [],
   "source": [
    "# compute vars_uk\n"
   ]
  },
  {
   "cell_type": "code",
   "execution_count": null,
   "metadata": {},
   "outputs": [],
   "source": [
    "# compute cov_uk\n"
   ]
  },
  {
   "cell_type": "code",
   "execution_count": null,
   "metadata": {},
   "outputs": [],
   "source": [
    "# compute port_ave_ret_uk\n"
   ]
  },
  {
   "cell_type": "code",
   "execution_count": null,
   "metadata": {},
   "outputs": [],
   "source": [
    "# compute port_var_uk\n"
   ]
  },
  {
   "cell_type": "code",
   "execution_count": null,
   "metadata": {},
   "outputs": [],
   "source": [
    "# compute port_std_uk\n"
   ]
  },
  {
   "cell_type": "markdown",
   "metadata": {},
   "source": [
    "## Solved Problem 2: Plotting different portfolios on the expected return - st. dev. coordinate system.\n",
    "Recall that we use the average reurn as an estimate of the expected return.\n",
    "\n",
    "Let us graph the value-weighted US portfolio we computed just now and the equally-weighted one from last week. First we recompute quickly the equally-weighted one here and name the new outputs _eq."
   ]
  },
  {
   "cell_type": "code",
   "execution_count": null,
   "metadata": {},
   "outputs": [],
   "source": [
    "# declate a list of 500 elements each equal to 1/500\n",
    "lst = [1/500]*500\n",
    "# make it into a dataframe\n",
    "weights_eq = pd.DataFrame(lst)\n",
    "# name the column containing the weights to be called weights\n",
    "weights_eq.columns = ['weights']\n",
    "# do the transposing gymnastics\n",
    "aux = weights_eq.T\n",
    "# take the stock id-s from the returns dataframe and put them in a list called lst\n",
    "lst = list(returns.columns.values)\n",
    "# assign the id-s in lst to be the header of the weights\n",
    "aux.columns = lst\n",
    "weights_eq = aux.T\n",
    "# calculate the equally-weighted portfolio average return, var and st. dev.\n",
    "port_ave_ret_eq = means.mul(weights_eq.weights).sum()\n",
    "port_var_eq = np.dot(weights_eq.weights, np.dot(cov, weights_eq.weights))\n",
    "port_std_eq = port_var_eq**(1/2)\n",
    "port_std_eq"
   ]
  },
  {
   "cell_type": "code",
   "execution_count": null,
   "metadata": {},
   "outputs": [],
   "source": [
    "import matplotlib.pyplot as plt\n",
    "%matplotlib inline\n",
    "\n",
    "plt.scatter(port_std_eq, port_ave_ret_eq, c='b', marker='x', label='Equally-weighted')\n",
    "plt.scatter(port_std, port_ave_ret, c='r', marker='+', label='Value-weighted')\n",
    "plt.legend(loc='upper right')\n",
    "\n",
    "# add axes labels\n",
    "plt.xlabel('Sigma')\n",
    "plt.ylabel('E(R)')\n",
    "\n",
    "# add title\n",
    "plt.title('S&P500 Portfolios');\n",
    "\n",
    "# control axes ranges\n",
    "plt.xlim(0, .1)\n",
    "plt.ylim(0, .1)\n",
    "\n",
    "\n",
    "plt.show()"
   ]
  },
  {
   "cell_type": "markdown",
   "metadata": {},
   "source": [
    "## Practice Problem 2: Plotting different portfolios on the expected return - st. dev. coordinate system.\n",
    "\n",
    "Graph the value-weighted UK portfolio you computed just now and the equally-weighted one from last week. First we recompute quickly the equally-weighted one here and name the new outputs _eq."
   ]
  },
  {
   "cell_type": "code",
   "execution_count": null,
   "metadata": {},
   "outputs": [],
   "source": [
    "# declate a list of 500 elements each equal to 1/500\n",
    "lst = [1/350]*350\n",
    "# make it into a dataframe\n",
    "weights_eq_uk = pd.DataFrame(lst)\n",
    "# name the column containing the weights to be called weights\n",
    "weights_eq_uk.columns = ['weights']\n",
    "# do the transposing gymnastics\n",
    "aux = weights_eq_uk.T\n",
    "lst = list(returns_uk.columns.values)\n",
    "aux.columns = lst\n",
    "weights_eq_uk = aux.T\n",
    "# calculate the equally-weighted portfolio average return, var and st. dev.\n",
    "\n"
   ]
  },
  {
   "cell_type": "code",
   "execution_count": null,
   "metadata": {},
   "outputs": [],
   "source": [
    "# construct the new plot\n",
    "\n",
    "\n",
    "# add axes labels\n",
    "\n",
    "\n",
    "# add title\n",
    "\n",
    "\n",
    "# control axes ranges\n",
    "\n",
    "\n",
    "# show the new plot\n",
    "\n"
   ]
  },
  {
   "cell_type": "markdown",
   "metadata": {},
   "source": [
    "## Extra\n",
    "\n",
    "This is how we can graph both the US and UK index constituents."
   ]
  },
  {
   "cell_type": "code",
   "execution_count": null,
   "metadata": {},
   "outputs": [],
   "source": [
    "# compute the st dev-s of each group and save\n",
    "std = returns.std()\n",
    "std_uk = returns_uk.std()\n",
    "\n",
    "### import matplotlib's plotting functions\n",
    "import matplotlib.pyplot as plt\n",
    "%matplotlib inline\n",
    "\n",
    "plt.scatter(std, means, c='b', marker='x', label='S&P500')\n",
    "plt.scatter(std_uk, means_uk, c='r', marker='+', label='FTSE100&250')\n",
    "plt.legend(loc='upper right')\n",
    "\n",
    "# add axes labels\n",
    "plt.xlabel('Sigma')\n",
    "plt.ylabel('E(R)')\n",
    "\n",
    "# add title\n",
    "plt.title('S&P500 and FTSE100&250 Constituents Monthly E(R) and St. Dev-s since Jan. 2018');\n",
    "\n",
    "# control axes ranges\n",
    "#plt.xlim(0, .3)\n",
    "#plt.ylim(-.05, .1)\n",
    "\n",
    "plt.show()"
   ]
  },
  {
   "cell_type": "code",
   "execution_count": null,
   "metadata": {},
   "outputs": [],
   "source": [
    "# create figure, axes object - empty\n",
    "fig1, ax1 = plt.subplots()"
   ]
  }
 ],
 "metadata": {
  "kernelspec": {
   "display_name": "Python 3",
   "language": "python",
   "name": "python3"
  },
  "language_info": {
   "codemirror_mode": {
    "name": "ipython",
    "version": 3
   },
   "file_extension": ".py",
   "mimetype": "text/x-python",
   "name": "python",
   "nbconvert_exporter": "python",
   "pygments_lexer": "ipython3",
   "version": "3.7.6"
  },
  "pycharm": {
   "stem_cell": {
    "cell_type": "raw",
    "metadata": {
     "collapsed": false
    },
    "source": [
     "\n"
    ]
   }
  }
 },
 "nbformat": 4,
 "nbformat_minor": 1
}

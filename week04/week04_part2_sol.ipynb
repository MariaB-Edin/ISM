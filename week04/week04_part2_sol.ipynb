{
 "cells": [
  {
   "cell_type": "markdown",
   "metadata": {},
   "source": [
    "# ISM Lecture 3 continued in week 04 Part 2 Solutions\n",
    "\n",
    "This content is authored by Maria Boutchkova for use in the University of Edinbugh Business School Investment and Securities Markets course in Autumn 2020. \n",
    "\n",
    "Make sure to have watched the videos preceeding this Notebook and have covered the slides. Detailed explanations in the assigned textbook chapters.\n",
    "\n",
    "This lesson covers:\n",
    "\n",
    "* Portfolio risk and return of 2 assets\n",
    "\n",
    "The first computational cell below (with In \\[ \\] in front) contains the solution. Go over the command lines, make sure they make sense to you, click inside the cell, it should become surrounded by a green rectangle, press Esc - the rectangle will become blue, now press Shift+Enter - this will execute the cell and produce the results beneath it.\n",
    "\n",
    "To remove all output in the notebook and start again, go to the Kernel tab above, select Restart and Clear Output.\n",
    "\n",
    "In this notebook we use the functionality of the pandas library. If you want to explore its full documetation, see [here](https://pandas.pydata.org/pandas-docs/stable/index.html).\n"
   ]
  },
  {
   "cell_type": "markdown",
   "metadata": {},
   "source": [
    "## Solved Problem 1: 2-asset portfolios average return and st. dev. under rho = 1\n",
    "\n",
    "We are given 2 stocks in Lecture 3 Part 2: Colonel Motors (C) and Separated Edison (S) with their corresponsing exp returns and st dev-s: C: E(R) = .14 sigma = .06; S: E(R) = .08 sigma = .03\n",
    "\n",
    "We are going to graph the possible portfolios consisting of these two assets under different value for the covariance between them. We start with the two assets being perfectly positively correlated.\n",
    "\n",
    "A portfolio expected return is the weighted average of the expected returns of the constituent assets.\n",
    "Let us define a list of weights for the first asset ranging for .1 to .9 with the remainder to 1 in the other asset."
   ]
  },
  {
   "cell_type": "code",
   "execution_count": null,
   "metadata": {},
   "outputs": [],
   "source": [
    "import pandas as pd\n",
    "lst1 = list(range(1,10,1))\n",
    "lst2 = pd.DataFrame(lst1)\n",
    "weights_c = lst2/10\n",
    "weights_c"
   ]
  },
  {
   "cell_type": "code",
   "execution_count": null,
   "metadata": {},
   "outputs": [],
   "source": [
    "# declare the exp returns and sigmas of the two assets\n",
    "exp_ret_c = .14\n",
    "sig_c = .06\n",
    "exp_ret_s = .08\n",
    "sig_s = .03\n",
    "\n",
    "# calculate the expected returns of 9 portfolios corresponding to each weight in weights_c, \n",
    "# for example the first portfolio will have .1 in C and .9 in S\n",
    "port_ex_ret = weights_c*exp_ret_c + (1-weights_c)*exp_ret_s\n",
    "port_ex_ret"
   ]
  },
  {
   "cell_type": "code",
   "execution_count": null,
   "metadata": {},
   "outputs": [],
   "source": [
    "# calculate the st dev of 9 portfolios corresponding to each weight in weights_c when rho = 1\n",
    "port_sig_1 = ((weights_c*sig_c)**2 + ((1-weights_c)*sig_s)**2 + 2*weights_c*(1-weights_c)*sig_c*sig_s)**(1/2)\n",
    "port_sig_1"
   ]
  },
  {
   "cell_type": "code",
   "execution_count": null,
   "metadata": {},
   "outputs": [],
   "source": [
    "# now when rho = 0\n",
    "port_sig_0 = ((weights_c*sig_c)**2 + ((1-weights_c)*sig_s)**2)**(1/2)\n",
    "port_sig_0"
   ]
  },
  {
   "cell_type": "code",
   "execution_count": null,
   "metadata": {},
   "outputs": [],
   "source": [
    "# now when rho = -1 we have 2 strands of the porfolio variance function:\n",
    "# one for 0 <= weight_c <= sig_s/(sig_s + sig_c)\n",
    "# and another for sig_s/(sig_s + sig_c) <= weight_c <= 1\n",
    "\n",
    "# define an auxiliary container for the first strand\n",
    "aux = (1-weights_c)*sig_s - weights_c*sig_c\n",
    "# define the 2nd strand but not simplified, keep the square and square root so as it produceds NaN when the base is negative\n",
    "port_sig_neg1 = ((weights_c*sig_c)**2 + ((1-weights_c)*sig_s)**2 - 2*weights_c*(1-weights_c)*sig_c*sig_s)**(1/2)\n",
    "port_sig_neg1 = port_sig_neg1.fillna(aux)\n",
    "port_sig_neg1"
   ]
  },
  {
   "cell_type": "code",
   "execution_count": null,
   "metadata": {},
   "outputs": [],
   "source": [
    "import matplotlib.pyplot as plt\n",
    "%matplotlib inline\n",
    "\n",
    "plt.scatter(port_sig_1, port_ex_ret, c='b', marker='x', label='Rho=1')\n",
    "plt.scatter(port_sig_0, port_ex_ret, c='g', marker='x', label='Rho=0')\n",
    "plt.scatter(port_sig_neg1, port_ex_ret, c='r', marker='x', label='Rho=-1')\n",
    "plt.scatter(sig_c, exp_ret_c, c='k', marker='o', label='C')\n",
    "plt.scatter(sig_s, exp_ret_s, c='k', marker='s', label='S')\n",
    "\n",
    "plt.legend(loc='lower right')\n",
    "\n",
    "# add axes labels\n",
    "plt.xlabel('Sigma')\n",
    "plt.ylabel('E(R)')\n",
    "\n",
    "# add title\n",
    "plt.title('Portfolios of 2 assets: C and S');\n",
    "\n",
    "# control axes ranges\n",
    "plt.xlim(0, .08)\n",
    "plt.ylim(0, .16)\n",
    "\n",
    "\n",
    "plt.show()"
   ]
  },
  {
   "cell_type": "markdown",
   "metadata": {},
   "source": [
    "## Practice Problem 1: 2-asset portfolios average return and st. dev. under different correlations\n",
    "\n",
    "Practice performing all the steps above for another 2 stocks: A and B with their corresponsing exp returns and st dev-s:\n",
    "A: E(R) = .04 sigma = .12; B: E(R) = .02 sigma = .06\n",
    "\n",
    "Use the same vector weights_c as above. Name all outputs _ab."
   ]
  },
  {
   "cell_type": "code",
   "execution_count": null,
   "metadata": {},
   "outputs": [],
   "source": [
    "# declare the exp returns and sigmas of the two assets\n",
    "exp_ret_a = .04\n",
    "sig_a = .12\n",
    "exp_ret_b = .02\n",
    "sig_b = .06\n",
    "\n",
    "# calculate the expected returns of 9 portfolios corresponding to each weight in weights_c\n",
    "port_ex_ret_ab = weights_c*exp_ret_a + (1-weights_c)*exp_ret_b\n",
    "port_ex_ret_ab"
   ]
  },
  {
   "cell_type": "code",
   "execution_count": null,
   "metadata": {},
   "outputs": [],
   "source": [
    "# calculate the st dev when rho = 1\n",
    "port_sig_1_ab = ((weights_c*sig_a)**2 + ((1-weights_c)*sig_b)**2 + 2*weights_c*(1-weights_c)*sig_a*sig_b)**(1/2)\n",
    "port_sig_1_ab"
   ]
  },
  {
   "cell_type": "code",
   "execution_count": null,
   "metadata": {},
   "outputs": [],
   "source": [
    "# now when rho = 0\n",
    "port_sig_0_ab = ((weights_c*sig_a)**2 + ((1-weights_c)*sig_b)**2)**(1/2)\n",
    "port_sig_0_ab"
   ]
  },
  {
   "cell_type": "code",
   "execution_count": null,
   "metadata": {},
   "outputs": [],
   "source": [
    "# now when rho = -1 we have 2 strands of the porfolio variance function:\n",
    "# one for 0 <= weight_c <= sig_s/(sig_s + sig_c)\n",
    "# and another for sig_s/(sig_s + sig_c) <= weight_c <= 1\n",
    "\n",
    "# define an auxiliary container for the first strand\n",
    "aux = (1-weights_c)*sig_a - weights_c*sig_b\n",
    "# define the 2nd strand but not simplified, keep the square and square root so as it produceds NaN when the base is negative\n",
    "port_sig_neg1_ab = ((weights_c*sig_a)**2 + ((1-weights_c)*sig_b)**2 - 2*weights_c*(1-weights_c)*sig_a*sig_b)**(1/2)\n",
    "port_sig_neg1_ab = port_sig_neg1_ab.fillna(aux)\n",
    "port_sig_neg1_ab"
   ]
  },
  {
   "cell_type": "code",
   "execution_count": null,
   "metadata": {},
   "outputs": [],
   "source": [
    "# now produce the plot - import matplotlib.pyplot as ab instead of plt\n",
    "# adjust all titles and contaner names accordingly\n",
    "\n",
    "import matplotlib.pyplot as ab\n",
    "%matplotlib inline\n",
    "\n",
    "ab.scatter(port_sig_1_ab, port_ex_ret_ab, c='b', marker='x', label='Rho=1')\n",
    "ab.scatter(port_sig_0_ab, port_ex_ret_ab, c='g', marker='x', label='Rho=0')\n",
    "ab.scatter(port_sig_neg1_ab, port_ex_ret_ab, c='r', marker='x', label='Rho=-1')\n",
    "ab.scatter(sig_a, exp_ret_a, c='k', marker='o', label='A')\n",
    "ab.scatter(sig_b, exp_ret_b, c='k', marker='s', label='B')\n",
    "\n",
    "ab.legend(loc='lower right')\n",
    "\n",
    "# add axes labels\n",
    "ab.xlabel('Sigma')\n",
    "ab.ylabel('E(R)')\n",
    "\n",
    "# add title\n",
    "ab.title('Portfolios of 2 assets: A and B');\n",
    "\n",
    "# control axes ranges\n",
    "ab.xlim(0, .12)\n",
    "ab.ylim(0, .05)\n",
    "\n",
    "ab.show()"
   ]
  }
 ],
 "metadata": {
  "kernelspec": {
   "display_name": "Python 3",
   "language": "python",
   "name": "python3"
  },
  "language_info": {
   "codemirror_mode": {
    "name": "ipython",
    "version": 3
   },
   "file_extension": ".py",
   "mimetype": "text/x-python",
   "name": "python",
   "nbconvert_exporter": "python",
   "pygments_lexer": "ipython3",
   "version": "3.7.6"
  },
  "pycharm": {
   "stem_cell": {
    "cell_type": "raw",
    "metadata": {
     "collapsed": false
    },
    "source": [
     "\n"
    ]
   }
  }
 },
 "nbformat": 4,
 "nbformat_minor": 1
}

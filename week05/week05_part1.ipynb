{
 "cells": [
  {
   "cell_type": "markdown",
   "metadata": {},
   "source": [
    "# ISM Lecture 4 week 05 Part 1\n",
    "\n",
    "This content is authored by Maria Boutchkova for use in the University of Edinbugh Business School Investment and Securities Markets course in Autumn 2020. \n",
    "\n",
    "Make sure to have watched the videos preceeding this Notebook and have covered the slides. Detailed explanations in the assigned textbook chapters.\n",
    "\n",
    "This lesson covers:\n",
    "\n",
    "* Value-weighted Portfolio risk and return of N assets\n",
    "\n",
    "The first computational cell below (with In \\[ \\] in front) contains the solution. Go over the command lines, make sure they make sense to you, click inside the cell, it should become surrounded by a green rectangle, press Esc - the rectangle will become blue, now press Shift+Enter - this will execute the cell and produce the results beneath it.\n",
    "\n",
    "To remove all output in the notebook and start again, go to the Kernel tab above, select Restart and Clear Output.\n",
    "\n",
    "In this notebook we use the functionality of the pandas library. If you want to explore its full documetation, see [here](https://pandas.pydata.org/pandas-docs/stable/index.html).\n"
   ]
  },
  {
   "cell_type": "markdown",
   "metadata": {},
   "source": [
    "## Input data\n",
    "\n",
    "This week we shall be running a regression for the first time. The data we need are two series: one og an individual stock and one of the market index.\n",
    "\n",
    "In this example we have monthly adjusted closing prices of the S&P500 index from December 1994 until end of September 2020 (can you estimate how many monthly observations), prices of Nike and 3-month Treasury bill rate (proxy for the risk-free rate). The original data is arranged with dates down the rows and the stock, indexS and T-bill along the columns."
   ]
  },
  {
   "cell_type": "code",
   "execution_count": null,
   "metadata": {},
   "outputs": [],
   "source": [
    "# input a list of the prices on the portfolio components and save it as a panda series\n",
    "import pandas as pd\n",
    "data = pd.read_csv(\"mkt_model_nike.csv\")\n",
    "data.head(5)"
   ]
  },
  {
   "cell_type": "markdown",
   "metadata": {},
   "source": [
    "## Solved Problem 1: Regressing excess return of a single asset on the excess return of the market index\n",
    "\n",
    "Rearrange the data in excess returns and run the regression using the statsmodels.formula.api library."
   ]
  },
  {
   "cell_type": "code",
   "execution_count": null,
   "metadata": {},
   "outputs": [],
   "source": [
    "# let us take the dates and save them as a header\n",
    "header = data.date\n",
    "# now let us save each column as a separate vector\n",
    "nike = data.nike\n",
    "nike.index = header\n",
    "snp = data.snp\n",
    "snp.index = header\n",
    "t_bill = data.t_bill_perc/100\n",
    "t_bill.index = header"
   ]
  },
  {
   "cell_type": "code",
   "execution_count": null,
   "metadata": {},
   "outputs": [],
   "source": [
    "# now lets compute the returns\n",
    "nike_ret = nike / nike.shift(1) - 1\n",
    "snp_ret = snp / snp.shift(1) - 1"
   ]
  },
  {
   "cell_type": "code",
   "execution_count": null,
   "metadata": {},
   "outputs": [],
   "source": [
    "# now - the excess returns\n",
    "nike_ex_ret = nike_ret - t_bill\n",
    "snp_ex_ret = snp_ret - t_bill"
   ]
  },
  {
   "cell_type": "code",
   "execution_count": null,
   "metadata": {},
   "outputs": [],
   "source": [
    "# now we are going to put the two excess returns next to each other in the same dataframe\n",
    "nike_snp_ex_ret = pd.concat([nike_ex_ret, snp_ex_ret], axis=1)\n",
    "# add column labels\n",
    "nike_snp_ex_ret.columns = ['nike','snp']\n",
    "# and drop the NaN row\n",
    "nike_snp_ex_ret = nike_snp_ex_ret[1:]\n",
    "nike_snp_ex_ret.head()"
   ]
  },
  {
   "cell_type": "code",
   "execution_count": null,
   "metadata": {},
   "outputs": [],
   "source": [
    "# we need to import a library for running regressions\n",
    "import statsmodels.formula.api as sm\n",
    "# the regression results are saved in the new container called result\n",
    "# the function we use from the sm library is ols()\n",
    "result = sm.ols(formula=\"nike ~ snp\", data=nike_snp_ex_ret).fit()\n",
    "# show results\n",
    "result.summary()"
   ]
  },
  {
   "cell_type": "code",
   "execution_count": null,
   "metadata": {},
   "outputs": [],
   "source": [
    "# we first use a special plotting library - seaborn specifically for visuallizing regression fits\n",
    "import seaborn as sns\n",
    "# simple scatter with linear fit\n",
    "sns.regplot(x='snp',y='nike',data=nike_snp_ex_ret,fit_reg=True) "
   ]
  },
  {
   "cell_type": "code",
   "execution_count": null,
   "metadata": {},
   "outputs": [],
   "source": [
    "# extra - not required for class\n",
    "# a bit of advanced syntax to show the regression equation as a legend\n",
    "\n",
    "# we save the estimated intercept and slope coefficients in new variables to use below for the graph\n",
    "slope = result.params.snp\n",
    "intercept = result.params.Intercept\n",
    "\n",
    "# we need matplotlib.pyplot is familiar from last week for python plots\n",
    "import matplotlib.pyplot as plt\n",
    "\n",
    "# produce graph and show\n",
    "graph = sns.regplot(x='snp',y='nike',data=nike_snp_ex_ret,fit_reg=True,line_kws={'label':\"nike={0:.3f}snp+{1:.3f}\".format(slope,intercept)}) \n",
    "graph.legend()\n",
    "plt.show()"
   ]
  },
  {
   "cell_type": "markdown",
   "metadata": {},
   "source": [
    "## Practice Problem 1: Regressing excess return of a single asset on the excess return of the market index\n",
    "\n",
    "Do the same steps as we did with Nike above but with TJX. The data file is in the week05 folder for you and is named mkt_model_tjx.csv. the columns are named the same as with the solved example except tjx. Note that all calculations pertaining to snp and t_bill are all available from the solved problem."
   ]
  },
  {
   "cell_type": "code",
   "execution_count": null,
   "metadata": {},
   "outputs": [],
   "source": [
    "# input a list of the prices on the portfolio components and save it as a panda series\n",
    "data = pd.read_csv(\"mkt_model_tjx.csv\")\n",
    "data.head(5)"
   ]
  },
  {
   "cell_type": "code",
   "execution_count": null,
   "metadata": {},
   "outputs": [],
   "source": [
    "# take the dates and save them as a header\n",
    "header = data.date\n",
    "# now let us save each column as a separate vector\n",
    "tjx= data.tjx\n",
    "tjx.index = header"
   ]
  },
  {
   "cell_type": "code",
   "execution_count": null,
   "metadata": {},
   "outputs": [],
   "source": [
    "# now lets compute the returns of tjx\n"
   ]
  },
  {
   "cell_type": "code",
   "execution_count": null,
   "metadata": {},
   "outputs": [],
   "source": [
    "# now - the excess returns\n"
   ]
  },
  {
   "cell_type": "code",
   "execution_count": null,
   "metadata": {},
   "outputs": [],
   "source": [
    "# now we are going to put the two excess returns next to each other in the same dataframe\n",
    "tjx_snp_ex_ret = pd.concat([tjx_ex_ret, snp_ex_ret], axis=1)\n",
    "# add column labels\n",
    "tjx_snp_ex_ret.columns = ['tjx','snp']\n",
    "# and drop the NaN row\n",
    "tjx_snp_ex_ret = tjx_snp_ex_ret[1:]\n",
    "tjx_snp_ex_ret.head()"
   ]
  },
  {
   "cell_type": "code",
   "execution_count": null,
   "metadata": {},
   "outputs": [],
   "source": [
    "# run the regression, save the result in res_tjx\n",
    "\n",
    "\n",
    "# show results\n",
    "\n"
   ]
  },
  {
   "cell_type": "code",
   "execution_count": null,
   "metadata": {},
   "outputs": [],
   "source": [
    "# simple scatter with linear fit using seaborn\n"
   ]
  },
  {
   "cell_type": "code",
   "execution_count": null,
   "metadata": {},
   "outputs": [],
   "source": [
    "# extra - not required for class\n",
    "\n",
    "\n",
    "# we save the estimated intercept and slope coefficients in new variables to use below for the graph\n",
    "\n",
    "\n",
    "# show the regression equation as a legend on the graph\n",
    "\n"
   ]
  },
  {
   "cell_type": "code",
   "execution_count": null,
   "metadata": {},
   "outputs": [],
   "source": []
  }
 ],
 "metadata": {
  "kernelspec": {
   "display_name": "Python 3",
   "language": "python",
   "name": "python3"
  },
  "language_info": {
   "codemirror_mode": {
    "name": "ipython",
    "version": 3
   },
   "file_extension": ".py",
   "mimetype": "text/x-python",
   "name": "python",
   "nbconvert_exporter": "python",
   "pygments_lexer": "ipython3",
   "version": "3.7.6"
  }
 },
 "nbformat": 4,
 "nbformat_minor": 4
}
